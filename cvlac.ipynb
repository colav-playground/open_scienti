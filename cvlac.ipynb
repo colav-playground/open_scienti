{
 "cells": [
  {
   "cell_type": "code",
   "execution_count": 1,
   "metadata": {},
   "outputs": [],
   "source": [
    "import pickle\n",
    "import requests\n",
    "from bs4 import BeautifulSoup\n",
    "import pandas as pd\n",
    "import re\n",
    "import time"
   ]
  },
  {
   "cell_type": "markdown",
   "metadata": {},
   "source": [
    "Check https://www.datos.gov.co/resource/33dq-ab5a.json?id_persona_pd=0000000004"
   ]
  },
  {
   "cell_type": "code",
   "execution_count": 2,
   "metadata": {},
   "outputs": [],
   "source": [
    "data=pickle.load(open(\"data/ID_PERSONA_PD.pb\",\"rb\"))"
   ]
  },
  {
   "cell_type": "code",
   "execution_count": 3,
   "metadata": {},
   "outputs": [],
   "source": [
    "data= [str(x).zfill(10) for x in data]"
   ]
  },
  {
   "cell_type": "code",
   "execution_count": 4,
   "metadata": {},
   "outputs": [
    {
     "data": {
      "text/plain": [
       "79679"
      ]
     },
     "execution_count": 4,
     "metadata": {},
     "output_type": "execute_result"
    }
   ],
   "source": [
    "len(data)"
   ]
  },
  {
   "cell_type": "code",
   "execution_count": 5,
   "metadata": {},
   "outputs": [],
   "source": [
    "data=sorted(list(set(data)))"
   ]
  },
  {
   "cell_type": "code",
   "execution_count": 6,
   "metadata": {},
   "outputs": [
    {
     "data": {
      "text/plain": [
       "62784"
      ]
     },
     "execution_count": 6,
     "metadata": {},
     "output_type": "execute_result"
    }
   ],
   "source": [
    "len(data)"
   ]
  },
  {
   "cell_type": "code",
   "execution_count": 7,
   "metadata": {},
   "outputs": [],
   "source": [
    "RESTORE=False\n",
    "if RESTORE:\n",
    "    df=pd.read_json('cvlac_bak.json',dtype={'ID_PERSONA_PD':str})\n",
    "    for start in range(len(data)):\n",
    "        if data[start]==df.iloc[-1]['ID_PERSONA_PD']:\n",
    "            break    \n",
    "else:\n",
    "    start=-1\n",
    "    df=pd.DataFrame()"
   ]
  },
  {
   "cell_type": "code",
   "execution_count": 9,
   "metadata": {},
   "outputs": [
    {
     "data": {
      "text/plain": [
       "-1"
      ]
     },
     "execution_count": 9,
     "metadata": {},
     "output_type": "execute_result"
    }
   ],
   "source": [
    "start"
   ]
  },
  {
   "cell_type": "markdown",
   "metadata": {},
   "source": [
    "Test"
   ]
  },
  {
   "cell_type": "code",
   "execution_count": 11,
   "metadata": {},
   "outputs": [
    {
     "name": "stderr",
     "output_type": "stream",
     "text": [
      "/usr/lib/python3/dist-packages/urllib3/connectionpool.py:1015: InsecureRequestWarning: Unverified HTTPS request is being made to host 'scienti.minciencias.gov.co'. Adding certificate verification is strongly advised. See: https://urllib3.readthedocs.io/en/latest/advanced-usage.html#ssl-warnings\n",
      "  warnings.warn(\n"
     ]
    }
   ],
   "source": [
    "scienti='https://scienti.minciencias.gov.co/cvlac/visualizador/generarCurriculoCv.do?cod_rh='\n",
    "#for cvlac in data[start+1:]:\n",
    "if True:\n",
    "    cvlac='0000893390'\n",
    "    url=f'{scienti}{cvlac}'\n",
    "\n",
    "    dd={'ID_PERSONA_PD':cvlac}\n",
    "\n",
    "    r=requests.get(url,verify=False)\n",
    "\n",
    "assert r.status_code==200"
   ]
  },
  {
   "cell_type": "code",
   "execution_count": 9,
   "metadata": {},
   "outputs": [
    {
     "name": "stdout",
     "output_type": "stream",
     "text": [
      "61235\r"
     ]
    }
   ],
   "source": [
    "#cvlac='0000893390'\n",
    "#cvlac='0000000000'\n",
    "#cvlac='0000000004'\n",
    "\n",
    "scienti='https://scienti.minciencias.gov.co/cvlac/visualizador/generarCurriculoCv.do?cod_rh='\n",
    "for cvlac in data[start+1:]:\n",
    "    url=f'{scienti}{cvlac}'\n",
    "\n",
    "    dd={'ID_PERSONA_PD':cvlac}\n",
    "\n",
    "    try:\n",
    "        r=requests.get(url,verify=False)\n",
    "    except:\n",
    "        continue\n",
    "\n",
    "    if not r.text:\n",
    "        continue\n",
    "\n",
    "    soup = BeautifulSoup(r.text, 'lxml') # Parse the HTML as a string\n",
    "    tables = soup.find_all('table')\n",
    "\n",
    "    #1: Full names\n",
    "    if len(tables)>2:\n",
    "        t=tables[1]\n",
    "    else:\n",
    "        dd['Nombre']=''\n",
    "        continue\n",
    "\n",
    "    tr=pd.read_html( t.decode() )[0].to_dict(orient='records')\n",
    "\n",
    "    for d in tr:\n",
    "        if d and isinstance( d.get(0),str) and isinstance( d.get(1),str):\n",
    "            dd[d.get(0)]=d.get(1).replace('\\xa0', ' ')\n",
    "        else:\n",
    "            continue\n",
    "\n",
    "    #2. Academic Social Networks  and authors Ids\n",
    "    t=tables[2]\n",
    "\n",
    "    #2.a) Academic Social Networks (Google Scholar) \n",
    "    next=2\n",
    "    try:\n",
    "        ids=t.find_all('h3')[0].text\n",
    "    except:\n",
    "        ids=''\n",
    "    if ids=='Redes sociales académicas':\n",
    "        next=3\n",
    "        l=t.find_all('a')\n",
    "        for x in l:\n",
    "            try:\n",
    "                dd[x.text.split(' (')[0]]=x['href']\n",
    "            except:\n",
    "                continue\n",
    "    #2.b) authors Ids (ORCID, Scopus, ...)\n",
    "    try:\n",
    "        t=tables[next]\n",
    "    except:\n",
    "        continue\n",
    "                \n",
    "    try:\n",
    "        ids=t.find_all('h3')[0].text\n",
    "    except:\n",
    "        ids=''\n",
    "    if ids=='Identificadores de autor':\n",
    "        l=t.find_all('a')\n",
    "        for x in l:\n",
    "            try:\n",
    "                dd[re.search('\\(([\\w]+)\\)', x.text).groups()[0]]=x['href']\n",
    "            except:\n",
    "                continue\n",
    "                \n",
    "    #Store date\n",
    "    df=df.append(dd,ignore_index=True)\n",
    "    print(str( df.shape[0] ).zfill(5),end='\\r')\n",
    "    if df.shape[0]%100==0:\n",
    "        df.to_json('cvlac.json',orient='records')\n",
    "    time.sleep(0.3)\n",
    "df.to_json('cvlac.json',orient='records')"
   ]
  },
  {
   "cell_type": "code",
   "execution_count": null,
   "metadata": {},
   "outputs": [],
   "source": [
    "pd.DataFrame(lcvl)"
   ]
  },
  {
   "cell_type": "markdown",
   "metadata": {},
   "source": [
    "API: "
   ]
  },
  {
   "cell_type": "markdown",
   "metadata": {},
   "source": [
    "Investigadores"
   ]
  },
  {
   "cell_type": "code",
   "execution_count": 1,
   "metadata": {},
   "outputs": [],
   "source": [
    "import pandas as pd"
   ]
  },
  {
   "cell_type": "code",
   "execution_count": 9,
   "metadata": {},
   "outputs": [
    {
     "data": {
      "text/html": [
       "<div>\n",
       "<style scoped>\n",
       "    .dataframe tbody tr th:only-of-type {\n",
       "        vertical-align: middle;\n",
       "    }\n",
       "\n",
       "    .dataframe tbody tr th {\n",
       "        vertical-align: top;\n",
       "    }\n",
       "\n",
       "    .dataframe thead th {\n",
       "        text-align: right;\n",
       "    }\n",
       "</style>\n",
       "<table border=\"1\" class=\"dataframe\">\n",
       "  <thead>\n",
       "    <tr style=\"text-align: right;\">\n",
       "      <th></th>\n",
       "      <th>nme_convocatoria</th>\n",
       "      <th>ano_convo</th>\n",
       "      <th>nme_genero_pr</th>\n",
       "      <th>nme_pais_nac_pr</th>\n",
       "      <th>nme_region_nac_pr</th>\n",
       "      <th>nme_departamento_nac_pr</th>\n",
       "      <th>nme_municipio_nac_pr</th>\n",
       "      <th>cod_dane_nac_pr</th>\n",
       "      <th>id_niv_form_pr</th>\n",
       "      <th>nme_niv_form_pr</th>\n",
       "      <th>...</th>\n",
       "      <th>nme_region_gr</th>\n",
       "      <th>nme_departamento_gr</th>\n",
       "      <th>nme_municipio_gr</th>\n",
       "      <th>cod_dane_gr</th>\n",
       "      <th>id_area_con_gr</th>\n",
       "      <th>nme_area_esp_gr</th>\n",
       "      <th>nme_area_gr</th>\n",
       "      <th>nme_gran_area_gr</th>\n",
       "      <th>id_persona_pr</th>\n",
       "      <th>id_convocatoria</th>\n",
       "    </tr>\n",
       "  </thead>\n",
       "  <tbody>\n",
       "    <tr>\n",
       "      <th>0</th>\n",
       "      <td>Convocatoria 640 de 2013</td>\n",
       "      <td>2013-01-01T00:00:00.000</td>\n",
       "      <td>Masculino</td>\n",
       "      <td>Colombia</td>\n",
       "      <td>Eje Cafetero</td>\n",
       "      <td>Antioquia</td>\n",
       "      <td>Fredonia</td>\n",
       "      <td>5282</td>\n",
       "      <td>5</td>\n",
       "      <td>Postdoctorado</td>\n",
       "      <td>...</td>\n",
       "      <td>Eje Cafetero</td>\n",
       "      <td>Antioquia</td>\n",
       "      <td>Medellín</td>\n",
       "      <td>5001</td>\n",
       "      <td>1C03</td>\n",
       "      <td>Física de partículas y campos</td>\n",
       "      <td>Ciencias físicas</td>\n",
       "      <td>Ciencias naturales</td>\n",
       "      <td>177733</td>\n",
       "      <td>16</td>\n",
       "    </tr>\n",
       "    <tr>\n",
       "      <th>1</th>\n",
       "      <td>Convocatoria 693 de 2014</td>\n",
       "      <td>2014-01-01T00:00:00.000</td>\n",
       "      <td>Masculino</td>\n",
       "      <td>Colombia</td>\n",
       "      <td>Eje Cafetero</td>\n",
       "      <td>Antioquia</td>\n",
       "      <td>Fredonia</td>\n",
       "      <td>5282</td>\n",
       "      <td>5</td>\n",
       "      <td>Postdoctorado</td>\n",
       "      <td>...</td>\n",
       "      <td>Eje Cafetero</td>\n",
       "      <td>Antioquia</td>\n",
       "      <td>Medellín</td>\n",
       "      <td>5001</td>\n",
       "      <td>1C03</td>\n",
       "      <td>Física de partículas y campos</td>\n",
       "      <td>Ciencias físicas</td>\n",
       "      <td>Ciencias naturales</td>\n",
       "      <td>177733</td>\n",
       "      <td>17</td>\n",
       "    </tr>\n",
       "    <tr>\n",
       "      <th>2</th>\n",
       "      <td>Convocatoria 737 de 2015</td>\n",
       "      <td>2015-01-01T00:00:00.000</td>\n",
       "      <td>Masculino</td>\n",
       "      <td>Colombia</td>\n",
       "      <td>Eje Cafetero</td>\n",
       "      <td>Antioquia</td>\n",
       "      <td>Fredonia</td>\n",
       "      <td>5282</td>\n",
       "      <td>5</td>\n",
       "      <td>Postdoctorado</td>\n",
       "      <td>...</td>\n",
       "      <td>Eje Cafetero</td>\n",
       "      <td>Antioquia</td>\n",
       "      <td>Medellín</td>\n",
       "      <td>5001</td>\n",
       "      <td>1C03</td>\n",
       "      <td>Física de partículas y campos</td>\n",
       "      <td>Ciencias físicas</td>\n",
       "      <td>Ciencias naturales</td>\n",
       "      <td>177733</td>\n",
       "      <td>18</td>\n",
       "    </tr>\n",
       "    <tr>\n",
       "      <th>3</th>\n",
       "      <td>Convocatoria 781 de 2017</td>\n",
       "      <td>2017-01-01T00:00:00.000</td>\n",
       "      <td>Masculino</td>\n",
       "      <td>Colombia</td>\n",
       "      <td>Eje Cafetero</td>\n",
       "      <td>Antioquia</td>\n",
       "      <td>Fredonia</td>\n",
       "      <td>5282</td>\n",
       "      <td>5</td>\n",
       "      <td>Postdoctorado</td>\n",
       "      <td>...</td>\n",
       "      <td>Eje Cafetero</td>\n",
       "      <td>Antioquia</td>\n",
       "      <td>Medellín</td>\n",
       "      <td>5001</td>\n",
       "      <td>1C</td>\n",
       "      <td>A - Ciencias físicas</td>\n",
       "      <td>Ciencias físicas</td>\n",
       "      <td>Ciencias naturales</td>\n",
       "      <td>177733</td>\n",
       "      <td>19</td>\n",
       "    </tr>\n",
       "    <tr>\n",
       "      <th>4</th>\n",
       "      <td>Convocatoria 833 de 2018</td>\n",
       "      <td>2019-12-06T00:00:00.000</td>\n",
       "      <td>Masculino</td>\n",
       "      <td>Colombia</td>\n",
       "      <td>Región Eje Cafetero</td>\n",
       "      <td>Antioquia</td>\n",
       "      <td>Fredonia</td>\n",
       "      <td>5282</td>\n",
       "      <td>5</td>\n",
       "      <td>Postdoctorado/Estancia postdoctoral</td>\n",
       "      <td>...</td>\n",
       "      <td>Región Eje Cafetero</td>\n",
       "      <td>Antioquia</td>\n",
       "      <td>Medellín</td>\n",
       "      <td>5001</td>\n",
       "      <td>1C03</td>\n",
       "      <td>Física de Partículas y Campos</td>\n",
       "      <td>Ciencias Físicas</td>\n",
       "      <td>Ciencias Naturales</td>\n",
       "      <td>177733</td>\n",
       "      <td>20</td>\n",
       "    </tr>\n",
       "  </tbody>\n",
       "</table>\n",
       "<p>5 rows × 26 columns</p>\n",
       "</div>"
      ],
      "text/plain": [
       "           nme_convocatoria                ano_convo nme_genero_pr  \\\n",
       "0  Convocatoria 640 de 2013  2013-01-01T00:00:00.000     Masculino   \n",
       "1  Convocatoria 693 de 2014  2014-01-01T00:00:00.000     Masculino   \n",
       "2  Convocatoria 737 de 2015  2015-01-01T00:00:00.000     Masculino   \n",
       "3  Convocatoria 781 de 2017  2017-01-01T00:00:00.000     Masculino   \n",
       "4  Convocatoria 833 de 2018  2019-12-06T00:00:00.000     Masculino   \n",
       "\n",
       "  nme_pais_nac_pr    nme_region_nac_pr nme_departamento_nac_pr  \\\n",
       "0        Colombia         Eje Cafetero               Antioquia   \n",
       "1        Colombia         Eje Cafetero               Antioquia   \n",
       "2        Colombia         Eje Cafetero               Antioquia   \n",
       "3        Colombia         Eje Cafetero               Antioquia   \n",
       "4        Colombia  Región Eje Cafetero               Antioquia   \n",
       "\n",
       "  nme_municipio_nac_pr  cod_dane_nac_pr  id_niv_form_pr  \\\n",
       "0             Fredonia             5282               5   \n",
       "1             Fredonia             5282               5   \n",
       "2             Fredonia             5282               5   \n",
       "3             Fredonia             5282               5   \n",
       "4             Fredonia             5282               5   \n",
       "\n",
       "                       nme_niv_form_pr  ...        nme_region_gr  \\\n",
       "0                        Postdoctorado  ...         Eje Cafetero   \n",
       "1                        Postdoctorado  ...         Eje Cafetero   \n",
       "2                        Postdoctorado  ...         Eje Cafetero   \n",
       "3                        Postdoctorado  ...         Eje Cafetero   \n",
       "4  Postdoctorado/Estancia postdoctoral  ...  Región Eje Cafetero   \n",
       "\n",
       "  nme_departamento_gr nme_municipio_gr  cod_dane_gr  id_area_con_gr  \\\n",
       "0           Antioquia         Medellín         5001            1C03   \n",
       "1           Antioquia         Medellín         5001            1C03   \n",
       "2           Antioquia         Medellín         5001            1C03   \n",
       "3           Antioquia         Medellín         5001              1C   \n",
       "4           Antioquia         Medellín         5001            1C03   \n",
       "\n",
       "                 nme_area_esp_gr       nme_area_gr    nme_gran_area_gr  \\\n",
       "0  Física de partículas y campos  Ciencias físicas  Ciencias naturales   \n",
       "1  Física de partículas y campos  Ciencias físicas  Ciencias naturales   \n",
       "2  Física de partículas y campos  Ciencias físicas  Ciencias naturales   \n",
       "3           A - Ciencias físicas  Ciencias físicas  Ciencias naturales   \n",
       "4  Física de Partículas y Campos  Ciencias Físicas  Ciencias Naturales   \n",
       "\n",
       "  id_persona_pr  id_convocatoria  \n",
       "0        177733               16  \n",
       "1        177733               17  \n",
       "2        177733               18  \n",
       "3        177733               19  \n",
       "4        177733               20  \n",
       "\n",
       "[5 rows x 26 columns]"
      ]
     },
     "execution_count": 9,
     "metadata": {},
     "output_type": "execute_result"
    }
   ],
   "source": [
    "cvlac='0000177733'\n",
    "pd.read_json(f'https://www.datos.gov.co/resource/bqtm-4y2h.json?id_persona_pr={cvlac}')"
   ]
  },
  {
   "cell_type": "markdown",
   "metadata": {},
   "source": [
    "Productos"
   ]
  },
  {
   "cell_type": "code",
   "execution_count": 10,
   "metadata": {},
   "outputs": [],
   "source": [
    "import pandas as pd"
   ]
  },
  {
   "cell_type": "code",
   "execution_count": 11,
   "metadata": {},
   "outputs": [],
   "source": [
    "cvlac='0000177733'\n",
    "#cvlac='0000119111'\n",
    "pr=pd.read_json(f'https://www.datos.gov.co/resource/33dq-ab5a.json?id_persona_pd={cvlac}')"
   ]
  },
  {
   "cell_type": "code",
   "execution_count": 12,
   "metadata": {},
   "outputs": [
    {
     "data": {
      "text/html": [
       "<div>\n",
       "<style scoped>\n",
       "    .dataframe tbody tr th:only-of-type {\n",
       "        vertical-align: middle;\n",
       "    }\n",
       "\n",
       "    .dataframe tbody tr th {\n",
       "        vertical-align: top;\n",
       "    }\n",
       "\n",
       "    .dataframe thead th {\n",
       "        text-align: right;\n",
       "    }\n",
       "</style>\n",
       "<table border=\"1\" class=\"dataframe\">\n",
       "  <thead>\n",
       "    <tr style=\"text-align: right;\">\n",
       "      <th></th>\n",
       "      <th>id_convocatoria</th>\n",
       "      <th>nme_convocatoria</th>\n",
       "      <th>ano_convo</th>\n",
       "      <th>id_producto_pd</th>\n",
       "      <th>nme_clase_pd</th>\n",
       "      <th>nme_tipo_medicion_pd</th>\n",
       "      <th>nme_tipologia_pd</th>\n",
       "      <th>id_tipo_pd_med</th>\n",
       "      <th>nme_categoria_pd</th>\n",
       "      <th>fcreacion_pd</th>\n",
       "      <th>nme_producto_pd</th>\n",
       "      <th>cod_grupo_gr</th>\n",
       "      <th>nme_grupo_gr</th>\n",
       "      <th>id_persona_pd</th>\n",
       "    </tr>\n",
       "  </thead>\n",
       "  <tbody>\n",
       "    <tr>\n",
       "      <th>0</th>\n",
       "      <td>16</td>\n",
       "      <td>Convocatoria 640 de 2013</td>\n",
       "      <td>2013-01-01T00:00:00.000</td>\n",
       "      <td>ART-0000177733-9</td>\n",
       "      <td>Nuevo conocimiento</td>\n",
       "      <td>Nuevo conocimiento Top</td>\n",
       "      <td>Artículos de investigación</td>\n",
       "      <td>ART-ART_A1</td>\n",
       "      <td>Artículos de investigación Con Calidad A1</td>\n",
       "      <td>2013-05-01T00:00:00.000</td>\n",
       "      <td>Baryonic violation of R parity from anomalous ...</td>\n",
       "      <td>COL0008423</td>\n",
       "      <td>Grupo de Fenomenologia de Interacciones Fundam...</td>\n",
       "      <td>177733</td>\n",
       "    </tr>\n",
       "    <tr>\n",
       "      <th>1</th>\n",
       "      <td>16</td>\n",
       "      <td>Convocatoria 640 de 2013</td>\n",
       "      <td>2013-01-01T00:00:00.000</td>\n",
       "      <td>PID-0000177733-11</td>\n",
       "      <td>Formación de recurso humano</td>\n",
       "      <td>Formación de recursos humano Tipo B</td>\n",
       "      <td>Proyecto y Desarrollo</td>\n",
       "      <td>PID-PID_A</td>\n",
       "      <td>Proyecto de investigación y Desarrollo Con Cal...</td>\n",
       "      <td>2013-02-01T00:00:00.000</td>\n",
       "      <td>Implicaciones de modelos supersimétricos con v...</td>\n",
       "      <td>COL0008423</td>\n",
       "      <td>Grupo de Fenomenologia de Interacciones Fundam...</td>\n",
       "      <td>177733</td>\n",
       "    </tr>\n",
       "    <tr>\n",
       "      <th>2</th>\n",
       "      <td>16</td>\n",
       "      <td>Convocatoria 640 de 2013</td>\n",
       "      <td>2013-01-01T00:00:00.000</td>\n",
       "      <td>TP-0000177733-78</td>\n",
       "      <td>Formación de recurso humano</td>\n",
       "      <td>Formación de recursos humano Tipo B</td>\n",
       "      <td>Tesis de pregrado</td>\n",
       "      <td>TP-TP_A</td>\n",
       "      <td>Tesis de pregrado Con Calidad A</td>\n",
       "      <td>2010-01-01T00:00:00.000</td>\n",
       "      <td>Modelos de materia oscura</td>\n",
       "      <td>COL0008423</td>\n",
       "      <td>Grupo de Fenomenologia de Interacciones Fundam...</td>\n",
       "      <td>177733</td>\n",
       "    </tr>\n",
       "  </tbody>\n",
       "</table>\n",
       "</div>"
      ],
      "text/plain": [
       "   id_convocatoria          nme_convocatoria                ano_convo  \\\n",
       "0               16  Convocatoria 640 de 2013  2013-01-01T00:00:00.000   \n",
       "1               16  Convocatoria 640 de 2013  2013-01-01T00:00:00.000   \n",
       "2               16  Convocatoria 640 de 2013  2013-01-01T00:00:00.000   \n",
       "\n",
       "      id_producto_pd                 nme_clase_pd  \\\n",
       "0   ART-0000177733-9           Nuevo conocimiento   \n",
       "1  PID-0000177733-11  Formación de recurso humano   \n",
       "2   TP-0000177733-78  Formación de recurso humano   \n",
       "\n",
       "                  nme_tipo_medicion_pd            nme_tipologia_pd  \\\n",
       "0               Nuevo conocimiento Top  Artículos de investigación   \n",
       "1  Formación de recursos humano Tipo B       Proyecto y Desarrollo   \n",
       "2  Formación de recursos humano Tipo B           Tesis de pregrado   \n",
       "\n",
       "  id_tipo_pd_med                                   nme_categoria_pd  \\\n",
       "0     ART-ART_A1          Artículos de investigación Con Calidad A1   \n",
       "1      PID-PID_A  Proyecto de investigación y Desarrollo Con Cal...   \n",
       "2        TP-TP_A                    Tesis de pregrado Con Calidad A   \n",
       "\n",
       "              fcreacion_pd                                    nme_producto_pd  \\\n",
       "0  2013-05-01T00:00:00.000  Baryonic violation of R parity from anomalous ...   \n",
       "1  2013-02-01T00:00:00.000  Implicaciones de modelos supersimétricos con v...   \n",
       "2  2010-01-01T00:00:00.000                          Modelos de materia oscura   \n",
       "\n",
       "  cod_grupo_gr                                       nme_grupo_gr  \\\n",
       "0   COL0008423  Grupo de Fenomenologia de Interacciones Fundam...   \n",
       "1   COL0008423  Grupo de Fenomenologia de Interacciones Fundam...   \n",
       "2   COL0008423  Grupo de Fenomenologia de Interacciones Fundam...   \n",
       "\n",
       "   id_persona_pd  \n",
       "0         177733  \n",
       "1         177733  \n",
       "2         177733  "
      ]
     },
     "execution_count": 12,
     "metadata": {},
     "output_type": "execute_result"
    }
   ],
   "source": [
    "pr[:3]"
   ]
  },
  {
   "cell_type": "code",
   "execution_count": 13,
   "metadata": {},
   "outputs": [
    {
     "data": {
      "text/plain": [
       "array(['Artículos de investigación', 'Proyecto y Desarrollo',\n",
       "       'Tesis de pregrado', 'Evento científico', 'Tesis de doctorado',\n",
       "       'Tesis de maestria', 'Artículos', 'Informe', 'Edicion',\n",
       "       'Proyecto de investigacion y desarrollo',\n",
       "       'Informe Final de Investigación'], dtype=object)"
      ]
     },
     "execution_count": 13,
     "metadata": {},
     "output_type": "execute_result"
    }
   ],
   "source": [
    "pr['nme_tipologia_pd'].unique()"
   ]
  },
  {
   "cell_type": "code",
   "execution_count": 14,
   "metadata": {},
   "outputs": [],
   "source": [
    "gr=pd.read_json('https://www.datos.gov.co/resource/hrhc-c4wu.json?cod_grupo_gr=COL0008423')"
   ]
  },
  {
   "cell_type": "code",
   "execution_count": 15,
   "metadata": {},
   "outputs": [
    {
     "data": {
      "text/html": [
       "<div>\n",
       "<style scoped>\n",
       "    .dataframe tbody tr th:only-of-type {\n",
       "        vertical-align: middle;\n",
       "    }\n",
       "\n",
       "    .dataframe tbody tr th {\n",
       "        vertical-align: top;\n",
       "    }\n",
       "\n",
       "    .dataframe thead th {\n",
       "        text-align: right;\n",
       "    }\n",
       "</style>\n",
       "<table border=\"1\" class=\"dataframe\">\n",
       "  <thead>\n",
       "    <tr style=\"text-align: right;\">\n",
       "      <th></th>\n",
       "      <th>id_convocatoria</th>\n",
       "      <th>nme_convocatoria</th>\n",
       "      <th>ano_convo</th>\n",
       "      <th>cod_grupo_gr</th>\n",
       "      <th>nme_grupo_gr</th>\n",
       "      <th>fcreacion_gr</th>\n",
       "      <th>nme_municipio_gr</th>\n",
       "      <th>nme_departamento_gr</th>\n",
       "      <th>nme_pais_gr</th>\n",
       "      <th>nme_region_gr</th>\n",
       "      <th>cod_dane_gr</th>\n",
       "      <th>id_area_con_gr</th>\n",
       "      <th>nme_area_gr</th>\n",
       "      <th>nme_gran_area_gr</th>\n",
       "      <th>nme_clasificacion_gr</th>\n",
       "      <th>orden_clas_gr</th>\n",
       "      <th>edad_anos_gr</th>\n",
       "      <th>inst_aval</th>\n",
       "    </tr>\n",
       "  </thead>\n",
       "  <tbody>\n",
       "    <tr>\n",
       "      <th>0</th>\n",
       "      <td>16</td>\n",
       "      <td>Convocatoria 640 de 2013</td>\n",
       "      <td>2013-01-01T00:00:00.000</td>\n",
       "      <td>COL0008423</td>\n",
       "      <td>Grupo de Fenomenologia de Interacciones Fundam...</td>\n",
       "      <td>1979-01-12T00:00:00.000</td>\n",
       "      <td>Medellín</td>\n",
       "      <td>Antioquia</td>\n",
       "      <td>Colombia</td>\n",
       "      <td>Eje Cafetero</td>\n",
       "      <td>5001</td>\n",
       "      <td>1C</td>\n",
       "      <td>Ciencias físicas</td>\n",
       "      <td>Ciencias naturales</td>\n",
       "      <td>A1</td>\n",
       "      <td>5</td>\n",
       "      <td>34.17</td>\n",
       "      <td>Universidad De Antioquia - Udea</td>\n",
       "    </tr>\n",
       "    <tr>\n",
       "      <th>1</th>\n",
       "      <td>17</td>\n",
       "      <td>Convocatoria 693 de 2014</td>\n",
       "      <td>2014-01-01T00:00:00.000</td>\n",
       "      <td>COL0008423</td>\n",
       "      <td>Grupo de Fenomenologia de Interacciones Fundam...</td>\n",
       "      <td>1979-01-12T00:00:00.000</td>\n",
       "      <td>Medellín</td>\n",
       "      <td>Antioquia</td>\n",
       "      <td>Colombia</td>\n",
       "      <td>Eje Cafetero</td>\n",
       "      <td>5001</td>\n",
       "      <td>1C</td>\n",
       "      <td>Ciencias físicas</td>\n",
       "      <td>Ciencias naturales</td>\n",
       "      <td>A1</td>\n",
       "      <td>5</td>\n",
       "      <td>34.67</td>\n",
       "      <td>Universidad De Antioquia - Udea</td>\n",
       "    </tr>\n",
       "    <tr>\n",
       "      <th>2</th>\n",
       "      <td>18</td>\n",
       "      <td>Convocatoria 737 de 2015</td>\n",
       "      <td>2015-01-01T00:00:00.000</td>\n",
       "      <td>COL0008423</td>\n",
       "      <td>Grupo de Fenomenologia de Interacciones Fundam...</td>\n",
       "      <td>1979-01-12T00:00:00.000</td>\n",
       "      <td>Medellín</td>\n",
       "      <td>Antioquia</td>\n",
       "      <td>Colombia</td>\n",
       "      <td>Eje Cafetero</td>\n",
       "      <td>5001</td>\n",
       "      <td>1C</td>\n",
       "      <td>Ciencias físicas</td>\n",
       "      <td>Ciencias naturales</td>\n",
       "      <td>A1</td>\n",
       "      <td>5</td>\n",
       "      <td>35.67</td>\n",
       "      <td>Universidad De Antioquia - Udea</td>\n",
       "    </tr>\n",
       "    <tr>\n",
       "      <th>3</th>\n",
       "      <td>19</td>\n",
       "      <td>Convocatoria 781 de 2017</td>\n",
       "      <td>2017-01-01T00:00:00.000</td>\n",
       "      <td>COL0008423</td>\n",
       "      <td>Grupo de Fenomenologia de Interacciones Fundam...</td>\n",
       "      <td>1979-01-12T00:00:00.000</td>\n",
       "      <td>Medellín</td>\n",
       "      <td>Antioquia</td>\n",
       "      <td>Colombia</td>\n",
       "      <td>Eje Cafetero</td>\n",
       "      <td>5001</td>\n",
       "      <td>1C</td>\n",
       "      <td>Ciencias físicas</td>\n",
       "      <td>Ciencias naturales</td>\n",
       "      <td>A1</td>\n",
       "      <td>5</td>\n",
       "      <td>38.00</td>\n",
       "      <td>Universidad De Antioquia - Udea</td>\n",
       "    </tr>\n",
       "    <tr>\n",
       "      <th>4</th>\n",
       "      <td>20</td>\n",
       "      <td>Convocatoria 833 de 2018</td>\n",
       "      <td>2019-06-12T00:00:00.000</td>\n",
       "      <td>COL0008423</td>\n",
       "      <td>Grupo de Fenomenologia de Interacciones Fundam...</td>\n",
       "      <td>1979-01-12T00:00:00.000</td>\n",
       "      <td>Medellín</td>\n",
       "      <td>Antioquia</td>\n",
       "      <td>Colombia</td>\n",
       "      <td>Eje Cafetero</td>\n",
       "      <td>5001</td>\n",
       "      <td>1C</td>\n",
       "      <td>Ciencias Físicas</td>\n",
       "      <td>Ciencias Naturales</td>\n",
       "      <td>A1</td>\n",
       "      <td>4</td>\n",
       "      <td>39.00</td>\n",
       "      <td>Universidad De Antioquia - Sede Carmen De Viboral</td>\n",
       "    </tr>\n",
       "  </tbody>\n",
       "</table>\n",
       "</div>"
      ],
      "text/plain": [
       "   id_convocatoria          nme_convocatoria                ano_convo  \\\n",
       "0               16  Convocatoria 640 de 2013  2013-01-01T00:00:00.000   \n",
       "1               17  Convocatoria 693 de 2014  2014-01-01T00:00:00.000   \n",
       "2               18  Convocatoria 737 de 2015  2015-01-01T00:00:00.000   \n",
       "3               19  Convocatoria 781 de 2017  2017-01-01T00:00:00.000   \n",
       "4               20  Convocatoria 833 de 2018  2019-06-12T00:00:00.000   \n",
       "\n",
       "  cod_grupo_gr                                       nme_grupo_gr  \\\n",
       "0   COL0008423  Grupo de Fenomenologia de Interacciones Fundam...   \n",
       "1   COL0008423  Grupo de Fenomenologia de Interacciones Fundam...   \n",
       "2   COL0008423  Grupo de Fenomenologia de Interacciones Fundam...   \n",
       "3   COL0008423  Grupo de Fenomenologia de Interacciones Fundam...   \n",
       "4   COL0008423  Grupo de Fenomenologia de Interacciones Fundam...   \n",
       "\n",
       "              fcreacion_gr nme_municipio_gr nme_departamento_gr nme_pais_gr  \\\n",
       "0  1979-01-12T00:00:00.000         Medellín           Antioquia    Colombia   \n",
       "1  1979-01-12T00:00:00.000         Medellín           Antioquia    Colombia   \n",
       "2  1979-01-12T00:00:00.000         Medellín           Antioquia    Colombia   \n",
       "3  1979-01-12T00:00:00.000         Medellín           Antioquia    Colombia   \n",
       "4  1979-01-12T00:00:00.000         Medellín           Antioquia    Colombia   \n",
       "\n",
       "  nme_region_gr  cod_dane_gr id_area_con_gr       nme_area_gr  \\\n",
       "0  Eje Cafetero         5001             1C  Ciencias físicas   \n",
       "1  Eje Cafetero         5001             1C  Ciencias físicas   \n",
       "2  Eje Cafetero         5001             1C  Ciencias físicas   \n",
       "3  Eje Cafetero         5001             1C  Ciencias físicas   \n",
       "4  Eje Cafetero         5001             1C  Ciencias Físicas   \n",
       "\n",
       "     nme_gran_area_gr nme_clasificacion_gr  orden_clas_gr  edad_anos_gr  \\\n",
       "0  Ciencias naturales                   A1              5         34.17   \n",
       "1  Ciencias naturales                   A1              5         34.67   \n",
       "2  Ciencias naturales                   A1              5         35.67   \n",
       "3  Ciencias naturales                   A1              5         38.00   \n",
       "4  Ciencias Naturales                   A1              4         39.00   \n",
       "\n",
       "                                           inst_aval  \n",
       "0                    Universidad De Antioquia - Udea  \n",
       "1                    Universidad De Antioquia - Udea  \n",
       "2                    Universidad De Antioquia - Udea  \n",
       "3                    Universidad De Antioquia - Udea  \n",
       "4  Universidad De Antioquia - Sede Carmen De Viboral  "
      ]
     },
     "execution_count": 15,
     "metadata": {},
     "output_type": "execute_result"
    }
   ],
   "source": [
    "gr"
   ]
  },
  {
   "cell_type": "code",
   "execution_count": 2,
   "metadata": {},
   "outputs": [],
   "source": [
    "import pandas as pd"
   ]
  },
  {
   "cell_type": "code",
   "execution_count": 3,
   "metadata": {},
   "outputs": [],
   "source": [
    "df=pd.read_csv('4-cvlac.csv')"
   ]
  },
  {
   "cell_type": "code",
   "execution_count": null,
   "metadata": {},
   "outputs": [],
   "source": [
    "df[df['Nombre'].str.title()=='Artevic Holgueras Galán']"
   ]
  },
  {
   "cell_type": "code",
   "execution_count": null,
   "metadata": {},
   "outputs": [],
   "source": [
    "df['Nombre'].str.split().apply(len)"
   ]
  },
  {
   "cell_type": "code",
   "execution_count": 18,
   "metadata": {},
   "outputs": [
    {
     "data": {
      "text/plain": [
       "(657, 18)"
      ]
     },
     "execution_count": 18,
     "metadata": {},
     "output_type": "execute_result"
    }
   ],
   "source": [
    "df[(df['Nacionalidad'].apply(lambda s: s in ['Extranjero - otra','Brasilera']) ) & (df['Nombre'].str.split().apply(len)==3 )].shape"
   ]
  },
  {
   "cell_type": "code",
   "execution_count": 8,
   "metadata": {},
   "outputs": [
    {
     "data": {
      "text/plain": [
       "(130, 18)"
      ]
     },
     "execution_count": 8,
     "metadata": {},
     "output_type": "execute_result"
    }
   ],
   "source": [
    "df[df['Nacionalidad']==].shape"
   ]
  },
  {
   "cell_type": "code",
   "execution_count": null,
   "metadata": {},
   "outputs": [],
   "source": []
  }
 ],
 "metadata": {
  "kernelspec": {
   "display_name": "Python 3 (ipykernel)",
   "language": "python",
   "name": "python3"
  },
  "language_info": {
   "codemirror_mode": {
    "name": "ipython",
    "version": 3
   },
   "file_extension": ".py",
   "mimetype": "text/x-python",
   "name": "python",
   "nbconvert_exporter": "python",
   "pygments_lexer": "ipython3",
   "version": "3.9.2"
  }
 },
 "nbformat": 4,
 "nbformat_minor": 4
}
