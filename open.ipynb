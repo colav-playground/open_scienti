{
 "cells": [
  {
   "cell_type": "markdown",
   "id": "8e6b7f3c-9e3a-42bb-b997-7f2d8e87846e",
   "metadata": {},
   "source": [
    "Problemas detectados:\n",
    "\n",
    "* Se está usando el metadato del título de Google Scholar. El metadato de título debería ser el de la mejor calidad posible \n",
    "* Revisar el uso de los autores en la creación del link de Google Lookup"
   ]
  },
  {
   "cell_type": "code",
   "execution_count": 1,
   "id": "26b8ae86-724c-4f3c-931c-5b18d0c00da2",
   "metadata": {},
   "outputs": [],
   "source": [
    "import pandas as pd                                                                                                                                                                                                                                                                                                                                                                                                                                                                                                                                                                                             "
   ]
  },
  {
   "cell_type": "code",
   "execution_count": 60,
   "id": "fda021f9-73c9-4c1d-aff1-a99529704e8c",
   "metadata": {},
   "outputs": [],
   "source": [
    "df=pd.read_csv('data/1-Producci_n_Grupos_Investigaci_n.csv',low_memory=False)#,nrows=100)"
   ]
  },
  {
   "cell_type": "code",
   "execution_count": 61,
   "id": "dad57cfb-6b4b-4823-a7cd-119562e473ad",
   "metadata": {},
   "outputs": [
    {
     "data": {
      "text/plain": [
       "(2254793, 14)"
      ]
     },
     "execution_count": 61,
     "metadata": {},
     "output_type": "execute_result"
    }
   ],
   "source": [
    "df.shape"
   ]
  },
  {
   "cell_type": "code",
   "execution_count": 62,
   "id": "d1b441f0-6181-4fa0-ac91-4ea8afd370fb",
   "metadata": {},
   "outputs": [],
   "source": [
    "df=df[df['NME_TIPOLOGIA_PD']=='Artículos de investigación'].reset_index(drop=True)"
   ]
  },
  {
   "cell_type": "code",
   "execution_count": 66,
   "id": "c7e28937-f55f-4d1d-a196-321dc056be3a",
   "metadata": {},
   "outputs": [],
   "source": [
    "df['year']=df['FCREACION_PD'].str.split('/').str[-1]"
   ]
  },
  {
   "cell_type": "code",
   "execution_count": 63,
   "id": "6d53b106-11b7-4b6d-b464-ce2235ceeab9",
   "metadata": {},
   "outputs": [
    {
     "data": {
      "text/plain": [
       "(385291, 14)"
      ]
     },
     "execution_count": 63,
     "metadata": {},
     "output_type": "execute_result"
    }
   ],
   "source": [
    "df.shape"
   ]
  },
  {
   "cell_type": "code",
   "execution_count": 5,
   "id": "3b43d649-f5b2-4a31-b9e6-ab96fb420467",
   "metadata": {},
   "outputs": [],
   "source": [
    "df=df.sample(1000).reset_index(drop=True)"
   ]
  },
  {
   "cell_type": "code",
   "execution_count": 23,
   "id": "03e00f6b-9505-4e98-98fd-2f4e5f743bf7",
   "metadata": {},
   "outputs": [],
   "source": [
    "df.to_csv('data/open_scienti_sample.csv',index=False)"
   ]
  },
  {
   "cell_type": "code",
   "execution_count": 7,
   "id": "a6bcb5e6-332a-48c0-8d15-dceca17d267f",
   "metadata": {},
   "outputs": [],
   "source": [
    "co=pd.read_json('data/scholar_colombia.json',orient='records',lines=True)#,nrows=1)"
   ]
  },
  {
   "cell_type": "code",
   "execution_count": 8,
   "id": "4a48f2d2-a34e-4fcd-83b2-4b3a248c5769",
   "metadata": {},
   "outputs": [],
   "source": [
    "co=co.drop(['abstract','cites_link','lookup_url'],axis='columns')"
   ]
  },
  {
   "cell_type": "code",
   "execution_count": 247,
   "id": "f015eed2-786d-4a27-afe0-71a91e887f34",
   "metadata": {},
   "outputs": [
    {
     "data": {
      "text/plain": [
       "(181040, 22)"
      ]
     },
     "execution_count": 247,
     "metadata": {},
     "output_type": "execute_result"
    }
   ],
   "source": [
    "co.shape"
   ]
  },
  {
   "cell_type": "code",
   "execution_count": 10,
   "id": "393c3b6f-338e-4b60-bd59-5039453d071e",
   "metadata": {},
   "outputs": [],
   "source": [
    "import wosplus as wp"
   ]
  },
  {
   "cell_type": "code",
   "execution_count": 12,
   "id": "562c8192-a7a7-4f8d-bb12-e0ab989c9135",
   "metadata": {},
   "outputs": [
    {
     "data": {
      "text/plain": [
       "Index(['ID_CONVOCATORIA', 'NME_CONVOCATORIA', 'ANO_CONVO', 'ID_PRODUCTO_PD',\n",
       "       'NME_CLASE_PD', 'NME_TIPO_MEDICION_PD', 'NME_TIPOLOGIA_PD',\n",
       "       'ID_TIPO_PD_MED', 'NME_CATEGORIA_PD', 'FCREACION_PD', 'NME_PRODUCTO_PD',\n",
       "       'COD_GRUPO_GR', 'NME_GRUPO_GR', 'ID_PERSONA_PD'],\n",
       "      dtype='object')"
      ]
     },
     "execution_count": 12,
     "metadata": {},
     "output_type": "execute_result"
    }
   ],
   "source": [
    "df.columns"
   ]
  },
  {
   "cell_type": "code",
   "execution_count": 18,
   "id": "8c782c8b-9927-4cf1-9776-f868c5430ec7",
   "metadata": {},
   "outputs": [],
   "source": []
  },
  {
   "cell_type": "code",
   "execution_count": 13,
   "id": "7620bc18-3e1b-4cb5-ad21-678bcd0db359",
   "metadata": {},
   "outputs": [
    {
     "data": {
      "text/plain": [
       "Index(['_id', 'title', 'author', 'profiles', 'cites', 'journal', 'publisher',\n",
       "       'country', 'doi', 'year', 'volume', 'issue', 'pages', 'ref', 'pdf',\n",
       "       'cid', 'rp', 'bibtex', 'old_title', 'article_id', 'timestamp'],\n",
       "      dtype='object')"
      ]
     },
     "execution_count": 13,
     "metadata": {},
     "output_type": "execute_result"
    }
   ],
   "source": [
    "co.columns"
   ]
  },
  {
   "cell_type": "code",
   "execution_count": 216,
   "id": "a68889e3-9f33-4145-ab47-0c907692539b",
   "metadata": {},
   "outputs": [
    {
     "name": "stdout",
     "output_type": "stream",
     "text": [
      ".........."
     ]
    }
   ],
   "source": [
    "mt=wp.merge_with_close_matches(df[['NME_PRODUCTO_PD','year']],co[['title', 'year']],\n",
    "                              left_on='NME_PRODUCTO_PD',\n",
    "                              right_on='title',\n",
    "                              left_extra_on='year',\n",
    "                              right_extra_on='year',\n",
    "                              how='left',                              \n",
    "                              cutoff=0.9)"
   ]
  },
  {
   "cell_type": "code",
   "execution_count": 137,
   "id": "a3e8af8b-a40d-4d4d-b6c8-2f0982c01b0b",
   "metadata": {},
   "outputs": [],
   "source": [
    "mt_bak=mt.copy()"
   ]
  },
  {
   "cell_type": "code",
   "execution_count": 230,
   "id": "91e5cda0-d6d1-4d57-8745-6552d5b6c004",
   "metadata": {},
   "outputs": [],
   "source": [
    "mt=mt.dropna(subset=['title'])"
   ]
  },
  {
   "cell_type": "code",
   "execution_count": 231,
   "id": "c3326c54-1dfe-435a-a57d-665c59a0d116",
   "metadata": {},
   "outputs": [
    {
     "data": {
      "text/plain": [
       "(510, 4)"
      ]
     },
     "execution_count": 231,
     "metadata": {},
     "output_type": "execute_result"
    }
   ],
   "source": [
    "mt.shape"
   ]
  },
  {
   "cell_type": "code",
   "execution_count": 232,
   "id": "05cc7416-a5d0-408c-9ade-395bf3a9de35",
   "metadata": {},
   "outputs": [],
   "source": [
    "pd.set_option('display.max_colwidth',200)\n",
    "pd.set_option('display.max_rows', 1000)"
   ]
  },
  {
   "cell_type": "code",
   "execution_count": 233,
   "id": "379a0d8a-540d-455f-a977-977b2de9795d",
   "metadata": {},
   "outputs": [],
   "source": [
    "from fuzzywuzzy import fuzz\n",
    "from unidecode import unidecode"
   ]
  },
  {
   "cell_type": "code",
   "execution_count": 234,
   "id": "c9c31cad-8c78-4e9b-9fbb-d812c5e7b9d0",
   "metadata": {},
   "outputs": [],
   "source": [
    "import re"
   ]
  },
  {
   "cell_type": "code",
   "execution_count": 235,
   "id": "3701c2a8-2337-4f73-9acb-82da091ad831",
   "metadata": {},
   "outputs": [],
   "source": [
    "mt['ratio']=mt.apply(lambda row:  fuzz.ratio( re.sub(r'\\\\\\w+\\s*',r'',\n",
    "                                              unidecode(row['NME_PRODUCTO_PD'].lower().strip(\n",
    "                                              ).replace('.','').replace('$','') ) \n",
    "                                                    ),\n",
    "                                              re.sub(r'\\\\\\w+\\s*',r'',\n",
    "                                              unidecode(row['title'].lower().strip(\n",
    "                                              ).replace('.','').replace('$','') )\n",
    "                                                    )\n",
    "                                                    ),\n",
    "                                 axis='columns')"
   ]
  },
  {
   "cell_type": "code",
   "execution_count": 248,
   "id": "d3498dd5-09af-4079-b593-7aa395d15e1c",
   "metadata": {},
   "outputs": [
    {
     "data": {
      "text/plain": [
       "(510, 5)"
      ]
     },
     "execution_count": 248,
     "metadata": {},
     "output_type": "execute_result"
    }
   ],
   "source": [
    "mt[ (mt['ratio']>80) ].shape #& (mt['ratio']<90) ].reset_index(drop=True)"
   ]
  },
  {
   "cell_type": "code",
   "execution_count": 237,
   "id": "0c6d5884-ef51-49ea-8b95-fe4341677624",
   "metadata": {},
   "outputs": [],
   "source": [
    "#co['Gtitle']=co['bibtex'].str.split('title=\\{').str[-1].str.split('\\},\\\\n').str[0]"
   ]
  },
  {
   "cell_type": "code",
   "execution_count": 238,
   "id": "d152c91c-cbf6-4ac5-834e-81ea6f7b4ff6",
   "metadata": {},
   "outputs": [],
   "source": [
    "#mt=mt.merge(co[['title','Gtitle']],on='title',how='left')"
   ]
  },
  {
   "cell_type": "code",
   "execution_count": 241,
   "id": "b2ea67be-3c2b-4412-b0b5-9e22f0674de6",
   "metadata": {},
   "outputs": [
    {
     "data": {
      "text/html": [
       "<div>\n",
       "<style scoped>\n",
       "    .dataframe tbody tr th:only-of-type {\n",
       "        vertical-align: middle;\n",
       "    }\n",
       "\n",
       "    .dataframe tbody tr th {\n",
       "        vertical-align: top;\n",
       "    }\n",
       "\n",
       "    .dataframe thead th {\n",
       "        text-align: right;\n",
       "    }\n",
       "</style>\n",
       "<table border=\"1\" class=\"dataframe\">\n",
       "  <thead>\n",
       "    <tr style=\"text-align: right;\">\n",
       "      <th></th>\n",
       "      <th>NME_PRODUCTO_PD</th>\n",
       "      <th>year</th>\n",
       "      <th>title</th>\n",
       "      <th>year</th>\n",
       "      <th>ratio</th>\n",
       "    </tr>\n",
       "  </thead>\n",
       "  <tbody>\n",
       "    <tr>\n",
       "      <th>0</th>\n",
       "      <td>Modeling of electron cyclotron resonance acceleration in a stationary magnetic field</td>\n",
       "      <td>2008</td>\n",
       "      <td>Modeling of electron cyclotron resonance acceleration in a stationary inhomogeneous magnetic field</td>\n",
       "      <td>2008</td>\n",
       "      <td>92</td>\n",
       "    </tr>\n",
       "    <tr>\n",
       "      <th>1</th>\n",
       "      <td>Interface roughness influence on exchange bias effect in La2/3Ca1/3MnO3 / La1/3Ca2/3MnO3</td>\n",
       "      <td>2010</td>\n",
       "      <td>Interface roughness influence on exchange bias effect in La2/3Ca1/3MnO3/La1/3Ca2/3MnO3 bilayers</td>\n",
       "      <td>2010</td>\n",
       "      <td>94</td>\n",
       "    </tr>\n",
       "    <tr>\n",
       "      <th>2</th>\n",
       "      <td>Experimental evaluation of physical and mechanical properties of Glued Laminated Guadua angustifolia Kunth Research Paper</td>\n",
       "      <td>2014</td>\n",
       "      <td>Experimental evaluation of physical and mechanical properties of Glued Laminated Guadua angustifolia Kunth</td>\n",
       "      <td>2014</td>\n",
       "      <td>93</td>\n",
       "    </tr>\n",
       "    <tr>\n",
       "      <th>3</th>\n",
       "      <td>Efficacy of yogurt drink with added plant stanol esters (Benecol®, Colanta) in reducing total and LDL cholesterol in subjects with moderate hypercholesterolemia: a randomized placebo-controlled</td>\n",
       "      <td>2014</td>\n",
       "      <td>Efficacy of yogurt drink with added plant stanol esters (Benecol®, Colanta) in reducing total and LDL cholesterol in subjects with moderate hypercholesterolemia: a randomized placebo-controlled cr...</td>\n",
       "      <td>2014</td>\n",
       "      <td>93</td>\n",
       "    </tr>\n",
       "    <tr>\n",
       "      <th>4</th>\n",
       "      <td>Cytodiagnosis trends at the animal pathology laboratory of the University of Antioquia</td>\n",
       "      <td>2011</td>\n",
       "      <td>Cytodiagnosis trends at the animal pathology laboratory of the University of Antioquia (Colombia)</td>\n",
       "      <td>2011</td>\n",
       "      <td>94</td>\n",
       "    </tr>\n",
       "    <tr>\n",
       "      <th>5</th>\n",
       "      <td>Search for third-generation scalar leptoquarks in pp&amp;#772; collisions at s=1.96TeV</td>\n",
       "      <td>2007</td>\n",
       "      <td>Search for Third-Generation Scalar Leptoquarks in p p̄ Collisions at s= 1.96 TeV</td>\n",
       "      <td>2007</td>\n",
       "      <td>94</td>\n",
       "    </tr>\n",
       "    <tr>\n",
       "      <th>6</th>\n",
       "      <td>Fibroma amelobla&amp;#769;stico asociado a un odontoma compuesto. La importancia del estudio histopatolo&amp;#769;gico</td>\n",
       "      <td>2013</td>\n",
       "      <td>Fibroma ameloblástico asociado a un odontoma compuesto. La importancia del estudio histopatológico</td>\n",
       "      <td>2013</td>\n",
       "      <td>94</td>\n",
       "    </tr>\n",
       "    <tr>\n",
       "      <th>7</th>\n",
       "      <td>Search for three-jet resonances in pp collisions at &amp;#8730;s=7TeV</td>\n",
       "      <td>2012</td>\n",
       "      <td>Search for Three-Jet Resonances in p p Collisions at s= 7 TeV</td>\n",
       "      <td>2011</td>\n",
       "      <td>92</td>\n",
       "    </tr>\n",
       "    <tr>\n",
       "      <th>8</th>\n",
       "      <td>Antigenicity and immunogenicity of a novel Plasmodium vivax CS derived synthetic vaccine construct</td>\n",
       "      <td>2014</td>\n",
       "      <td>Antigenicity and immunogenicity of a novel Plasmodium vivax circumsporozoite derived synthetic vaccine construct</td>\n",
       "      <td>2014</td>\n",
       "      <td>93</td>\n",
       "    </tr>\n",
       "    <tr>\n",
       "      <th>9</th>\n",
       "      <td>Zero-&amp;#12296;n&amp;#12297; non-Bragg gap plasmon-polariton modes and omni-reflectance in 1D metamaterial photonic superlattices</td>\n",
       "      <td>2011</td>\n",
       "      <td>Zero-&lt; n&gt; non-Bragg gap plasmon--polariton modes and omni-reflectance in 1D metamaterial photonic superlattices</td>\n",
       "      <td>2011</td>\n",
       "      <td>91</td>\n",
       "    </tr>\n",
       "  </tbody>\n",
       "</table>\n",
       "</div>"
      ],
      "text/plain": [
       "                                                                                                                                                                                     NME_PRODUCTO_PD  \\\n",
       "0                                                                                                               Modeling of electron cyclotron resonance acceleration in a stationary magnetic field   \n",
       "1                                                                                                           Interface roughness influence on exchange bias effect in La2/3Ca1/3MnO3 / La1/3Ca2/3MnO3   \n",
       "2                                                                          Experimental evaluation of physical and mechanical properties of Glued Laminated Guadua angustifolia Kunth Research Paper   \n",
       "3  Efficacy of yogurt drink with added plant stanol esters (Benecol®, Colanta) in reducing total and LDL cholesterol in subjects with moderate hypercholesterolemia: a randomized placebo-controlled   \n",
       "4                                                                                                             Cytodiagnosis trends at the animal pathology laboratory of the University of Antioquia   \n",
       "5                                                                                                                 Search for third-generation scalar leptoquarks in pp&#772; collisions at s=1.96TeV   \n",
       "6                                                                                     Fibroma amelobla&#769;stico asociado a un odontoma compuesto. La importancia del estudio histopatolo&#769;gico   \n",
       "7                                                                                                                                  Search for three-jet resonances in pp collisions at &#8730;s=7TeV   \n",
       "8                                                                                                 Antigenicity and immunogenicity of a novel Plasmodium vivax CS derived synthetic vaccine construct   \n",
       "9                                                                        Zero-&#12296;n&#12297; non-Bragg gap plasmon-polariton modes and omni-reflectance in 1D metamaterial photonic superlattices   \n",
       "\n",
       "   year  \\\n",
       "0  2008   \n",
       "1  2010   \n",
       "2  2014   \n",
       "3  2014   \n",
       "4  2011   \n",
       "5  2007   \n",
       "6  2013   \n",
       "7  2012   \n",
       "8  2014   \n",
       "9  2011   \n",
       "\n",
       "                                                                                                                                                                                                     title  \\\n",
       "0                                                                                                       Modeling of electron cyclotron resonance acceleration in a stationary inhomogeneous magnetic field   \n",
       "1                                                                                                          Interface roughness influence on exchange bias effect in La2/3Ca1/3MnO3/La1/3Ca2/3MnO3 bilayers   \n",
       "2                                                                                               Experimental evaluation of physical and mechanical properties of Glued Laminated Guadua angustifolia Kunth   \n",
       "3  Efficacy of yogurt drink with added plant stanol esters (Benecol®, Colanta) in reducing total and LDL cholesterol in subjects with moderate hypercholesterolemia: a randomized placebo-controlled cr...   \n",
       "4                                                                                                        Cytodiagnosis trends at the animal pathology laboratory of the University of Antioquia (Colombia)   \n",
       "5                                                                                                                         Search for Third-Generation Scalar Leptoquarks in p p̄ Collisions at s= 1.96 TeV   \n",
       "6                                                                                                       Fibroma ameloblástico asociado a un odontoma compuesto. La importancia del estudio histopatológico   \n",
       "7                                                                                                                                            Search for Three-Jet Resonances in p p Collisions at s= 7 TeV   \n",
       "8                                                                                         Antigenicity and immunogenicity of a novel Plasmodium vivax circumsporozoite derived synthetic vaccine construct   \n",
       "9                                                                                          Zero-< n> non-Bragg gap plasmon--polariton modes and omni-reflectance in 1D metamaterial photonic superlattices   \n",
       "\n",
       "   year  ratio  \n",
       "0  2008     92  \n",
       "1  2010     94  \n",
       "2  2014     93  \n",
       "3  2014     93  \n",
       "4  2011     94  \n",
       "5  2007     94  \n",
       "6  2013     94  \n",
       "7  2011     92  \n",
       "8  2014     93  \n",
       "9  2011     91  "
      ]
     },
     "execution_count": 241,
     "metadata": {},
     "output_type": "execute_result"
    }
   ],
   "source": [
    "mt[ (mt['ratio']>90) & (mt['ratio']<95) ].reset_index(drop=True)"
   ]
  },
  {
   "cell_type": "markdown",
   "id": "f2241723-f068-4829-a3fa-730467f6d51b",
   "metadata": {},
   "source": [
    "# Missing results"
   ]
  },
  {
   "cell_type": "code",
   "execution_count": 150,
   "id": "10c73be8-171d-4de9-9787-2dff59dabd84",
   "metadata": {},
   "outputs": [],
   "source": [
    "pd.set_option('display.max_rows', 10)"
   ]
  },
  {
   "cell_type": "code",
   "execution_count": 148,
   "id": "58194cbf-effb-4a07-a6d8-1778baec1a76",
   "metadata": {},
   "outputs": [],
   "source": [
    "mtn=mt_bak[mt_bak['title'].isna()]"
   ]
  },
  {
   "cell_type": "code",
   "execution_count": 149,
   "id": "5b522f04-dd77-4555-8811-9c7bac5de470",
   "metadata": {},
   "outputs": [
    {
     "data": {
      "text/plain": [
       "'Diseño y aplicación de una unidad didáctica para la enseñanza aprendizaje del concepto de disoluciones, apoyada en un simulador de cultivos hidropónicos'"
      ]
     },
     "execution_count": 149,
     "metadata": {},
     "output_type": "execute_result"
    }
   ],
   "source": [
    "mtn.iloc[0]['NME_PRODUCTO_PD']"
   ]
  },
  {
   "cell_type": "markdown",
   "id": "19bc87b6-41a2-4a52-a8f5-a43847e7b678",
   "metadata": {},
   "source": [
    "Download from google scholar:\n",
    "https://scholar.googleusercontent.com/scholar.bib?q=info:YZ-5R3Qi7jMJ:scholar.google.com"
   ]
  },
  {
   "cell_type": "code",
   "execution_count": 162,
   "id": "c48d9091-f236-4aa9-8f4a-fe390beb7f1c",
   "metadata": {},
   "outputs": [
    {
     "data": {
      "text/plain": [
       "'MODELO DE CÁLCULO DE LOS PARÁMETROS TÉCNICOS DE LAS LÍNEAS ELÉCTRICAS DE BAJA TENSIÓN SUBTERRÁNEAS E INSTALACIONES INTERNAS PARA USO EN TELECOMUNICACIONES'"
      ]
     },
     "execution_count": 162,
     "metadata": {},
     "output_type": "execute_result"
    }
   ],
   "source": [
    "mtn.iloc[1]['NME_PRODUCTO_PD']"
   ]
  },
  {
   "cell_type": "markdown",
   "id": "c9a2e994-e32b-45bb-b78a-f2e90168403d",
   "metadata": {},
   "source": [
    "* https://scholar.googleusercontent.com/scholar.bib?q=info:OBhcgZlzNnAJ:scholar.google.com"
   ]
  },
  {
   "cell_type": "code",
   "execution_count": 169,
   "id": "6889aad2-ee5f-49b5-8c2c-ddab1b86febc",
   "metadata": {},
   "outputs": [
    {
     "data": {
      "text/plain": [
       "'pcn35 cost-effectiveness of human papillomavirus vaccine in colombia in 2007'"
      ]
     },
     "execution_count": 169,
     "metadata": {},
     "output_type": "execute_result"
    }
   ],
   "source": [
    "mtn.iloc[2]['NME_PRODUCTO_PD'].lower()"
   ]
  },
  {
   "cell_type": "markdown",
   "id": "36615b9c-24b3-4f4c-afde-5eebeecf0567",
   "metadata": {},
   "source": [
    "* https://scholar.googleusercontent.com/scholar.bib?q=info:qYUzHPMNbFsJ:scholar.google.com"
   ]
  },
  {
   "cell_type": "code",
   "execution_count": 182,
   "id": "a0a5bcdc-18c1-4f14-9b99-fcdd2f5f5da3",
   "metadata": {},
   "outputs": [
    {
     "data": {
      "text/plain": [
       "'kojibiose ameliorates arachidic acid-induced liver alterations in hyperglycemic rats'"
      ]
     },
     "execution_count": 182,
     "metadata": {},
     "output_type": "execute_result"
    }
   ],
   "source": [
    "mtn.iloc[4]['NME_PRODUCTO_PD'].lower()"
   ]
  },
  {
   "cell_type": "markdown",
   "id": "1b8af3ea-650a-4383-a165-b3d9d1811c1c",
   "metadata": {},
   "source": [
    "Not a Colombian paper: DOI: https://doi.org/10.1017/S0007114515003153"
   ]
  },
  {
   "cell_type": "code",
   "execution_count": 188,
   "id": "e04926ff-d5c0-46dc-8a99-237c667f50f8",
   "metadata": {},
   "outputs": [
    {
     "data": {
      "text/plain": [
       "'antimicrobial cu-functionalized surfaces prepared by bipolar asymmetric dc-pulsed magnetron sputtering (dcp)'"
      ]
     },
     "execution_count": 188,
     "metadata": {},
     "output_type": "execute_result"
    }
   ],
   "source": [
    "mtn.iloc[6]['NME_PRODUCTO_PD'].lower()"
   ]
  },
  {
   "cell_type": "markdown",
   "id": "001aed75-70bb-41bf-bd26-924acf08ec79",
   "metadata": {},
   "source": [
    "Not a Colombian article: https://doi.org/10.1016/j.jphotochem.2011.03.022"
   ]
  },
  {
   "cell_type": "code",
   "execution_count": 191,
   "id": "69139029-f292-48b0-b4bc-4735565238f2",
   "metadata": {},
   "outputs": [
    {
     "data": {
      "text/plain": [
       "'biotechnological process for the production of chitin from the fungus ganoderma lucidum'"
      ]
     },
     "execution_count": 191,
     "metadata": {},
     "output_type": "execute_result"
    }
   ],
   "source": [
    "mtn.iloc[7]['NME_PRODUCTO_PD'].lower()"
   ]
  },
  {
   "cell_type": "markdown",
   "id": "14ca1e6d-413c-4d76-8863-cf8f51815a6a",
   "metadata": {},
   "source": [
    "* https://scholar.google.com/scholar.bib?q=info:kjXh5_UXtbQJ:scholar.google.com"
   ]
  },
  {
   "cell_type": "code",
   "execution_count": 200,
   "id": "d5b9ff57-3c85-4c10-9fac-62b4acbcd93b",
   "metadata": {},
   "outputs": [
    {
     "data": {
      "text/plain": [
       "'fibonacci lattice points'"
      ]
     },
     "execution_count": 200,
     "metadata": {},
     "output_type": "execute_result"
    }
   ],
   "source": [
    "unidecode( mtn.iloc[10]['NME_PRODUCTO_PD'].lower() )"
   ]
  },
  {
   "cell_type": "markdown",
   "id": "5c6d4d4c-3f27-456f-8023-cdc0f8d96b0c",
   "metadata": {},
   "source": [
    "Not a Colombian article: DOI 10.1007/s11139-010-9226-5"
   ]
  },
  {
   "cell_type": "code",
   "execution_count": 203,
   "id": "fa2c66d8-f2e6-47af-8dc7-75302817dba1",
   "metadata": {},
   "outputs": [
    {
     "data": {
      "text/plain": [
       "'der faktor zeit bei der ausbildung und entwicklung der passivschicht an der atmosphare'"
      ]
     },
     "execution_count": 203,
     "metadata": {},
     "output_type": "execute_result"
    }
   ],
   "source": [
    "unidecode( mtn.iloc[11]['NME_PRODUCTO_PD'].lower() )"
   ]
  },
  {
   "cell_type": "code",
   "execution_count": 208,
   "id": "7eb57fa7-3cc4-41e1-8f73-c40147ebdf80",
   "metadata": {},
   "outputs": [
    {
     "data": {
      "text/plain": [
       "'rosuvastatin to prevent vascular events in men and women with elevated c-reactive protein'"
      ]
     },
     "execution_count": 208,
     "metadata": {},
     "output_type": "execute_result"
    }
   ],
   "source": [
    "unidecode( mtn.iloc[13]['NME_PRODUCTO_PD'].lower()  )"
   ]
  },
  {
   "cell_type": "markdown",
   "id": "267fc4e1-0256-45ea-8205-c74df49b3bb2",
   "metadata": {},
   "source": [
    "DOI: 10.1056/NEJMoa0807646"
   ]
  },
  {
   "cell_type": "code",
   "execution_count": 210,
   "id": "4c85f0c9-fc35-4575-869f-6df7f29f8650",
   "metadata": {},
   "outputs": [
    {
     "data": {
      "text/html": [
       "<div>\n",
       "<style scoped>\n",
       "    .dataframe tbody tr th:only-of-type {\n",
       "        vertical-align: middle;\n",
       "    }\n",
       "\n",
       "    .dataframe tbody tr th {\n",
       "        vertical-align: top;\n",
       "    }\n",
       "\n",
       "    .dataframe thead th {\n",
       "        text-align: right;\n",
       "    }\n",
       "</style>\n",
       "<table border=\"1\" class=\"dataframe\">\n",
       "  <thead>\n",
       "    <tr style=\"text-align: right;\">\n",
       "      <th></th>\n",
       "      <th>_id</th>\n",
       "      <th>title</th>\n",
       "      <th>author</th>\n",
       "      <th>profiles</th>\n",
       "      <th>cites</th>\n",
       "      <th>journal</th>\n",
       "      <th>publisher</th>\n",
       "      <th>country</th>\n",
       "      <th>doi</th>\n",
       "      <th>year</th>\n",
       "      <th>...</th>\n",
       "      <th>pages</th>\n",
       "      <th>ref</th>\n",
       "      <th>pdf</th>\n",
       "      <th>cid</th>\n",
       "      <th>rp</th>\n",
       "      <th>bibtex</th>\n",
       "      <th>old_title</th>\n",
       "      <th>article_id</th>\n",
       "      <th>timestamp</th>\n",
       "      <th>Gtitle</th>\n",
       "    </tr>\n",
       "  </thead>\n",
       "  <tbody>\n",
       "    <tr>\n",
       "      <th>92038</th>\n",
       "      <td>{'$oid': '629115516f6a44dc7d6b1571'}</td>\n",
       "      <td>Rosuvastatin inhibits interleukin (IL)-8 and IL-6 production in human coronary artery endothelial cells stimulated with Aggregatibacter actinomycetemcomitans serotype b</td>\n",
       "      <td>Gualtero, Diego F and Viafara-Garcia, Sergio M and Morantes, Sandra J and Buitrago, Diana M and Gonzalez, Octavio A and Lafaurie, Gloria I</td>\n",
       "      <td>{'DF Gualtero': 'Kiw_XOQAAAAJ'}</td>\n",
       "      <td>22</td>\n",
       "      <td>Journal of periodontology</td>\n",
       "      <td>Wiley Online Library</td>\n",
       "      <td></td>\n",
       "      <td>10.1902/jop.2016.160288</td>\n",
       "      <td>2017</td>\n",
       "      <td>...</td>\n",
       "      <td>225--235</td>\n",
       "      <td>DF Gualtero, SM Viafara‐Garcia… - Journal of …, 2017 - Wiley Online Library</td>\n",
       "      <td>https://dialnet.unirioja.es/servlet/articulo?codigo=5836418</td>\n",
       "      <td>pz8upnD1nYoJ</td>\n",
       "      <td>0</td>\n",
       "      <td>@article{gualtero2017rosuvastatin,\\n  title={Rosuvastatin inhibits interleukin (IL)-8 and IL-6 production in human coronary artery endothelial cells stimulated with Aggregatibacter actinomycetemco...</td>\n",
       "      <td>Rosuvastatin Inhibits Interleukin (IL)‐8 and IL‐6 Production in Human Coronary Artery Endothelial Cells Stimulated With Aggregatibacter actinomycetemcomitans Serotype b</td>\n",
       "      <td></td>\n",
       "      <td>2022-05-31 20:16:54</td>\n",
       "      <td>Rosuvastatin inhibits interleukin (IL)-8 and IL-6 production in human coronary artery endothelial cells stimulated with Aggregatibacter actinomycetemcomitans serotype b</td>\n",
       "    </tr>\n",
       "  </tbody>\n",
       "</table>\n",
       "<p>1 rows × 22 columns</p>\n",
       "</div>"
      ],
      "text/plain": [
       "                                        _id  \\\n",
       "92038  {'$oid': '629115516f6a44dc7d6b1571'}   \n",
       "\n",
       "                                                                                                                                                                          title  \\\n",
       "92038  Rosuvastatin inhibits interleukin (IL)-8 and IL-6 production in human coronary artery endothelial cells stimulated with Aggregatibacter actinomycetemcomitans serotype b   \n",
       "\n",
       "                                                                                                                                           author  \\\n",
       "92038  Gualtero, Diego F and Viafara-Garcia, Sergio M and Morantes, Sandra J and Buitrago, Diana M and Gonzalez, Octavio A and Lafaurie, Gloria I   \n",
       "\n",
       "                              profiles  cites                    journal  \\\n",
       "92038  {'DF Gualtero': 'Kiw_XOQAAAAJ'}     22  Journal of periodontology   \n",
       "\n",
       "                  publisher country                      doi  year  ...  \\\n",
       "92038  Wiley Online Library          10.1902/jop.2016.160288  2017  ...   \n",
       "\n",
       "          pages  \\\n",
       "92038  225--235   \n",
       "\n",
       "                                                                               ref  \\\n",
       "92038  DF Gualtero, SM Viafara‐Garcia… - Journal of …, 2017 - Wiley Online Library   \n",
       "\n",
       "                                                               pdf  \\\n",
       "92038  https://dialnet.unirioja.es/servlet/articulo?codigo=5836418   \n",
       "\n",
       "                cid rp  \\\n",
       "92038  pz8upnD1nYoJ  0   \n",
       "\n",
       "                                                                                                                                                                                                        bibtex  \\\n",
       "92038  @article{gualtero2017rosuvastatin,\\n  title={Rosuvastatin inhibits interleukin (IL)-8 and IL-6 production in human coronary artery endothelial cells stimulated with Aggregatibacter actinomycetemco...   \n",
       "\n",
       "                                                                                                                                                                      old_title  \\\n",
       "92038  Rosuvastatin Inhibits Interleukin (IL)‐8 and IL‐6 Production in Human Coronary Artery Endothelial Cells Stimulated With Aggregatibacter actinomycetemcomitans Serotype b   \n",
       "\n",
       "      article_id           timestamp  \\\n",
       "92038            2022-05-31 20:16:54   \n",
       "\n",
       "                                                                                                                                                                         Gtitle  \n",
       "92038  Rosuvastatin inhibits interleukin (IL)-8 and IL-6 production in human coronary artery endothelial cells stimulated with Aggregatibacter actinomycetemcomitans serotype b  \n",
       "\n",
       "[1 rows x 22 columns]"
      ]
     },
     "execution_count": 210,
     "metadata": {},
     "output_type": "execute_result"
    }
   ],
   "source": [
    "co[co.title.str.lower().apply(unidecode).str.contains('^rosuvastatin' )]"
   ]
  },
  {
   "cell_type": "code",
   "execution_count": 246,
   "id": "d5fe05e1-2b65-46b8-9669-dfde6b5c0e38",
   "metadata": {},
   "outputs": [
    {
     "data": {
      "text/plain": [
       "'natalia-dyer-no-hubiera-podido-soportar-ser-adolescente-y-tener-exposicion-en-redes'"
      ]
     },
     "execution_count": 246,
     "metadata": {},
     "output_type": "execute_result"
    }
   ],
   "source": [
    "unidecode('Natalia Dyer No hubiera podido soportar ser adolescente y tener exposición en redes').lower().replace(' ','-')"
   ]
  },
  {
   "cell_type": "code",
   "execution_count": 250,
   "id": "9802466f-7719-4671-a7ba-6e37f55be04b",
   "metadata": {},
   "outputs": [],
   "source": [
    "del co"
   ]
  },
  {
   "cell_type": "markdown",
   "id": "51dab269-722f-42df-a101-8b679036ae18",
   "metadata": {
    "tags": []
   },
   "source": [
    "## OpenAlex Match"
   ]
  },
  {
   "cell_type": "code",
   "execution_count": 7,
   "id": "8c129653-8904-4f7b-b656-5721e0f19997",
   "metadata": {},
   "outputs": [],
   "source": [
    "import pandas as pd\n",
    "import wosplus as wp"
   ]
  },
  {
   "cell_type": "code",
   "execution_count": 9,
   "id": "e5a5e632-9e20-42c0-be17-6cdf9498cf5a",
   "metadata": {},
   "outputs": [],
   "source": [
    "md=pd.read_json('data/lens_mdbg.json')"
   ]
  },
  {
   "cell_type": "code",
   "execution_count": 10,
   "id": "5e35e126-cd7a-48eb-9e63-6fa237336b5f",
   "metadata": {},
   "outputs": [
    {
     "data": {
      "text/plain": [
       "(15816, 21)"
      ]
     },
     "execution_count": 10,
     "metadata": {},
     "output_type": "execute_result"
    }
   ],
   "source": [
    "md.shape"
   ]
  },
  {
   "cell_type": "code",
   "execution_count": 11,
   "id": "f892ec89-0675-490b-915f-3498e6531c9b",
   "metadata": {},
   "outputs": [
    {
     "data": {
      "text/plain": [
       "(15816, 21)"
      ]
     },
     "execution_count": 11,
     "metadata": {},
     "output_type": "execute_result"
    }
   ],
   "source": [
    "md=md.dropna(subset=['title']).reset_index(drop=True)\n",
    "md.shape"
   ]
  },
  {
   "cell_type": "code",
   "execution_count": 13,
   "id": "bd0345a3-ced3-4b46-ad2a-542d6b4290cb",
   "metadata": {},
   "outputs": [
    {
     "name": "stderr",
     "output_type": "stream",
     "text": [
      "/tmp/ipykernel_1022108/3860724876.py:1: FutureWarning: The default value of regex will change from True to False in a future version.\n",
      "  md['title']=md.title.str.replace(r'\\<(\\w+)\\>',r'').str.replace(r'\\<\\/(\\w+)\\>',r'')\n"
     ]
    }
   ],
   "source": [
    "md['title']=md.title.str.replace(r'\\<(\\w+)\\>',r'').str.replace(r'\\<\\/(\\w+)\\>',r'')"
   ]
  },
  {
   "cell_type": "code",
   "execution_count": 67,
   "id": "47e2b3d4-07f6-45b3-8c15-3776601d150a",
   "metadata": {},
   "outputs": [],
   "source": [
    "df['year']=df['year'].astype(str)"
   ]
  },
  {
   "cell_type": "code",
   "execution_count": 15,
   "id": "05608b28-3ec2-4715-aa64-e932448d4914",
   "metadata": {},
   "outputs": [],
   "source": [
    "md['title']=md.title.astype(str)\n",
    "md['year_published']=md.year_published.astype(str)"
   ]
  },
  {
   "cell_type": "code",
   "execution_count": 75,
   "id": "8a96aa8c-09ed-49fd-b14d-78c053168500",
   "metadata": {},
   "outputs": [
    {
     "name": "stdout",
     "output_type": "stream",
     "text": [
      "............................................................................................................................................................................................................................................................................................................................................................................................................................................................................................................................................................................................................................................................................................................................................................................................................................................................................................................................................................................................................................................................................................................................................................................................................................................................................................................................................................................................................................................................................................................................................................................................................................................................................................................................................................................................................................................................................................................................................................................................................................................................................................................................................................................................................................................................................................................................................................................................................................................................................................................................................................................................................................................................................................................................................................................................................................................................................................................................................................................................................................................................................................................................................................................................................................................................................................................................................................................................................................................................................................................................................................................................................................................................................................................................................................................................................................................................................................................................................................................................................."
     ]
    }
   ],
   "source": [
    "mt=wp.merge_with_close_matches(df[['NME_PRODUCTO_PD','year','ID_PRODUCTO_PD']],md[['title', 'year_published','lens_id']],\n",
    "                              left_on='NME_PRODUCTO_PD',\n",
    "                              right_on='title',\n",
    "                              left_extra_on='year',\n",
    "                              right_extra_on='year_published',\n",
    "                              how='left',                              \n",
    "                              cutoff=0.9)"
   ]
  },
  {
   "cell_type": "code",
   "execution_count": null,
   "id": "2e80bd4e-067f-40bf-9e2c-c0be4d792a9a",
   "metadata": {},
   "outputs": [
    {
     "data": {
      "text/plain": [
       "(385291, 6)"
      ]
     },
     "execution_count": 17,
     "metadata": {},
     "output_type": "execute_result"
    }
   ],
   "source": [
    "mt.shape"
   ]
  },
  {
   "cell_type": "code",
   "execution_count": 52,
   "id": "1ebeec49-ee9c-440a-86bf-2119070b9796",
   "metadata": {},
   "outputs": [],
   "source": [
    "mt_bak=mt.copy()"
   ]
  },
  {
   "cell_type": "code",
   "execution_count": 18,
   "id": "47594c6d-9a9e-42b9-8e90-7d5527d05faa",
   "metadata": {},
   "outputs": [],
   "source": [
    "mt=mt[~mt['title'].isna()].reset_index(drop=True)"
   ]
  },
  {
   "cell_type": "code",
   "execution_count": 56,
   "id": "1ca2ee57-fd79-4420-9482-74a35d1f53c7",
   "metadata": {},
   "outputs": [],
   "source": [
    "mt=mt[['ID_PRODUCTO_PD','id']].merge(df,on='ID_PRODUCTO_PD',how='left')"
   ]
  },
  {
   "cell_type": "code",
   "execution_count": 58,
   "id": "3ac3cd44-a8cd-4e24-b7c3-19afe770d9c7",
   "metadata": {},
   "outputs": [
    {
     "data": {
      "text/html": [
       "<div>\n",
       "<style scoped>\n",
       "    .dataframe tbody tr th:only-of-type {\n",
       "        vertical-align: middle;\n",
       "    }\n",
       "\n",
       "    .dataframe tbody tr th {\n",
       "        vertical-align: top;\n",
       "    }\n",
       "\n",
       "    .dataframe thead th {\n",
       "        text-align: right;\n",
       "    }\n",
       "</style>\n",
       "<table border=\"1\" class=\"dataframe\">\n",
       "  <thead>\n",
       "    <tr style=\"text-align: right;\">\n",
       "      <th></th>\n",
       "      <th>COD_GRUPO_GR</th>\n",
       "      <th>NME_GRUPO_GR</th>\n",
       "    </tr>\n",
       "  </thead>\n",
       "  <tbody>\n",
       "    <tr>\n",
       "      <th>0</th>\n",
       "      <td>COL0092392</td>\n",
       "      <td>CENTRO DE ESTUDIO DE ENFERMEDADES AUTOINMUNES ...</td>\n",
       "    </tr>\n",
       "    <tr>\n",
       "      <th>1</th>\n",
       "      <td>COL0166315</td>\n",
       "      <td>MEDICINA RACIONAL</td>\n",
       "    </tr>\n",
       "    <tr>\n",
       "      <th>2</th>\n",
       "      <td>COL0064459</td>\n",
       "      <td>GRUPO DE INVESTIGACIONES EN FARMACOLOGÍA MOLEC...</td>\n",
       "    </tr>\n",
       "    <tr>\n",
       "      <th>3</th>\n",
       "      <td>COL0017834</td>\n",
       "      <td>PATOLOGIA QUIRURGICA US</td>\n",
       "    </tr>\n",
       "    <tr>\n",
       "      <th>4</th>\n",
       "      <td>COL0058828</td>\n",
       "      <td>Medicina preventiva y social</td>\n",
       "    </tr>\n",
       "    <tr>\n",
       "      <th>5</th>\n",
       "      <td>COL0010806</td>\n",
       "      <td>Grupo de Parasitología</td>\n",
       "    </tr>\n",
       "    <tr>\n",
       "      <th>6</th>\n",
       "      <td>COL0015839</td>\n",
       "      <td>SALUD SEXUAL Y REPRODUCTIVA</td>\n",
       "    </tr>\n",
       "    <tr>\n",
       "      <th>7</th>\n",
       "      <td>COL0052074</td>\n",
       "      <td>Familia y Sociedad</td>\n",
       "    </tr>\n",
       "    <tr>\n",
       "      <th>8</th>\n",
       "      <td>COL0063855</td>\n",
       "      <td>Grupo de Equidad en Salud</td>\n",
       "    </tr>\n",
       "    <tr>\n",
       "      <th>9</th>\n",
       "      <td>COL0012489</td>\n",
       "      <td>Institucionalidad y Desarrollo Rural</td>\n",
       "    </tr>\n",
       "    <tr>\n",
       "      <th>10</th>\n",
       "      <td>COL0006483</td>\n",
       "      <td>GRUPO DE NEUROCIENCIAS-UNIVERSIDAD NACIONAL DE...</td>\n",
       "    </tr>\n",
       "    <tr>\n",
       "      <th>11</th>\n",
       "      <td>COL0026904</td>\n",
       "      <td>Grupo de Apoyo Pedagógico y Formación Docente</td>\n",
       "    </tr>\n",
       "    <tr>\n",
       "      <th>12</th>\n",
       "      <td>COL0015633</td>\n",
       "      <td>Relativismo y racionalidad</td>\n",
       "    </tr>\n",
       "    <tr>\n",
       "      <th>13</th>\n",
       "      <td>COL0053071</td>\n",
       "      <td>Grupo de investigación en Salud Pública</td>\n",
       "    </tr>\n",
       "    <tr>\n",
       "      <th>14</th>\n",
       "      <td>COL0008737</td>\n",
       "      <td>Grupo de Investigacion en Cardiologia</td>\n",
       "    </tr>\n",
       "    <tr>\n",
       "      <th>15</th>\n",
       "      <td>COL0068403</td>\n",
       "      <td>Genetica Humana</td>\n",
       "    </tr>\n",
       "    <tr>\n",
       "      <th>16</th>\n",
       "      <td>COL0003703</td>\n",
       "      <td>Economía de la Salud</td>\n",
       "    </tr>\n",
       "    <tr>\n",
       "      <th>17</th>\n",
       "      <td>COL0015286</td>\n",
       "      <td>Psicología del Consumidor</td>\n",
       "    </tr>\n",
       "    <tr>\n",
       "      <th>18</th>\n",
       "      <td>COL0050229</td>\n",
       "      <td>Investigacion en Ciencias Biomedicas</td>\n",
       "    </tr>\n",
       "    <tr>\n",
       "      <th>19</th>\n",
       "      <td>COL0070798</td>\n",
       "      <td>CINPE-Centro de Investigación en Neonatología ...</td>\n",
       "    </tr>\n",
       "    <tr>\n",
       "      <th>20</th>\n",
       "      <td>COL0012499</td>\n",
       "      <td>Unidad de Investigación Básica Oral UIBO</td>\n",
       "    </tr>\n",
       "    <tr>\n",
       "      <th>21</th>\n",
       "      <td>COL0014949</td>\n",
       "      <td>Procesos y Métodos en Psicología Social y Psic...</td>\n",
       "    </tr>\n",
       "    <tr>\n",
       "      <th>22</th>\n",
       "      <td>COL0038235</td>\n",
       "      <td>Unidad de Ortopedia y Traumatologia de la Univ...</td>\n",
       "    </tr>\n",
       "    <tr>\n",
       "      <th>23</th>\n",
       "      <td>COL0000059</td>\n",
       "      <td>Centro de Investigaciones Odontológicas</td>\n",
       "    </tr>\n",
       "    <tr>\n",
       "      <th>24</th>\n",
       "      <td>COL0051504</td>\n",
       "      <td>Alimentación y Nutrición Humana</td>\n",
       "    </tr>\n",
       "    <tr>\n",
       "      <th>25</th>\n",
       "      <td>COL0135659</td>\n",
       "      <td>INVENDO</td>\n",
       "    </tr>\n",
       "    <tr>\n",
       "      <th>26</th>\n",
       "      <td>COL0113089</td>\n",
       "      <td>Urología Fundación Santa Fe de Bogotá</td>\n",
       "    </tr>\n",
       "    <tr>\n",
       "      <th>27</th>\n",
       "      <td>COL0015839</td>\n",
       "      <td>SALUD SEXUAL Y REPRODUCTIVA</td>\n",
       "    </tr>\n",
       "    <tr>\n",
       "      <th>28</th>\n",
       "      <td>COL0056199</td>\n",
       "      <td>INFECCIÓN E INMUNIDAD</td>\n",
       "    </tr>\n",
       "    <tr>\n",
       "      <th>29</th>\n",
       "      <td>COL0087024</td>\n",
       "      <td>CONTROL GENETICO EN SALUD ANIMAL</td>\n",
       "    </tr>\n",
       "    <tr>\n",
       "      <th>30</th>\n",
       "      <td>COL0015437</td>\n",
       "      <td>Ciencias de la Rehabilitación</td>\n",
       "    </tr>\n",
       "    <tr>\n",
       "      <th>31</th>\n",
       "      <td>COL0107771</td>\n",
       "      <td>Grupo para el estudio de enfermedades respirat...</td>\n",
       "    </tr>\n",
       "    <tr>\n",
       "      <th>32</th>\n",
       "      <td>COL0062858</td>\n",
       "      <td>Grupo Interdisciplinario en Teoría e Investiga...</td>\n",
       "    </tr>\n",
       "    <tr>\n",
       "      <th>33</th>\n",
       "      <td>COL0000935</td>\n",
       "      <td>Bioingeniería, análisis de señales y procesami...</td>\n",
       "    </tr>\n",
       "    <tr>\n",
       "      <th>34</th>\n",
       "      <td>COL0000407</td>\n",
       "      <td>Alimentación y Nutrición Humana</td>\n",
       "    </tr>\n",
       "    <tr>\n",
       "      <th>35</th>\n",
       "      <td>COL0004569</td>\n",
       "      <td>Estudio y aprovechamiento de Productos Natural...</td>\n",
       "    </tr>\n",
       "    <tr>\n",
       "      <th>36</th>\n",
       "      <td>COL0014439</td>\n",
       "      <td>PROFILE (Profesores de Inglés como Lengua Extr...</td>\n",
       "    </tr>\n",
       "    <tr>\n",
       "      <th>37</th>\n",
       "      <td>COL0012309</td>\n",
       "      <td>Infecciones y Salud en el Trópico</td>\n",
       "    </tr>\n",
       "  </tbody>\n",
       "</table>\n",
       "</div>"
      ],
      "text/plain": [
       "   COD_GRUPO_GR                                       NME_GRUPO_GR\n",
       "0    COL0092392  CENTRO DE ESTUDIO DE ENFERMEDADES AUTOINMUNES ...\n",
       "1    COL0166315                                  MEDICINA RACIONAL\n",
       "2    COL0064459  GRUPO DE INVESTIGACIONES EN FARMACOLOGÍA MOLEC...\n",
       "3    COL0017834                            PATOLOGIA QUIRURGICA US\n",
       "4    COL0058828                       Medicina preventiva y social\n",
       "5    COL0010806                             Grupo de Parasitología\n",
       "6    COL0015839                        SALUD SEXUAL Y REPRODUCTIVA\n",
       "7    COL0052074                                 Familia y Sociedad\n",
       "8    COL0063855                          Grupo de Equidad en Salud\n",
       "9    COL0012489               Institucionalidad y Desarrollo Rural\n",
       "10   COL0006483  GRUPO DE NEUROCIENCIAS-UNIVERSIDAD NACIONAL DE...\n",
       "11   COL0026904      Grupo de Apoyo Pedagógico y Formación Docente\n",
       "12   COL0015633                         Relativismo y racionalidad\n",
       "13   COL0053071            Grupo de investigación en Salud Pública\n",
       "14   COL0008737              Grupo de Investigacion en Cardiologia\n",
       "15   COL0068403                                    Genetica Humana\n",
       "16   COL0003703                               Economía de la Salud\n",
       "17   COL0015286                          Psicología del Consumidor\n",
       "18   COL0050229               Investigacion en Ciencias Biomedicas\n",
       "19   COL0070798  CINPE-Centro de Investigación en Neonatología ...\n",
       "20   COL0012499           Unidad de Investigación Básica Oral UIBO\n",
       "21   COL0014949  Procesos y Métodos en Psicología Social y Psic...\n",
       "22   COL0038235  Unidad de Ortopedia y Traumatologia de la Univ...\n",
       "23   COL0000059            Centro de Investigaciones Odontológicas\n",
       "24   COL0051504                    Alimentación y Nutrición Humana\n",
       "25   COL0135659                                            INVENDO\n",
       "26   COL0113089              Urología Fundación Santa Fe de Bogotá\n",
       "27   COL0015839                        SALUD SEXUAL Y REPRODUCTIVA\n",
       "28   COL0056199                              INFECCIÓN E INMUNIDAD\n",
       "29   COL0087024                   CONTROL GENETICO EN SALUD ANIMAL\n",
       "30   COL0015437                      Ciencias de la Rehabilitación\n",
       "31   COL0107771  Grupo para el estudio de enfermedades respirat...\n",
       "32   COL0062858  Grupo Interdisciplinario en Teoría e Investiga...\n",
       "33   COL0000935  Bioingeniería, análisis de señales y procesami...\n",
       "34   COL0000407                    Alimentación y Nutrición Humana\n",
       "35   COL0004569  Estudio y aprovechamiento de Productos Natural...\n",
       "36   COL0014439  PROFILE (Profesores de Inglés como Lengua Extr...\n",
       "37   COL0012309                  Infecciones y Salud en el Trópico"
      ]
     },
     "execution_count": 58,
     "metadata": {},
     "output_type": "execute_result"
    }
   ],
   "source": [
    "mt[['COD_GRUPO_GR', 'NME_GRUPO_GR']]"
   ]
  },
  {
   "cell_type": "code",
   "execution_count": 64,
   "id": "83af9ab9-4cf8-4f50-8afd-6bf761cd0d78",
   "metadata": {},
   "outputs": [
    {
     "data": {
      "text/plain": [
       "14641.058"
      ]
     },
     "execution_count": 64,
     "metadata": {},
     "output_type": "execute_result"
    }
   ],
   "source": [
    "385291*38/1000"
   ]
  },
  {
   "cell_type": "markdown",
   "id": "ab5995b6-f31a-48cc-8481-ea5ad40470d3",
   "metadata": {},
   "source": [
    "## Lens match\n",
    "https://link.lens.org/zm2hQNII5q"
   ]
  },
  {
   "cell_type": "code",
   "execution_count": 7,
   "id": "e374bb1d",
   "metadata": {},
   "outputs": [],
   "source": [
    "import pandas as pd\n",
    "import wosplus as wp"
   ]
  },
  {
   "cell_type": "code",
   "execution_count": 132,
   "id": "aa76a3e5-7c05-426a-b551-388255808292",
   "metadata": {},
   "outputs": [
    {
     "data": {
      "text/plain": [
       "(385291, 15)"
      ]
     },
     "execution_count": 132,
     "metadata": {},
     "output_type": "execute_result"
    }
   ],
   "source": [
    "df.shape"
   ]
  },
  {
   "cell_type": "code",
   "execution_count": 9,
   "id": "e5a5e632-9e20-42c0-be17-6cdf9498cf5a",
   "metadata": {},
   "outputs": [],
   "source": [
    "md=pd.read_json('data/lens_mdbg.json')"
   ]
  },
  {
   "cell_type": "code",
   "execution_count": 10,
   "id": "5e35e126-cd7a-48eb-9e63-6fa237336b5f",
   "metadata": {},
   "outputs": [
    {
     "data": {
      "text/plain": [
       "(15816, 21)"
      ]
     },
     "execution_count": 10,
     "metadata": {},
     "output_type": "execute_result"
    }
   ],
   "source": [
    "md.shape"
   ]
  },
  {
   "cell_type": "code",
   "execution_count": 11,
   "id": "f892ec89-0675-490b-915f-3498e6531c9b",
   "metadata": {},
   "outputs": [
    {
     "data": {
      "text/plain": [
       "(15816, 21)"
      ]
     },
     "execution_count": 11,
     "metadata": {},
     "output_type": "execute_result"
    }
   ],
   "source": [
    "md=md.dropna(subset=['title']).reset_index(drop=True)\n",
    "md.shape"
   ]
  },
  {
   "cell_type": "code",
   "execution_count": 13,
   "id": "bd0345a3-ced3-4b46-ad2a-542d6b4290cb",
   "metadata": {},
   "outputs": [
    {
     "name": "stderr",
     "output_type": "stream",
     "text": [
      "/tmp/ipykernel_1022108/3860724876.py:1: FutureWarning: The default value of regex will change from True to False in a future version.\n",
      "  md['title']=md.title.str.replace(r'\\<(\\w+)\\>',r'').str.replace(r'\\<\\/(\\w+)\\>',r'')\n"
     ]
    }
   ],
   "source": [
    "md['title']=md.title.str.replace(r'\\<(\\w+)\\>',r'').str.replace(r'\\<\\/(\\w+)\\>',r'')"
   ]
  },
  {
   "cell_type": "code",
   "execution_count": 67,
   "id": "47e2b3d4-07f6-45b3-8c15-3776601d150a",
   "metadata": {},
   "outputs": [],
   "source": [
    "df['year']=df['year'].astype(str)"
   ]
  },
  {
   "cell_type": "code",
   "execution_count": 14,
   "id": "c8a49775-ab46-4c6b-a009-3956a4ba0533",
   "metadata": {},
   "outputs": [
    {
     "data": {
      "text/plain": [
       "Index(['abstract', 'authors', 'chemicals', 'date_published', 'end_page',\n",
       "       'fields_of_study', 'funding', 'issue', 'keywords', 'lens_id',\n",
       "       'mesh_terms', 'patent_citations_count', 'publication_type',\n",
       "       'references', 'scholarly_citations_count', 'source_urls', 'start_page',\n",
       "       'title', 'volume', 'year_published', 'source'],\n",
       "      dtype='object')"
      ]
     },
     "execution_count": 14,
     "metadata": {},
     "output_type": "execute_result"
    }
   ],
   "source": [
    "md.columns"
   ]
  },
  {
   "cell_type": "code",
   "execution_count": 15,
   "id": "05608b28-3ec2-4715-aa64-e932448d4914",
   "metadata": {},
   "outputs": [],
   "source": [
    "md['title']=md.title.astype(str)\n",
    "md['year_published']=md.year_published.astype(str)"
   ]
  },
  {
   "cell_type": "code",
   "execution_count": 75,
   "id": "8a96aa8c-09ed-49fd-b14d-78c053168500",
   "metadata": {},
   "outputs": [
    {
     "name": "stdout",
     "output_type": "stream",
     "text": [
      "............................................................................................................................................................................................................................................................................................................................................................................................................................................................................................................................................................................................................................................................................................................................................................................................................................................................................................................................................................................................................................................................................................................................................................................................................................................................................................................................................................................................................................................................................................................................................................................................................................................................................................................................................................................................................................................................................................................................................................................................................................................................................................................................................................................................................................................................................................................................................................................................................................................................................................................................................................................................................................................................................................................................................................................................................................................................................................................................................................................................................................................................................................................................................................................................................................................................................................................................................................................................................................................................................................................................................................................................................................................................................................................................................................................................................................................................................................................................................................................................................."
     ]
    }
   ],
   "source": [
    "mt=wp.merge_with_close_matches(df[['NME_PRODUCTO_PD','year','ID_PRODUCTO_PD']],md[['title', 'year_published','lens_id']],\n",
    "                              left_on='NME_PRODUCTO_PD',\n",
    "                              right_on='title',\n",
    "                              left_extra_on='year',\n",
    "                              right_extra_on='year_published',\n",
    "                              how='left',                              \n",
    "                              cutoff=0.9)"
   ]
  },
  {
   "cell_type": "code",
   "execution_count": null,
   "id": "2e80bd4e-067f-40bf-9e2c-c0be4d792a9a",
   "metadata": {},
   "outputs": [
    {
     "data": {
      "text/plain": [
       "(385291, 6)"
      ]
     },
     "execution_count": 17,
     "metadata": {},
     "output_type": "execute_result"
    }
   ],
   "source": [
    "mt.shape"
   ]
  },
  {
   "cell_type": "code",
   "execution_count": 52,
   "id": "1ebeec49-ee9c-440a-86bf-2119070b9796",
   "metadata": {},
   "outputs": [],
   "source": [
    "mt_bak=mt.copy()"
   ]
  },
  {
   "cell_type": "code",
   "execution_count": 18,
   "id": "47594c6d-9a9e-42b9-8e90-7d5527d05faa",
   "metadata": {},
   "outputs": [],
   "source": [
    "mt=mt[~mt['title'].isna()].reset_index(drop=True)"
   ]
  },
  {
   "cell_type": "code",
   "execution_count": 19,
   "id": "30377b2b-605a-4b85-bb35-e961ae06fec0",
   "metadata": {},
   "outputs": [
    {
     "data": {
      "text/plain": [
       "(14773, 6)"
      ]
     },
     "execution_count": 19,
     "metadata": {},
     "output_type": "execute_result"
    }
   ],
   "source": [
    "mt.shape"
   ]
  },
  {
   "cell_type": "code",
   "execution_count": null,
   "id": "7bc9af08-5b3f-44ed-9c9f-ed1769b4f128",
   "metadata": {},
   "outputs": [],
   "source": [
    "from fuzzywuzzy import fuzz\n",
    "from unidecode import unidecode\n",
    "import re\n",
    "mt['ratio']=mt.apply(lambda row:  fuzz.ratio( re.sub(r'\\\\\\w+\\s*',r'',\n",
    "                                              unidecode(row['NME_PRODUCTO_PD'].lower().strip(\n",
    "                                              ).replace('.','').replace('$','') ) \n",
    "                                                    ),\n",
    "                                              re.sub(r'\\\\\\w+\\s*',r'',\n",
    "                                              unidecode(row['title'].lower().strip(\n",
    "                                              ).replace('.','').replace('$','') )\n",
    "                                                    )\n",
    "                                                    ),\n",
    "                                 axis='columns')"
   ]
  },
  {
   "cell_type": "code",
   "execution_count": 129,
   "id": "f8a84b55-c3d7-4954-bbb3-78c23fa9f1a6",
   "metadata": {},
   "outputs": [],
   "source": [
    "mt.to_csv('lens_groups.csv',index=False)"
   ]
  },
  {
   "cell_type": "code",
   "execution_count": 131,
   "id": "50341bbd-076e-4869-b625-ae1cbffc473f",
   "metadata": {},
   "outputs": [
    {
     "data": {
      "text/plain": [
       "(14773, 7)"
      ]
     },
     "execution_count": 131,
     "metadata": {},
     "output_type": "execute_result"
    }
   ],
   "source": [
    "pd.read_csv('lens_groups.csv').shape"
   ]
  },
  {
   "cell_type": "markdown",
   "id": "3ac8c1b9-b7b0-49bd-a9b7-aeb478737ab2",
   "metadata": {},
   "source": [
    "### Análisis de resultados"
   ]
  },
  {
   "cell_type": "markdown",
   "id": "341d92f3-9adb-463d-83e8-b59d7472934d",
   "metadata": {},
   "source": [
    "Artículos únicos"
   ]
  },
  {
   "cell_type": "code",
   "execution_count": 126,
   "id": "a8c85674-8372-4862-827e-f2ad056b099a",
   "metadata": {},
   "outputs": [
    {
     "data": {
      "text/plain": [
       "(3792, 7)"
      ]
     },
     "execution_count": 126,
     "metadata": {},
     "output_type": "execute_result"
    }
   ],
   "source": [
    "mt.drop_duplicates('lens_id').shape"
   ]
  },
  {
   "cell_type": "markdown",
   "id": "1aff5017-5cd3-4ecc-bbf9-76b8ec079115",
   "metadata": {},
   "source": [
    "Algunos productos del Gruplac tienen el mismo 'ID_PRODUCTO_PD'  por pertenecer a diferentes convocatorias (ID_PRODUCTO_PD )\n",
    "* ART-0001305964-43\n",
    "* ART-0001305964-43\n",
    "* ..."
   ]
  },
  {
   "cell_type": "code",
   "execution_count": 84,
   "id": "49b6a40f-2094-4898-b772-c1edfc630e61",
   "metadata": {},
   "outputs": [
    {
     "data": {
      "text/html": [
       "<div>\n",
       "<style scoped>\n",
       "    .dataframe tbody tr th:only-of-type {\n",
       "        vertical-align: middle;\n",
       "    }\n",
       "\n",
       "    .dataframe tbody tr th {\n",
       "        vertical-align: top;\n",
       "    }\n",
       "\n",
       "    .dataframe thead th {\n",
       "        text-align: right;\n",
       "    }\n",
       "</style>\n",
       "<table border=\"1\" class=\"dataframe\">\n",
       "  <thead>\n",
       "    <tr style=\"text-align: right;\">\n",
       "      <th></th>\n",
       "      <th>ID_PRODUCTO_PD</th>\n",
       "      <th>ID_CONVOCATORIA</th>\n",
       "      <th>NME_CONVOCATORIA</th>\n",
       "      <th>ANO_CONVO</th>\n",
       "      <th>NME_CLASE_PD</th>\n",
       "      <th>NME_TIPO_MEDICION_PD</th>\n",
       "      <th>NME_TIPOLOGIA_PD</th>\n",
       "      <th>ID_TIPO_PD_MED</th>\n",
       "      <th>NME_CATEGORIA_PD</th>\n",
       "      <th>FCREACION_PD</th>\n",
       "      <th>NME_PRODUCTO_PD</th>\n",
       "      <th>COD_GRUPO_GR</th>\n",
       "      <th>NME_GRUPO_GR</th>\n",
       "      <th>ID_PERSONA_PD</th>\n",
       "      <th>year</th>\n",
       "    </tr>\n",
       "  </thead>\n",
       "  <tbody>\n",
       "    <tr>\n",
       "      <th>0</th>\n",
       "      <td>ART-0001305964-43</td>\n",
       "      <td>16.0</td>\n",
       "      <td>Convocatoria 640 de 2013</td>\n",
       "      <td>01/01/2013</td>\n",
       "      <td>Nuevo conocimiento</td>\n",
       "      <td>Nuevo conocimiento Tipo A</td>\n",
       "      <td>Artículos de investigación</td>\n",
       "      <td>ART-ART_B</td>\n",
       "      <td>Artículos de investigación Con Calidad B</td>\n",
       "      <td>01/01/2013</td>\n",
       "      <td>\"A NOVEL ASSOCIATION OF TWO NON-SYNONYMOUS POL...</td>\n",
       "      <td>COL0049293</td>\n",
       "      <td>Saber y Pràctica de Enfermeria</td>\n",
       "      <td>0001305964</td>\n",
       "      <td>2013</td>\n",
       "    </tr>\n",
       "    <tr>\n",
       "      <th>1</th>\n",
       "      <td>ART-0001305964-43</td>\n",
       "      <td>17.0</td>\n",
       "      <td>Convocatoria 693 de 2014</td>\n",
       "      <td>01/01/2014</td>\n",
       "      <td>Nuevo conocimiento</td>\n",
       "      <td>Nuevo conocimiento Top</td>\n",
       "      <td>Artículos de investigación</td>\n",
       "      <td>ART-ART_A2</td>\n",
       "      <td>Artículos de investigación Con Calidad A2</td>\n",
       "      <td>01/01/2013</td>\n",
       "      <td>\"A NOVEL ASSOCIATION OF TWO NON-SYNONYMOUS POL...</td>\n",
       "      <td>COL0049293</td>\n",
       "      <td>Saber y Pràctica de Enfermeria</td>\n",
       "      <td>0001305964</td>\n",
       "      <td>2013</td>\n",
       "    </tr>\n",
       "    <tr>\n",
       "      <th>2</th>\n",
       "      <td>ART-0001305964-43</td>\n",
       "      <td>18.0</td>\n",
       "      <td>Convocatoria 737 de 2015</td>\n",
       "      <td>01/01/2015</td>\n",
       "      <td>Nuevo conocimiento</td>\n",
       "      <td>Nuevo conocimiento Top</td>\n",
       "      <td>Artículos de investigación</td>\n",
       "      <td>ART-ART_A2</td>\n",
       "      <td>Artículos de investigación Con Calidad A2</td>\n",
       "      <td>01/01/2013</td>\n",
       "      <td>\"A NOVEL ASSOCIATION OF TWO NON-SYNONYMOUS POL...</td>\n",
       "      <td>COL0049293</td>\n",
       "      <td>Saber y Pràctica de Enfermeria</td>\n",
       "      <td>0001305964</td>\n",
       "      <td>2013</td>\n",
       "    </tr>\n",
       "    <tr>\n",
       "      <th>3</th>\n",
       "      <td>ART-0001305964-43</td>\n",
       "      <td>19.0</td>\n",
       "      <td>Convocatoria 781 de 2017</td>\n",
       "      <td>01/01/2017</td>\n",
       "      <td>Nuevo conocimiento</td>\n",
       "      <td>Nuevo conocimiento Top</td>\n",
       "      <td>Artículos de investigación</td>\n",
       "      <td>ART-ART_A2</td>\n",
       "      <td>Artículos de investigación Con Calidad A2</td>\n",
       "      <td>01/01/2013</td>\n",
       "      <td>\"A NOVEL ASSOCIATION OF TWO NON-SYNONYMOUS POL...</td>\n",
       "      <td>COL0049293</td>\n",
       "      <td>Saber y Pràctica de Enfermeria</td>\n",
       "      <td>0001305964</td>\n",
       "      <td>2013</td>\n",
       "    </tr>\n",
       "    <tr>\n",
       "      <th>4</th>\n",
       "      <td>ART-0001305964-43</td>\n",
       "      <td>20.0</td>\n",
       "      <td>Convocatoria 833 de 2018</td>\n",
       "      <td>06/12/2019</td>\n",
       "      <td>Nuevo conocimiento</td>\n",
       "      <td>Nuevo conocimiento Top</td>\n",
       "      <td>Artículos de investigación</td>\n",
       "      <td>ART-ART_A2</td>\n",
       "      <td>Artículos de investigación Con Calidad A2</td>\n",
       "      <td>01/01/2013</td>\n",
       "      <td>\"A NOVEL ASSOCIATION OF TWO NON-SYNONYMOUS POL...</td>\n",
       "      <td>COL0049293</td>\n",
       "      <td>Saber y Pràctica de Enfermeria</td>\n",
       "      <td>0001305964</td>\n",
       "      <td>2013</td>\n",
       "    </tr>\n",
       "  </tbody>\n",
       "</table>\n",
       "</div>"
      ],
      "text/plain": [
       "      ID_PRODUCTO_PD  ID_CONVOCATORIA          NME_CONVOCATORIA   ANO_CONVO  \\\n",
       "0  ART-0001305964-43             16.0  Convocatoria 640 de 2013  01/01/2013   \n",
       "1  ART-0001305964-43             17.0  Convocatoria 693 de 2014  01/01/2014   \n",
       "2  ART-0001305964-43             18.0  Convocatoria 737 de 2015  01/01/2015   \n",
       "3  ART-0001305964-43             19.0  Convocatoria 781 de 2017  01/01/2017   \n",
       "4  ART-0001305964-43             20.0  Convocatoria 833 de 2018  06/12/2019   \n",
       "\n",
       "         NME_CLASE_PD       NME_TIPO_MEDICION_PD            NME_TIPOLOGIA_PD  \\\n",
       "0  Nuevo conocimiento  Nuevo conocimiento Tipo A  Artículos de investigación   \n",
       "1  Nuevo conocimiento     Nuevo conocimiento Top  Artículos de investigación   \n",
       "2  Nuevo conocimiento     Nuevo conocimiento Top  Artículos de investigación   \n",
       "3  Nuevo conocimiento     Nuevo conocimiento Top  Artículos de investigación   \n",
       "4  Nuevo conocimiento     Nuevo conocimiento Top  Artículos de investigación   \n",
       "\n",
       "  ID_TIPO_PD_MED                           NME_CATEGORIA_PD FCREACION_PD  \\\n",
       "0      ART-ART_B   Artículos de investigación Con Calidad B   01/01/2013   \n",
       "1     ART-ART_A2  Artículos de investigación Con Calidad A2   01/01/2013   \n",
       "2     ART-ART_A2  Artículos de investigación Con Calidad A2   01/01/2013   \n",
       "3     ART-ART_A2  Artículos de investigación Con Calidad A2   01/01/2013   \n",
       "4     ART-ART_A2  Artículos de investigación Con Calidad A2   01/01/2013   \n",
       "\n",
       "                                     NME_PRODUCTO_PD COD_GRUPO_GR  \\\n",
       "0  \"A NOVEL ASSOCIATION OF TWO NON-SYNONYMOUS POL...   COL0049293   \n",
       "1  \"A NOVEL ASSOCIATION OF TWO NON-SYNONYMOUS POL...   COL0049293   \n",
       "2  \"A NOVEL ASSOCIATION OF TWO NON-SYNONYMOUS POL...   COL0049293   \n",
       "3  \"A NOVEL ASSOCIATION OF TWO NON-SYNONYMOUS POL...   COL0049293   \n",
       "4  \"A NOVEL ASSOCIATION OF TWO NON-SYNONYMOUS POL...   COL0049293   \n",
       "\n",
       "                     NME_GRUPO_GR ID_PERSONA_PD  year  \n",
       "0  Saber y Pràctica de Enfermeria    0001305964  2013  \n",
       "1  Saber y Pràctica de Enfermeria    0001305964  2013  \n",
       "2  Saber y Pràctica de Enfermeria    0001305964  2013  \n",
       "3  Saber y Pràctica de Enfermeria    0001305964  2013  \n",
       "4  Saber y Pràctica de Enfermeria    0001305964  2013  "
      ]
     },
     "execution_count": 84,
     "metadata": {},
     "output_type": "execute_result"
    }
   ],
   "source": [
    "mt[mt.duplicated(subset='NME_PRODUCTO_PD',keep=False)\n",
    "  ].sort_values('NME_PRODUCTO_PD'\n",
    "  )[['ID_PRODUCTO_PD']].merge(df,on='ID_PRODUCTO_PD',how='left')[:5].drop_duplicates()"
   ]
  },
  {
   "cell_type": "markdown",
   "id": "e6b2048c-0449-426c-9317-bfbfba7e804d",
   "metadata": {},
   "source": [
    "Algunos productos del Gruplac tienen el mismo 'NME_PRODUCTO_PD'  por pertenecer a autores diferentes (del mismo grupo) "
   ]
  },
  {
   "cell_type": "code",
   "execution_count": 95,
   "id": "5a6d449d-765b-4273-8430-60b844c82f97",
   "metadata": {},
   "outputs": [],
   "source": [
    "kk=mt.sort_values('ratio',ascending=False).drop_duplicates(subset=['ID_PRODUCTO_PD'])"
   ]
  },
  {
   "cell_type": "code",
   "execution_count": 96,
   "id": "4c6684ab-3f34-4cbb-be1f-2c7ac453e7e5",
   "metadata": {},
   "outputs": [
    {
     "data": {
      "text/plain": [
       "(6606, 7)"
      ]
     },
     "execution_count": 96,
     "metadata": {},
     "output_type": "execute_result"
    }
   ],
   "source": [
    "kk.shape"
   ]
  },
  {
   "cell_type": "markdown",
   "id": "a6d43e9b-1842-4a3a-b00b-9066174c7146",
   "metadata": {},
   "source": [
    "Algunos productos del Gruplac tienen el mismo 'ID_PRODUCTO_PD'  por pertenecer a diferentes convocatorias (ID_PRODUCTO_PD )\n",
    "* ART-0000699195-51\n",
    "* ART-0000699187-18"
   ]
  },
  {
   "cell_type": "code",
   "execution_count": 117,
   "id": "8a9c9e36-7303-49dd-9826-7f4969627df3",
   "metadata": {},
   "outputs": [
    {
     "data": {
      "text/html": [
       "<div>\n",
       "<style scoped>\n",
       "    .dataframe tbody tr th:only-of-type {\n",
       "        vertical-align: middle;\n",
       "    }\n",
       "\n",
       "    .dataframe tbody tr th {\n",
       "        vertical-align: top;\n",
       "    }\n",
       "\n",
       "    .dataframe thead th {\n",
       "        text-align: right;\n",
       "    }\n",
       "</style>\n",
       "<table border=\"1\" class=\"dataframe\">\n",
       "  <thead>\n",
       "    <tr style=\"text-align: right;\">\n",
       "      <th></th>\n",
       "      <th>NME_PRODUCTO_PD</th>\n",
       "      <th>ID_CONVOCATORIA</th>\n",
       "      <th>NME_CONVOCATORIA</th>\n",
       "      <th>ANO_CONVO</th>\n",
       "      <th>ID_PRODUCTO_PD</th>\n",
       "      <th>NME_CLASE_PD</th>\n",
       "      <th>NME_TIPO_MEDICION_PD</th>\n",
       "      <th>NME_TIPOLOGIA_PD</th>\n",
       "      <th>ID_TIPO_PD_MED</th>\n",
       "      <th>NME_CATEGORIA_PD</th>\n",
       "      <th>FCREACION_PD</th>\n",
       "      <th>COD_GRUPO_GR</th>\n",
       "      <th>NME_GRUPO_GR</th>\n",
       "      <th>ID_PERSONA_PD</th>\n",
       "      <th>year</th>\n",
       "    </tr>\n",
       "  </thead>\n",
       "  <tbody>\n",
       "    <tr>\n",
       "      <th>0</th>\n",
       "      <td>3, 4-methylenedioximethamphetamine reverses an...</td>\n",
       "      <td>17.0</td>\n",
       "      <td>Convocatoria 693 de 2014</td>\n",
       "      <td>01/01/2014</td>\n",
       "      <td>ART-0000699195-51</td>\n",
       "      <td>Nuevo conocimiento</td>\n",
       "      <td>Nuevo conocimiento Tipo A</td>\n",
       "      <td>Artículos de investigación</td>\n",
       "      <td>ART-ART_C</td>\n",
       "      <td>Artículos de investigación Con Calidad C</td>\n",
       "      <td>08/01/2013</td>\n",
       "      <td>COL0057366</td>\n",
       "      <td>neurociencia y comportamiento</td>\n",
       "      <td>0000699195</td>\n",
       "      <td>2013</td>\n",
       "    </tr>\n",
       "    <tr>\n",
       "      <th>1</th>\n",
       "      <td>3, 4-methylenedioximethamphetamine reverses an...</td>\n",
       "      <td>17.0</td>\n",
       "      <td>Convocatoria 693 de 2014</td>\n",
       "      <td>01/01/2014</td>\n",
       "      <td>ART-0000699187-18</td>\n",
       "      <td>Nuevo conocimiento</td>\n",
       "      <td>Nuevo conocimiento Tipo A</td>\n",
       "      <td>Artículos de investigación</td>\n",
       "      <td>ART-ART_C</td>\n",
       "      <td>Artículos de investigación Con Calidad C</td>\n",
       "      <td>10/01/2013</td>\n",
       "      <td>COL0057366</td>\n",
       "      <td>neurociencia y comportamiento</td>\n",
       "      <td>0000699187</td>\n",
       "      <td>2013</td>\n",
       "    </tr>\n",
       "  </tbody>\n",
       "</table>\n",
       "</div>"
      ],
      "text/plain": [
       "                                     NME_PRODUCTO_PD  ID_CONVOCATORIA  \\\n",
       "0  3, 4-methylenedioximethamphetamine reverses an...             17.0   \n",
       "1  3, 4-methylenedioximethamphetamine reverses an...             17.0   \n",
       "\n",
       "           NME_CONVOCATORIA   ANO_CONVO     ID_PRODUCTO_PD  \\\n",
       "0  Convocatoria 693 de 2014  01/01/2014  ART-0000699195-51   \n",
       "1  Convocatoria 693 de 2014  01/01/2014  ART-0000699187-18   \n",
       "\n",
       "         NME_CLASE_PD       NME_TIPO_MEDICION_PD            NME_TIPOLOGIA_PD  \\\n",
       "0  Nuevo conocimiento  Nuevo conocimiento Tipo A  Artículos de investigación   \n",
       "1  Nuevo conocimiento  Nuevo conocimiento Tipo A  Artículos de investigación   \n",
       "\n",
       "  ID_TIPO_PD_MED                          NME_CATEGORIA_PD FCREACION_PD  \\\n",
       "0      ART-ART_C  Artículos de investigación Con Calidad C   08/01/2013   \n",
       "1      ART-ART_C  Artículos de investigación Con Calidad C   10/01/2013   \n",
       "\n",
       "  COD_GRUPO_GR                   NME_GRUPO_GR ID_PERSONA_PD  year  \n",
       "0   COL0057366  neurociencia y comportamiento    0000699195  2013  \n",
       "1   COL0057366  neurociencia y comportamiento    0000699187  2013  "
      ]
     },
     "execution_count": 117,
     "metadata": {},
     "output_type": "execute_result"
    }
   ],
   "source": [
    "kk[kk.duplicated(subset='NME_PRODUCTO_PD',keep=False)\n",
    "  ].sort_values('NME_PRODUCTO_PD'\n",
    "  )[['NME_PRODUCTO_PD']].merge(df,on='NME_PRODUCTO_PD',how='left')[:2]"
   ]
  },
  {
   "cell_type": "code",
   "execution_count": null,
   "id": "19d66a45-8388-4d3e-8f53-975e952ca8ce",
   "metadata": {},
   "outputs": [],
   "source": [
    "df[ (df['ID_PRODUCTO_PD']=='ART-0001305964-43') | (df['ID_PRODUCTO_PD']=='ART-0000500291-303') ]"
   ]
  },
  {
   "cell_type": "markdown",
   "id": "5280bf01-1fa1-49da-8dbd-389577f9e4e1",
   "metadata": {},
   "source": [
    "Algunos productos del Gruplac tienen el mismo 'NME_PRODUCTO_PD'  por pertenecer a diferentes grupos\n",
    "* ART-0000104531-2472\n",
    "* ART-0000539899-107"
   ]
  },
  {
   "cell_type": "code",
   "execution_count": 115,
   "id": "166d4d65-db05-4b30-8b36-a013f5a15ecb",
   "metadata": {},
   "outputs": [
    {
     "data": {
      "text/html": [
       "<div>\n",
       "<style scoped>\n",
       "    .dataframe tbody tr th:only-of-type {\n",
       "        vertical-align: middle;\n",
       "    }\n",
       "\n",
       "    .dataframe tbody tr th {\n",
       "        vertical-align: top;\n",
       "    }\n",
       "\n",
       "    .dataframe thead th {\n",
       "        text-align: right;\n",
       "    }\n",
       "</style>\n",
       "<table border=\"1\" class=\"dataframe\">\n",
       "  <thead>\n",
       "    <tr style=\"text-align: right;\">\n",
       "      <th></th>\n",
       "      <th>NME_PRODUCTO_PD</th>\n",
       "      <th>ID_CONVOCATORIA</th>\n",
       "      <th>NME_CONVOCATORIA</th>\n",
       "      <th>ANO_CONVO</th>\n",
       "      <th>ID_PRODUCTO_PD</th>\n",
       "      <th>NME_CLASE_PD</th>\n",
       "      <th>NME_TIPO_MEDICION_PD</th>\n",
       "      <th>NME_TIPOLOGIA_PD</th>\n",
       "      <th>ID_TIPO_PD_MED</th>\n",
       "      <th>NME_CATEGORIA_PD</th>\n",
       "      <th>FCREACION_PD</th>\n",
       "      <th>COD_GRUPO_GR</th>\n",
       "      <th>NME_GRUPO_GR</th>\n",
       "      <th>ID_PERSONA_PD</th>\n",
       "      <th>year</th>\n",
       "    </tr>\n",
       "  </thead>\n",
       "  <tbody>\n",
       "    <tr>\n",
       "      <th>16</th>\n",
       "      <td>A Cluster-Randomized Controlled Trial to Reduc...</td>\n",
       "      <td>19.0</td>\n",
       "      <td>Convocatoria 781 de 2017</td>\n",
       "      <td>01/01/2017</td>\n",
       "      <td>ART-0000104531-2472</td>\n",
       "      <td>Nuevo conocimiento</td>\n",
       "      <td>Nuevo conocimiento Top</td>\n",
       "      <td>Artículos de investigación</td>\n",
       "      <td>ART-ART_A1</td>\n",
       "      <td>Artículos de investigación Con Calidad A1</td>\n",
       "      <td>11/01/2016</td>\n",
       "      <td>COL0030569</td>\n",
       "      <td>Saneamiento Ecologico, Salud y Medio Ambiente</td>\n",
       "      <td>0000104531</td>\n",
       "      <td>2016</td>\n",
       "    </tr>\n",
       "    <tr>\n",
       "      <th>17</th>\n",
       "      <td>A Cluster-Randomized Controlled Trial to Reduc...</td>\n",
       "      <td>19.0</td>\n",
       "      <td>Convocatoria 781 de 2017</td>\n",
       "      <td>01/01/2017</td>\n",
       "      <td>ART-0000539899-107</td>\n",
       "      <td>Nuevo conocimiento</td>\n",
       "      <td>Nuevo conocimiento Top</td>\n",
       "      <td>Artículos de investigación</td>\n",
       "      <td>ART-ART_A1</td>\n",
       "      <td>Artículos de investigación Con Calidad A1</td>\n",
       "      <td>11/01/2016</td>\n",
       "      <td>COL0044555</td>\n",
       "      <td>Medicina Comunitaria Universidad El Bosque</td>\n",
       "      <td>0000539899</td>\n",
       "      <td>2016</td>\n",
       "    </tr>\n",
       "  </tbody>\n",
       "</table>\n",
       "</div>"
      ],
      "text/plain": [
       "                                      NME_PRODUCTO_PD  ID_CONVOCATORIA  \\\n",
       "16  A Cluster-Randomized Controlled Trial to Reduc...             19.0   \n",
       "17  A Cluster-Randomized Controlled Trial to Reduc...             19.0   \n",
       "\n",
       "            NME_CONVOCATORIA   ANO_CONVO       ID_PRODUCTO_PD  \\\n",
       "16  Convocatoria 781 de 2017  01/01/2017  ART-0000104531-2472   \n",
       "17  Convocatoria 781 de 2017  01/01/2017   ART-0000539899-107   \n",
       "\n",
       "          NME_CLASE_PD    NME_TIPO_MEDICION_PD            NME_TIPOLOGIA_PD  \\\n",
       "16  Nuevo conocimiento  Nuevo conocimiento Top  Artículos de investigación   \n",
       "17  Nuevo conocimiento  Nuevo conocimiento Top  Artículos de investigación   \n",
       "\n",
       "   ID_TIPO_PD_MED                           NME_CATEGORIA_PD FCREACION_PD  \\\n",
       "16     ART-ART_A1  Artículos de investigación Con Calidad A1   11/01/2016   \n",
       "17     ART-ART_A1  Artículos de investigación Con Calidad A1   11/01/2016   \n",
       "\n",
       "   COD_GRUPO_GR                                   NME_GRUPO_GR ID_PERSONA_PD  \\\n",
       "16   COL0030569  Saneamiento Ecologico, Salud y Medio Ambiente    0000104531   \n",
       "17   COL0044555     Medicina Comunitaria Universidad El Bosque    0000539899   \n",
       "\n",
       "    year  \n",
       "16  2016  \n",
       "17  2016  "
      ]
     },
     "execution_count": 115,
     "metadata": {},
     "output_type": "execute_result"
    }
   ],
   "source": [
    "kk[kk.duplicated(subset='NME_PRODUCTO_PD',keep=False)\n",
    "  ].sort_values('NME_PRODUCTO_PD'\n",
    "  )[['NME_PRODUCTO_PD']].merge(df,on='NME_PRODUCTO_PD',how='left')[16:][:2]"
   ]
  },
  {
   "cell_type": "markdown",
   "id": "b2b7b02b-06f0-41d6-ae79-5df26b123aaa",
   "metadata": {},
   "source": [
    "Y al provenir de fuentes diferentes puede haber errores en el título:\n",
    "* ART-0000225908-235\n",
    "* ART-0000500291-303"
   ]
  },
  {
   "cell_type": "code",
   "execution_count": 124,
   "id": "0a2636fa-860b-46a3-8633-c72266b125a6",
   "metadata": {},
   "outputs": [
    {
     "data": {
      "text/plain": [
       "['The cross-national epidemiology of specific phobia in the World Mental Health Surveys',\n",
       " 'The cross-national epidemiology of specific phobia in the World Mental Health Surveys.']"
      ]
     },
     "execution_count": 124,
     "metadata": {},
     "output_type": "execute_result"
    }
   ],
   "source": [
    "mt[mt['lens_id']=='000-169-635-436-312'][['ID_PRODUCTO_PD']].merge(df,on='ID_PRODUCTO_PD',how='left').NME_PRODUCTO_PD.to_list()"
   ]
  }
 ],
 "metadata": {
  "kernelspec": {
   "display_name": "Python 3 (ipykernel)",
   "language": "python",
   "name": "python3"
  },
  "language_info": {
   "codemirror_mode": {
    "name": "ipython",
    "version": 3
   },
   "file_extension": ".py",
   "mimetype": "text/x-python",
   "name": "python",
   "nbconvert_exporter": "python",
   "pygments_lexer": "ipython3",
   "version": "3.9.2"
  }
 },
 "nbformat": 4,
 "nbformat_minor": 5
}
