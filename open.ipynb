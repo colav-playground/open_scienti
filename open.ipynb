{
 "cells": [
  {
   "cell_type": "markdown",
   "id": "8e6b7f3c-9e3a-42bb-b997-7f2d8e87846e",
   "metadata": {},
   "source": [
    "Problemas detectados:\n",
    "\n",
    "* Se está usando el metadato del título de Google Scholar. El metadato de título debería ser el de la mejor calidad posible \n",
    "* Revisar el uso de los autores en la creación del link de Google Lookup"
   ]
  },
  {
   "cell_type": "code",
   "execution_count": 1,
   "id": "26b8ae86-724c-4f3c-931c-5b18d0c00da2",
   "metadata": {},
   "outputs": [],
   "source": [
    "import pandas as pd                                                                                                                                                                                                                                                                                                                                                                                                                                                                                                                                                                                             "
   ]
  },
  {
   "cell_type": "code",
   "execution_count": 2,
   "id": "fda021f9-73c9-4c1d-aff1-a99529704e8c",
   "metadata": {},
   "outputs": [],
   "source": [
    "df=pd.read_csv('data/1-Producci_n_Grupos_Investigaci_n.csv',low_memory=False)#,nrows=100)"
   ]
  },
  {
   "cell_type": "code",
   "execution_count": 3,
   "id": "dad57cfb-6b4b-4823-a7cd-119562e473ad",
   "metadata": {},
   "outputs": [
    {
     "data": {
      "text/plain": [
       "(2254793, 14)"
      ]
     },
     "execution_count": 3,
     "metadata": {},
     "output_type": "execute_result"
    }
   ],
   "source": [
    "df.shape"
   ]
  },
  {
   "cell_type": "code",
   "execution_count": 4,
   "id": "d1b441f0-6181-4fa0-ac91-4ea8afd370fb",
   "metadata": {},
   "outputs": [],
   "source": [
    "df=df[df['NME_TIPOLOGIA_PD']=='Artículos de investigación'].reset_index(drop=True)"
   ]
  },
  {
   "cell_type": "code",
   "execution_count": 5,
   "id": "3b43d649-f5b2-4a31-b9e6-ab96fb420467",
   "metadata": {},
   "outputs": [],
   "source": [
    "df=df.sample(1000).reset_index(drop=True)"
   ]
  },
  {
   "cell_type": "code",
   "execution_count": 23,
   "id": "03e00f6b-9505-4e98-98fd-2f4e5f743bf7",
   "metadata": {},
   "outputs": [],
   "source": [
    "df.to_csv('data/open_scienti_sample.csv',index=False)"
   ]
  },
  {
   "cell_type": "code",
   "execution_count": 7,
   "id": "a6bcb5e6-332a-48c0-8d15-dceca17d267f",
   "metadata": {},
   "outputs": [],
   "source": [
    "co=pd.read_json('data/scholar_colombia.json',orient='records',lines=True)#,nrows=1)"
   ]
  },
  {
   "cell_type": "code",
   "execution_count": 8,
   "id": "4a48f2d2-a34e-4fcd-83b2-4b3a248c5769",
   "metadata": {},
   "outputs": [],
   "source": [
    "co=co.drop(['abstract','cites_link','lookup_url'],axis='columns')"
   ]
  },
  {
   "cell_type": "code",
   "execution_count": 135,
   "id": "f015eed2-786d-4a27-afe0-71a91e887f34",
   "metadata": {},
   "outputs": [
    {
     "data": {
      "text/plain": [
       "(181040, 22)"
      ]
     },
     "execution_count": 135,
     "metadata": {},
     "output_type": "execute_result"
    }
   ],
   "source": [
    "co.shape"
   ]
  },
  {
   "cell_type": "code",
   "execution_count": 10,
   "id": "393c3b6f-338e-4b60-bd59-5039453d071e",
   "metadata": {},
   "outputs": [],
   "source": [
    "import wosplus as wp"
   ]
  },
  {
   "cell_type": "code",
   "execution_count": 11,
   "id": "1bf35fa2-d5e4-4a46-b6e7-f97b37c04f73",
   "metadata": {},
   "outputs": [
    {
     "data": {
      "text/plain": [
       "\u001b[0;31mSignature:\u001b[0m\n",
       "\u001b[0mwp\u001b[0m\u001b[0;34m.\u001b[0m\u001b[0mmerge_with_close_matches\u001b[0m\u001b[0;34m(\u001b[0m\u001b[0;34m\u001b[0m\n",
       "\u001b[0;34m\u001b[0m    \u001b[0mleft\u001b[0m\u001b[0;34m,\u001b[0m\u001b[0;34m\u001b[0m\n",
       "\u001b[0;34m\u001b[0m    \u001b[0mright\u001b[0m\u001b[0;34m,\u001b[0m\u001b[0;34m\u001b[0m\n",
       "\u001b[0;34m\u001b[0m    \u001b[0mleft_on\u001b[0m\u001b[0;34m=\u001b[0m\u001b[0;34m'ST'\u001b[0m\u001b[0;34m,\u001b[0m\u001b[0;34m\u001b[0m\n",
       "\u001b[0;34m\u001b[0m    \u001b[0mright_on\u001b[0m\u001b[0;34m=\u001b[0m\u001b[0;34m'UDEA_simple_título'\u001b[0m\u001b[0;34m,\u001b[0m\u001b[0;34m\u001b[0m\n",
       "\u001b[0;34m\u001b[0m    \u001b[0mleft_extra_on\u001b[0m\u001b[0;34m=\u001b[0m\u001b[0;34m'SO'\u001b[0m\u001b[0;34m,\u001b[0m\u001b[0;34m\u001b[0m\n",
       "\u001b[0;34m\u001b[0m    \u001b[0mright_extra_on\u001b[0m\u001b[0;34m=\u001b[0m\u001b[0;34m'UDEA_nombre revista o premio'\u001b[0m\u001b[0;34m,\u001b[0m\u001b[0;34m\u001b[0m\n",
       "\u001b[0;34m\u001b[0m    \u001b[0mhow\u001b[0m\u001b[0;34m=\u001b[0m\u001b[0;34m'inner'\u001b[0m\u001b[0;34m,\u001b[0m\u001b[0;34m\u001b[0m\n",
       "\u001b[0;34m\u001b[0m    \u001b[0mn\u001b[0m\u001b[0;34m=\u001b[0m\u001b[0;36m1\u001b[0m\u001b[0;34m,\u001b[0m\u001b[0;34m\u001b[0m\n",
       "\u001b[0;34m\u001b[0m    \u001b[0mcutoff\u001b[0m\u001b[0;34m=\u001b[0m\u001b[0;36m0.6\u001b[0m\u001b[0;34m,\u001b[0m\u001b[0;34m\u001b[0m\n",
       "\u001b[0;34m\u001b[0m    \u001b[0mfull\u001b[0m\u001b[0;34m=\u001b[0m\u001b[0;32mTrue\u001b[0m\u001b[0;34m,\u001b[0m\u001b[0;34m\u001b[0m\n",
       "\u001b[0;34m\u001b[0m    \u001b[0mcutoff_extra\u001b[0m\u001b[0;34m=\u001b[0m\u001b[0;36m0.6\u001b[0m\u001b[0;34m,\u001b[0m\u001b[0;34m\u001b[0m\n",
       "\u001b[0;34m\u001b[0m\u001b[0;34m)\u001b[0m\u001b[0;34m\u001b[0m\u001b[0;34m\u001b[0m\u001b[0m\n",
       "\u001b[0;31mDocstring:\u001b[0m\n",
       "For each entry of the column: left_on of DataFrame left (cannot have empty fields),\n",
       "try to find the close match inside each row of right DataFrame, by comparing with\n",
       "the right_on entry of the row. When a row match is found, the full right row is appended\n",
       "to the matched row in the left DataFrame.\n",
       "If the similarity between the entries at left_on and right_on is less than 0.8,\n",
       "an additional check is performed between the entries left_extra_on and right_extra_on\n",
       "of the matched row.\n",
       "\n",
       "how implemented: inner and left (Default: inner)\n",
       "\u001b[0;31mFile:\u001b[0m      /usr/local/lib/python3.9/dist-packages/wosplus/_wos_scp.py\n",
       "\u001b[0;31mType:\u001b[0m      function\n"
      ]
     },
     "metadata": {},
     "output_type": "display_data"
    }
   ],
   "source": [
    "wp.merge_with_close_matches?"
   ]
  },
  {
   "cell_type": "code",
   "execution_count": 12,
   "id": "562c8192-a7a7-4f8d-bb12-e0ab989c9135",
   "metadata": {},
   "outputs": [
    {
     "data": {
      "text/plain": [
       "Index(['ID_CONVOCATORIA', 'NME_CONVOCATORIA', 'ANO_CONVO', 'ID_PRODUCTO_PD',\n",
       "       'NME_CLASE_PD', 'NME_TIPO_MEDICION_PD', 'NME_TIPOLOGIA_PD',\n",
       "       'ID_TIPO_PD_MED', 'NME_CATEGORIA_PD', 'FCREACION_PD', 'NME_PRODUCTO_PD',\n",
       "       'COD_GRUPO_GR', 'NME_GRUPO_GR', 'ID_PERSONA_PD'],\n",
       "      dtype='object')"
      ]
     },
     "execution_count": 12,
     "metadata": {},
     "output_type": "execute_result"
    }
   ],
   "source": [
    "df.columns"
   ]
  },
  {
   "cell_type": "code",
   "execution_count": 18,
   "id": "8c782c8b-9927-4cf1-9776-f868c5430ec7",
   "metadata": {},
   "outputs": [],
   "source": [
    "df['year']=df['FCREACION_PD'].str.split('/').str[-1]"
   ]
  },
  {
   "cell_type": "code",
   "execution_count": 13,
   "id": "7620bc18-3e1b-4cb5-ad21-678bcd0db359",
   "metadata": {},
   "outputs": [
    {
     "data": {
      "text/plain": [
       "Index(['_id', 'title', 'author', 'profiles', 'cites', 'journal', 'publisher',\n",
       "       'country', 'doi', 'year', 'volume', 'issue', 'pages', 'ref', 'pdf',\n",
       "       'cid', 'rp', 'bibtex', 'old_title', 'article_id', 'timestamp'],\n",
       "      dtype='object')"
      ]
     },
     "execution_count": 13,
     "metadata": {},
     "output_type": "execute_result"
    }
   ],
   "source": [
    "co.columns"
   ]
  },
  {
   "cell_type": "code",
   "execution_count": 136,
   "id": "a68889e3-9f33-4145-ab47-0c907692539b",
   "metadata": {},
   "outputs": [
    {
     "name": "stdout",
     "output_type": "stream",
     "text": [
      ".........."
     ]
    }
   ],
   "source": [
    "mt=wp.merge_with_close_matches(df[['NME_PRODUCTO_PD','year']],co[['title', 'year']],\n",
    "                              left_on='NME_PRODUCTO_PD',\n",
    "                              right_on='title',\n",
    "                              left_extra_on='year',\n",
    "                              right_extra_on='year',\n",
    "                              how='left',                              \n",
    "                              )"
   ]
  },
  {
   "cell_type": "code",
   "execution_count": 137,
   "id": "a3e8af8b-a40d-4d4d-b6c8-2f0982c01b0b",
   "metadata": {},
   "outputs": [],
   "source": [
    "mt_bak=mt.copy()"
   ]
  },
  {
   "cell_type": "code",
   "execution_count": 138,
   "id": "c369cabf-22da-4b47-ab36-5f1276de8f4b",
   "metadata": {},
   "outputs": [],
   "source": [
    "mt=mt.dropna(subset=['title'])"
   ]
  },
  {
   "cell_type": "code",
   "execution_count": 29,
   "id": "05cc7416-a5d0-408c-9ade-395bf3a9de35",
   "metadata": {},
   "outputs": [],
   "source": [
    "pd.set_option('display.max_colwidth',200)\n",
    "pd.set_option('display.max_rows', 1000)"
   ]
  },
  {
   "cell_type": "code",
   "execution_count": 39,
   "id": "379a0d8a-540d-455f-a977-977b2de9795d",
   "metadata": {},
   "outputs": [],
   "source": [
    "from fuzzywuzzy import fuzz\n",
    "from unidecode import unidecode"
   ]
  },
  {
   "cell_type": "code",
   "execution_count": 40,
   "id": "becee610-81ca-4793-9ee6-05f1095e74d0",
   "metadata": {},
   "outputs": [
    {
     "data": {
      "text/plain": [
       "'a'"
      ]
     },
     "execution_count": 40,
     "metadata": {},
     "output_type": "execute_result"
    }
   ],
   "source": [
    "unidecode('á')"
   ]
  },
  {
   "cell_type": "code",
   "execution_count": 53,
   "id": "c9c31cad-8c78-4e9b-9fbb-d812c5e7b9d0",
   "metadata": {},
   "outputs": [],
   "source": [
    "import re"
   ]
  },
  {
   "cell_type": "code",
   "execution_count": 122,
   "id": "3701c2a8-2337-4f73-9acb-82da091ad831",
   "metadata": {},
   "outputs": [
    {
     "name": "stderr",
     "output_type": "stream",
     "text": [
      "/tmp/ipykernel_132733/2140895428.py:1: SettingWithCopyWarning: \n",
      "A value is trying to be set on a copy of a slice from a DataFrame.\n",
      "Try using .loc[row_indexer,col_indexer] = value instead\n",
      "\n",
      "See the caveats in the documentation: https://pandas.pydata.org/pandas-docs/stable/user_guide/indexing.html#returning-a-view-versus-a-copy\n",
      "  mt['ratio']=mt.apply(lambda row:  fuzz.ratio( re.sub(r'\\\\\\w+\\s*',r'',\n"
     ]
    }
   ],
   "source": [
    "mt['ratio']=mt.apply(lambda row:  fuzz.ratio( re.sub(r'\\\\\\w+\\s*',r'',\n",
    "                                              unidecode(row['NME_PRODUCTO_PD'].lower().strip(\n",
    "                                              ).replace('.','').replace('$','') ) \n",
    "                                                    ),\n",
    "                                              re.sub(r'\\\\\\w+\\s*',r'',\n",
    "                                              unidecode(row['title'].lower().strip(\n",
    "                                              ).replace('.','').replace('$','') )\n",
    "                                                    )\n",
    "                                                    ),\n",
    "                                 axis='columns')"
   ]
  },
  {
   "cell_type": "code",
   "execution_count": 123,
   "id": "d3498dd5-09af-4079-b593-7aa395d15e1c",
   "metadata": {},
   "outputs": [
    {
     "data": {
      "text/plain": [
       "(535, 5)"
      ]
     },
     "execution_count": 123,
     "metadata": {},
     "output_type": "execute_result"
    }
   ],
   "source": [
    "mt[ (mt['ratio']>80) ].shape #& (mt['ratio']<90) ].reset_index(drop=True)"
   ]
  },
  {
   "cell_type": "code",
   "execution_count": 130,
   "id": "0c6d5884-ef51-49ea-8b95-fe4341677624",
   "metadata": {},
   "outputs": [],
   "source": [
    "co['Gtitle']=co['bibtex'].str.split('title=\\{').str[-1].str.split('\\},\\\\n').str[0]"
   ]
  },
  {
   "cell_type": "code",
   "execution_count": 133,
   "id": "d152c91c-cbf6-4ac5-834e-81ea6f7b4ff6",
   "metadata": {},
   "outputs": [],
   "source": [
    "mt=mt.merge(co[['title','Gtitle']],on='title',how='left')"
   ]
  },
  {
   "cell_type": "code",
   "execution_count": 134,
   "id": "b2ea67be-3c2b-4412-b0b5-9e22f0674de6",
   "metadata": {},
   "outputs": [
    {
     "data": {
      "text/html": [
       "<div>\n",
       "<style scoped>\n",
       "    .dataframe tbody tr th:only-of-type {\n",
       "        vertical-align: middle;\n",
       "    }\n",
       "\n",
       "    .dataframe tbody tr th {\n",
       "        vertical-align: top;\n",
       "    }\n",
       "\n",
       "    .dataframe thead th {\n",
       "        text-align: right;\n",
       "    }\n",
       "</style>\n",
       "<table border=\"1\" class=\"dataframe\">\n",
       "  <thead>\n",
       "    <tr style=\"text-align: right;\">\n",
       "      <th></th>\n",
       "      <th>NME_PRODUCTO_PD</th>\n",
       "      <th>year</th>\n",
       "      <th>title</th>\n",
       "      <th>year</th>\n",
       "      <th>ratio</th>\n",
       "      <th>Gtitle</th>\n",
       "    </tr>\n",
       "  </thead>\n",
       "  <tbody>\n",
       "    <tr>\n",
       "      <th>0</th>\n",
       "      <td>Riqueza genérica y distribución de Elmidae (Insecta: Coleoptera, Byrrhoidea) en el departamento del Valle del Cauca, Colombia</td>\n",
       "      <td>2015</td>\n",
       "      <td>Riqueza y distribución de Elmidae (Insecta: Coleoptera: Byrrhoidea) en el departamento del Chocó, Colombia</td>\n",
       "      <td>2016</td>\n",
       "      <td>88</td>\n",
       "      <td>Riqueza y distribuci{\\'o}n de Elmidae (Insecta: Coleoptera: Byrrhoidea) en el departamento del Choc{\\'o}, Colombia</td>\n",
       "    </tr>\n",
       "    <tr>\n",
       "      <th>1</th>\n",
       "      <td>Efficient Software Implementation of the Nearly Optimal Sparse Fast Fourier Transform for the Noisy Case</td>\n",
       "      <td>2015</td>\n",
       "      <td>Efficient Software Implementation of the Nearly Optimal Sparse Fast Fourier Transform for the Noisy Case. ing. cienc.[online]. 2015, vol. 11, n. 22</td>\n",
       "      <td>1794</td>\n",
       "      <td>85</td>\n",
       "      <td>Efficient Software Implementation of the Nearly Optimal Sparse Fast Fourier Transform for the Noisy Case. ing. cienc.[online]. 2015, vol. 11, n. 22</td>\n",
       "    </tr>\n",
       "    <tr>\n",
       "      <th>2</th>\n",
       "      <td>Gastric mucosa-Associated lymphoid tissue lymphomas and Helicobacter pylori infection</td>\n",
       "      <td>2012</td>\n",
       "      <td>Gastric mucosa-associated lymphoid tissue lymphomas and Helicobacter pylori infection: a Colombian perspective</td>\n",
       "      <td>2012</td>\n",
       "      <td>87</td>\n",
       "      <td>Gastric mucosa-associated lymphoid tissue lymphomas and Helicobacter pylori infection: a Colombian perspective</td>\n",
       "    </tr>\n",
       "    <tr>\n",
       "      <th>3</th>\n",
       "      <td>Determinación de anticuerpos totales (IgG/IgM) y específicos (IgM) para el virus de la hepatitis E y detección molecular del virus en heces de humanos con o sin exposición ocupacional a porcinos e...</td>\n",
       "      <td>2015</td>\n",
       "      <td>Determinação de anticorpos totais (IgG/IgM) e especı́ficos (IgM) para o v\\ŕus da hepatite E e detecção molecular do v\\'ús em fezes de humanos com ou sem exposição ocupacional a porcinos em 10 muni...</td>\n",
       "      <td>2015</td>\n",
       "      <td>86</td>\n",
       "      <td>Determina{\\c{c}}{\\~a}o de anticorpos totais (IgG/IgM) e espec{\\'\\i}ficos (IgM) para o v{\\'\\i}rus da hepatite E e detec{\\c{c}}{\\~a}o molecular do v{\\'\\i}rus em fezes de humanos com ou sem exposi{\\c...</td>\n",
       "    </tr>\n",
       "    <tr>\n",
       "      <th>4</th>\n",
       "      <td>Measurements of inclusive W and Z cross sections in pp collisions at &amp;#8730;s = 7 TeV The CMS collaboration</td>\n",
       "      <td>2011</td>\n",
       "      <td>Measurements of inclusive W and Z cross sections in pp collisions at $$\\backslash$sqrt $\\$s$\\$= 7$ TeV</td>\n",
       "      <td>2011</td>\n",
       "      <td>83</td>\n",
       "      <td>Measurements of inclusive W and Z cross sections in pp collisions at $$\\backslash$sqrt $\\{$s$\\}$= 7$ TeV</td>\n",
       "    </tr>\n",
       "    <tr>\n",
       "      <th>5</th>\n",
       "      <td>112. Hydrostatic pressure and electric and magnetic field effects on the binding energy of a hydrogenic donor impurity in InAs Poschl-Teller quantum ring</td>\n",
       "      <td>2012</td>\n",
       "      <td>Hydrostatic pressure, impurity position and electric and magnetic field effects on the binding energy and photo-ionization cross section of a hydrogenic donor impurity in an InAs Pöschl-Teller qua...</td>\n",
       "      <td>2011</td>\n",
       "      <td>83</td>\n",
       "      <td>Hydrostatic pressure, impurity position and electric and magnetic field effects on the binding energy and photo-ionization cross section of a hydrogenic donor impurity in an InAs P{\\\"o}schl-Teller...</td>\n",
       "    </tr>\n",
       "    <tr>\n",
       "      <th>6</th>\n",
       "      <td>Crítica al control jerárquico de los regímenes políticos: complejidad y topología</td>\n",
       "      <td>2015</td>\n",
       "      <td>Crı́tica ao controle hierárquico dos regimes pol\\t́icos: complexidade e topologia</td>\n",
       "      <td>2015</td>\n",
       "      <td>86</td>\n",
       "      <td>Cr{\\'\\i}tica ao controle hier{\\'a}rquico dos regimes pol{\\'\\i}ticos: complexidade e topologia</td>\n",
       "    </tr>\n",
       "    <tr>\n",
       "      <th>7</th>\n",
       "      <td>The interplay between sharing behavior and beliefs about others in children.</td>\n",
       "      <td>2018</td>\n",
       "      <td>The interplay between sharing behavior and beliefs about others in children during dictator games</td>\n",
       "      <td>2018</td>\n",
       "      <td>87</td>\n",
       "      <td>The interplay between sharing behavior and beliefs about others in children during dictator games</td>\n",
       "    </tr>\n",
       "    <tr>\n",
       "      <th>8</th>\n",
       "      <td>La estructura de capital en las medianas empresas del departamento de Boyacá, Colombia</td>\n",
       "      <td>2015</td>\n",
       "      <td>La estructura de capital en las medianas empresas del departamento de Boyacá, Colombia. Apuntes del CENES, 34 (59), 185-206</td>\n",
       "      <td>2015</td>\n",
       "      <td>83</td>\n",
       "      <td>La estructura de capital en las medianas empresas del departamento de Boyac{\\'a}, Colombia. Apuntes del CENES, 34 (59), 185-206</td>\n",
       "    </tr>\n",
       "    <tr>\n",
       "      <th>9</th>\n",
       "      <td>Letters to editor Laryngeal histoplasmosis: report first case in Colombia</td>\n",
       "      <td>2015</td>\n",
       "      <td>Laryngeal Histoplasmosis: report first case in Colombia</td>\n",
       "      <td>2014</td>\n",
       "      <td>86</td>\n",
       "      <td>Laryngeal Histoplasmosis: report first case in Colombia</td>\n",
       "    </tr>\n",
       "    <tr>\n",
       "      <th>10</th>\n",
       "      <td>Letters to editor Laryngeal histoplasmosis: report first case in Colombia</td>\n",
       "      <td>2015</td>\n",
       "      <td>Laryngeal Histoplasmosis: report first case in Colombia</td>\n",
       "      <td>2014</td>\n",
       "      <td>86</td>\n",
       "      <td>Laryngeal Histoplasmosis: report first case in Colombia</td>\n",
       "    </tr>\n",
       "    <tr>\n",
       "      <th>11</th>\n",
       "      <td>GRUPOS FUNCIONALES ALIMENTICIOS DE MACROINVERTEBRADOS ACUÁTICOS EN UN ARROYO TROPICAL (COLOMBIA)</td>\n",
       "      <td>2016</td>\n",
       "      <td>Grupos funcionales alimentarios de macroinvertebrados acuáticos en el rı́o Gaira, Colombia</td>\n",
       "      <td>2011</td>\n",
       "      <td>86</td>\n",
       "      <td>Grupos funcionales alimentarios de macroinvertebrados acu{\\'a}ticos en el r{\\'\\i}o Gaira, Colombia</td>\n",
       "    </tr>\n",
       "    <tr>\n",
       "      <th>12</th>\n",
       "      <td>An Approach of the Sintering YBa2Cu3O7&amp;#8722;&amp;#948; System</td>\n",
       "      <td>2012</td>\n",
       "      <td>An Approach of the Sintering YBa2Cu3O7- $δ$ System</td>\n",
       "      <td>2013</td>\n",
       "      <td>85</td>\n",
       "      <td>An Approach of the Sintering YBa2Cu3O7- $\\delta$ System</td>\n",
       "    </tr>\n",
       "    <tr>\n",
       "      <th>13</th>\n",
       "      <td>JANNETH GONZALEZ SANTOS, \"NMDARs in neurological diseases: A potential therapeutic target\"</td>\n",
       "      <td>2014</td>\n",
       "      <td>NMDARs in neurological diseases: a potential therapeutic target</td>\n",
       "      <td>2015</td>\n",
       "      <td>82</td>\n",
       "      <td>NMDARs in neurological diseases: a potential therapeutic target</td>\n",
       "    </tr>\n",
       "    <tr>\n",
       "      <th>14</th>\n",
       "      <td>Potencial antioxidante y antimicrobiano de extractos acuosos e hidroalcohólicos de granadilla (Passiflora ligularis)</td>\n",
       "      <td>2014</td>\n",
       "      <td>Potencial antioxidante y antimicrobiano de los extractos acuosos e hidroalcohólicos de Passiflora ligularis (Granadilla)</td>\n",
       "      <td>2014</td>\n",
       "      <td>88</td>\n",
       "      <td>Potencial antioxidante y antimicrobiano de los extractos acuosos e hidroalcoh{\\'o}licos de Passiflora ligularis (Granadilla)</td>\n",
       "    </tr>\n",
       "    <tr>\n",
       "      <th>15</th>\n",
       "      <td>El papel de los movimientos sociales en la consolidación democrática: alcances y desafíos. (caso ecuatoriano en perspectiva comparada)</td>\n",
       "      <td>2006</td>\n",
       "      <td>El papel de los movimientos sociales en la consolidación democrática: reflexiones alrededor del caso ecuatoriano en perspectiva comparada</td>\n",
       "      <td>2006</td>\n",
       "      <td>89</td>\n",
       "      <td>El papel de los movimientos sociales en la consolidaci{\\'o}n democr{\\'a}tica: reflexiones alrededor del caso ecuatoriano en perspectiva comparada</td>\n",
       "    </tr>\n",
       "    <tr>\n",
       "      <th>16</th>\n",
       "      <td>Descripción anatómica e histológica del tracto digestivo del nicuro Pimelodus blochii</td>\n",
       "      <td>2013</td>\n",
       "      <td>Descripción anatómica e histológica del tracto digestivo de Nicuro Pimelodus blochii (Valenciennes, 1840)</td>\n",
       "      <td>2013</td>\n",
       "      <td>88</td>\n",
       "      <td>Descripci{\\'o}n anat{\\'o}mica e histol{\\'o}gica del tracto digestivo de Nicuro Pimelodus blochii (Valenciennes, 1840)</td>\n",
       "    </tr>\n",
       "    <tr>\n",
       "      <th>17</th>\n",
       "      <td>los modelos pedagogicos y su relación con las concepciones del derecho puntos de encuentro</td>\n",
       "      <td>2018</td>\n",
       "      <td>Los modelos pedagógicos y su relación con las concepciones del derecho: puntos de encuentro con la educación en derecho</td>\n",
       "      <td>2018</td>\n",
       "      <td>86</td>\n",
       "      <td>Los modelos pedag{\\'o}gicos y su relaci{\\'o}n con las concepciones del derecho: puntos de encuentro con la educaci{\\'o}n en derecho</td>\n",
       "    </tr>\n",
       "    <tr>\n",
       "      <th>18</th>\n",
       "      <td>Estimates of DNA damage in the direct-developing frog Eleutherodactylus johnstonei (Anura: Eleutherodactylidae) by the comet assay</td>\n",
       "      <td>2011</td>\n",
       "      <td>Estimates of DNA damage by the comet assay in the direct-developing frog Eleutherodactylus johnstonei (Anura, Eleutherodactylidae)</td>\n",
       "      <td>2011</td>\n",
       "      <td>85</td>\n",
       "      <td>Estimates of DNA damage by the comet assay in the direct-developing frog Eleutherodactylus johnstonei (Anura, Eleutherodactylidae)</td>\n",
       "    </tr>\n",
       "  </tbody>\n",
       "</table>\n",
       "</div>"
      ],
      "text/plain": [
       "                                                                                                                                                                                            NME_PRODUCTO_PD  \\\n",
       "0                                                                             Riqueza genérica y distribución de Elmidae (Insecta: Coleoptera, Byrrhoidea) en el departamento del Valle del Cauca, Colombia   \n",
       "1                                                                                                  Efficient Software Implementation of the Nearly Optimal Sparse Fast Fourier Transform for the Noisy Case   \n",
       "2                                                                                                                     Gastric mucosa-Associated lymphoid tissue lymphomas and Helicobacter pylori infection   \n",
       "3   Determinación de anticuerpos totales (IgG/IgM) y específicos (IgM) para el virus de la hepatitis E y detección molecular del virus en heces de humanos con o sin exposición ocupacional a porcinos e...   \n",
       "4                                                                                               Measurements of inclusive W and Z cross sections in pp collisions at &#8730;s = 7 TeV The CMS collaboration   \n",
       "5                                                 112. Hydrostatic pressure and electric and magnetic field effects on the binding energy of a hydrogenic donor impurity in InAs Poschl-Teller quantum ring   \n",
       "6                                                                                                                         Crítica al control jerárquico de los regímenes políticos: complejidad y topología   \n",
       "7                                                                                                                              The interplay between sharing behavior and beliefs about others in children.   \n",
       "8                                                                                                                    La estructura de capital en las medianas empresas del departamento de Boyacá, Colombia   \n",
       "9                                                                                                                                 Letters to editor Laryngeal histoplasmosis: report first case in Colombia   \n",
       "10                                                                                                                                Letters to editor Laryngeal histoplasmosis: report first case in Colombia   \n",
       "11                                                                                                         GRUPOS FUNCIONALES ALIMENTICIOS DE MACROINVERTEBRADOS ACUÁTICOS EN UN ARROYO TROPICAL (COLOMBIA)   \n",
       "12                                                                                                                                               An Approach of the Sintering YBa2Cu3O7&#8722;&#948; System   \n",
       "13                                                                                                               JANNETH GONZALEZ SANTOS, \"NMDARs in neurological diseases: A potential therapeutic target\"   \n",
       "14                                                                                     Potencial antioxidante y antimicrobiano de extractos acuosos e hidroalcohólicos de granadilla (Passiflora ligularis)   \n",
       "15                                                                   El papel de los movimientos sociales en la consolidación democrática: alcances y desafíos. (caso ecuatoriano en perspectiva comparada)   \n",
       "16                                                                                                                    Descripción anatómica e histológica del tracto digestivo del nicuro Pimelodus blochii   \n",
       "17                                                                                                               los modelos pedagogicos y su relación con las concepciones del derecho puntos de encuentro   \n",
       "18                                                                       Estimates of DNA damage in the direct-developing frog Eleutherodactylus johnstonei (Anura: Eleutherodactylidae) by the comet assay   \n",
       "\n",
       "    year  \\\n",
       "0   2015   \n",
       "1   2015   \n",
       "2   2012   \n",
       "3   2015   \n",
       "4   2011   \n",
       "5   2012   \n",
       "6   2015   \n",
       "7   2018   \n",
       "8   2015   \n",
       "9   2015   \n",
       "10  2015   \n",
       "11  2016   \n",
       "12  2012   \n",
       "13  2014   \n",
       "14  2014   \n",
       "15  2006   \n",
       "16  2013   \n",
       "17  2018   \n",
       "18  2011   \n",
       "\n",
       "                                                                                                                                                                                                      title  \\\n",
       "0                                                                                                Riqueza y distribución de Elmidae (Insecta: Coleoptera: Byrrhoidea) en el departamento del Chocó, Colombia   \n",
       "1                                                       Efficient Software Implementation of the Nearly Optimal Sparse Fast Fourier Transform for the Noisy Case. ing. cienc.[online]. 2015, vol. 11, n. 22   \n",
       "2                                                                                            Gastric mucosa-associated lymphoid tissue lymphomas and Helicobacter pylori infection: a Colombian perspective   \n",
       "3   Determinação de anticorpos totais (IgG/IgM) e especı́ficos (IgM) para o v\\ŕus da hepatite E e detecção molecular do v\\'ús em fezes de humanos com ou sem exposição ocupacional a porcinos em 10 muni...   \n",
       "4                                                                                                    Measurements of inclusive W and Z cross sections in pp collisions at $$\\backslash$sqrt $\\$s$\\$= 7$ TeV   \n",
       "5   Hydrostatic pressure, impurity position and electric and magnetic field effects on the binding energy and photo-ionization cross section of a hydrogenic donor impurity in an InAs Pöschl-Teller qua...   \n",
       "6                                                                                                                         Crı́tica ao controle hierárquico dos regimes pol\\t́icos: complexidade e topologia   \n",
       "7                                                                                                         The interplay between sharing behavior and beliefs about others in children during dictator games   \n",
       "8                                                                               La estructura de capital en las medianas empresas del departamento de Boyacá, Colombia. Apuntes del CENES, 34 (59), 185-206   \n",
       "9                                                                                                                                                   Laryngeal Histoplasmosis: report first case in Colombia   \n",
       "10                                                                                                                                                  Laryngeal Histoplasmosis: report first case in Colombia   \n",
       "11                                                                                                               Grupos funcionales alimentarios de macroinvertebrados acuáticos en el rı́o Gaira, Colombia   \n",
       "12                                                                                                                                                       An Approach of the Sintering YBa2Cu3O7- $δ$ System   \n",
       "13                                                                                                                                          NMDARs in neurological diseases: a potential therapeutic target   \n",
       "14                                                                                 Potencial antioxidante y antimicrobiano de los extractos acuosos e hidroalcohólicos de Passiflora ligularis (Granadilla)   \n",
       "15                                                                El papel de los movimientos sociales en la consolidación democrática: reflexiones alrededor del caso ecuatoriano en perspectiva comparada   \n",
       "16                                                                                                Descripción anatómica e histológica del tracto digestivo de Nicuro Pimelodus blochii (Valenciennes, 1840)   \n",
       "17                                                                                  Los modelos pedagógicos y su relación con las concepciones del derecho: puntos de encuentro con la educación en derecho   \n",
       "18                                                                       Estimates of DNA damage by the comet assay in the direct-developing frog Eleutherodactylus johnstonei (Anura, Eleutherodactylidae)   \n",
       "\n",
       "    year  ratio  \\\n",
       "0   2016     88   \n",
       "1   1794     85   \n",
       "2   2012     87   \n",
       "3   2015     86   \n",
       "4   2011     83   \n",
       "5   2011     83   \n",
       "6   2015     86   \n",
       "7   2018     87   \n",
       "8   2015     83   \n",
       "9   2014     86   \n",
       "10  2014     86   \n",
       "11  2011     86   \n",
       "12  2013     85   \n",
       "13  2015     82   \n",
       "14  2014     88   \n",
       "15  2006     89   \n",
       "16  2013     88   \n",
       "17  2018     86   \n",
       "18  2011     85   \n",
       "\n",
       "                                                                                                                                                                                                     Gtitle  \n",
       "0                                                                                        Riqueza y distribuci{\\'o}n de Elmidae (Insecta: Coleoptera: Byrrhoidea) en el departamento del Choc{\\'o}, Colombia  \n",
       "1                                                       Efficient Software Implementation of the Nearly Optimal Sparse Fast Fourier Transform for the Noisy Case. ing. cienc.[online]. 2015, vol. 11, n. 22  \n",
       "2                                                                                            Gastric mucosa-associated lymphoid tissue lymphomas and Helicobacter pylori infection: a Colombian perspective  \n",
       "3   Determina{\\c{c}}{\\~a}o de anticorpos totais (IgG/IgM) e espec{\\'\\i}ficos (IgM) para o v{\\'\\i}rus da hepatite E e detec{\\c{c}}{\\~a}o molecular do v{\\'\\i}rus em fezes de humanos com ou sem exposi{\\c...  \n",
       "4                                                                                                  Measurements of inclusive W and Z cross sections in pp collisions at $$\\backslash$sqrt $\\{$s$\\}$= 7$ TeV  \n",
       "5   Hydrostatic pressure, impurity position and electric and magnetic field effects on the binding energy and photo-ionization cross section of a hydrogenic donor impurity in an InAs P{\\\"o}schl-Teller...  \n",
       "6                                                                                                             Cr{\\'\\i}tica ao controle hier{\\'a}rquico dos regimes pol{\\'\\i}ticos: complexidade e topologia  \n",
       "7                                                                                                         The interplay between sharing behavior and beliefs about others in children during dictator games  \n",
       "8                                                                           La estructura de capital en las medianas empresas del departamento de Boyac{\\'a}, Colombia. Apuntes del CENES, 34 (59), 185-206  \n",
       "9                                                                                                                                                   Laryngeal Histoplasmosis: report first case in Colombia  \n",
       "10                                                                                                                                                  Laryngeal Histoplasmosis: report first case in Colombia  \n",
       "11                                                                                                       Grupos funcionales alimentarios de macroinvertebrados acu{\\'a}ticos en el r{\\'\\i}o Gaira, Colombia  \n",
       "12                                                                                                                                                  An Approach of the Sintering YBa2Cu3O7- $\\delta$ System  \n",
       "13                                                                                                                                          NMDARs in neurological diseases: a potential therapeutic target  \n",
       "14                                                                             Potencial antioxidante y antimicrobiano de los extractos acuosos e hidroalcoh{\\'o}licos de Passiflora ligularis (Granadilla)  \n",
       "15                                                        El papel de los movimientos sociales en la consolidaci{\\'o}n democr{\\'a}tica: reflexiones alrededor del caso ecuatoriano en perspectiva comparada  \n",
       "16                                                                                    Descripci{\\'o}n anat{\\'o}mica e histol{\\'o}gica del tracto digestivo de Nicuro Pimelodus blochii (Valenciennes, 1840)  \n",
       "17                                                                      Los modelos pedag{\\'o}gicos y su relaci{\\'o}n con las concepciones del derecho: puntos de encuentro con la educaci{\\'o}n en derecho  \n",
       "18                                                                       Estimates of DNA damage by the comet assay in the direct-developing frog Eleutherodactylus johnstonei (Anura, Eleutherodactylidae)  "
      ]
     },
     "execution_count": 134,
     "metadata": {},
     "output_type": "execute_result"
    }
   ],
   "source": [
    "mt[ (mt['ratio']>80) & (mt['ratio']<90) ].reset_index(drop=True)"
   ]
  },
  {
   "cell_type": "markdown",
   "id": "f2241723-f068-4829-a3fa-730467f6d51b",
   "metadata": {},
   "source": [
    "# Missing results"
   ]
  },
  {
   "cell_type": "code",
   "execution_count": 150,
   "id": "10c73be8-171d-4de9-9787-2dff59dabd84",
   "metadata": {},
   "outputs": [],
   "source": [
    "pd.set_option('display.max_rows', 10)"
   ]
  },
  {
   "cell_type": "code",
   "execution_count": 148,
   "id": "58194cbf-effb-4a07-a6d8-1778baec1a76",
   "metadata": {},
   "outputs": [],
   "source": [
    "mtn=mt_bak[mt_bak['title'].isna()]"
   ]
  },
  {
   "cell_type": "code",
   "execution_count": 149,
   "id": "5b522f04-dd77-4555-8811-9c7bac5de470",
   "metadata": {},
   "outputs": [
    {
     "data": {
      "text/plain": [
       "'Diseño y aplicación de una unidad didáctica para la enseñanza aprendizaje del concepto de disoluciones, apoyada en un simulador de cultivos hidropónicos'"
      ]
     },
     "execution_count": 149,
     "metadata": {},
     "output_type": "execute_result"
    }
   ],
   "source": [
    "mtn.iloc[0]['NME_PRODUCTO_PD']"
   ]
  },
  {
   "cell_type": "markdown",
   "id": "19bc87b6-41a2-4a52-a8f5-a43847e7b678",
   "metadata": {},
   "source": [
    "Download from google scholar:\n",
    "https://scholar.googleusercontent.com/scholar.bib?q=info:YZ-5R3Qi7jMJ:scholar.google.com"
   ]
  },
  {
   "cell_type": "code",
   "execution_count": 162,
   "id": "c48d9091-f236-4aa9-8f4a-fe390beb7f1c",
   "metadata": {},
   "outputs": [
    {
     "data": {
      "text/plain": [
       "'MODELO DE CÁLCULO DE LOS PARÁMETROS TÉCNICOS DE LAS LÍNEAS ELÉCTRICAS DE BAJA TENSIÓN SUBTERRÁNEAS E INSTALACIONES INTERNAS PARA USO EN TELECOMUNICACIONES'"
      ]
     },
     "execution_count": 162,
     "metadata": {},
     "output_type": "execute_result"
    }
   ],
   "source": [
    "mtn.iloc[1]['NME_PRODUCTO_PD']"
   ]
  },
  {
   "cell_type": "markdown",
   "id": "c9a2e994-e32b-45bb-b78a-f2e90168403d",
   "metadata": {},
   "source": [
    "* https://scholar.googleusercontent.com/scholar.bib?q=info:OBhcgZlzNnAJ:scholar.google.com"
   ]
  },
  {
   "cell_type": "code",
   "execution_count": 169,
   "id": "6889aad2-ee5f-49b5-8c2c-ddab1b86febc",
   "metadata": {},
   "outputs": [
    {
     "data": {
      "text/plain": [
       "'pcn35 cost-effectiveness of human papillomavirus vaccine in colombia in 2007'"
      ]
     },
     "execution_count": 169,
     "metadata": {},
     "output_type": "execute_result"
    }
   ],
   "source": [
    "mtn.iloc[2]['NME_PRODUCTO_PD'].lower()"
   ]
  },
  {
   "cell_type": "markdown",
   "id": "36615b9c-24b3-4f4c-afde-5eebeecf0567",
   "metadata": {},
   "source": [
    "* https://scholar.googleusercontent.com/scholar.bib?q=info:qYUzHPMNbFsJ:scholar.google.com"
   ]
  },
  {
   "cell_type": "code",
   "execution_count": 182,
   "id": "a0a5bcdc-18c1-4f14-9b99-fcdd2f5f5da3",
   "metadata": {},
   "outputs": [
    {
     "data": {
      "text/plain": [
       "'kojibiose ameliorates arachidic acid-induced liver alterations in hyperglycemic rats'"
      ]
     },
     "execution_count": 182,
     "metadata": {},
     "output_type": "execute_result"
    }
   ],
   "source": [
    "mtn.iloc[4]['NME_PRODUCTO_PD'].lower()"
   ]
  },
  {
   "cell_type": "markdown",
   "id": "1b8af3ea-650a-4383-a165-b3d9d1811c1c",
   "metadata": {},
   "source": [
    "Not a Colombian paper: DOI: https://doi.org/10.1017/S0007114515003153"
   ]
  },
  {
   "cell_type": "code",
   "execution_count": 188,
   "id": "e04926ff-d5c0-46dc-8a99-237c667f50f8",
   "metadata": {},
   "outputs": [
    {
     "data": {
      "text/plain": [
       "'antimicrobial cu-functionalized surfaces prepared by bipolar asymmetric dc-pulsed magnetron sputtering (dcp)'"
      ]
     },
     "execution_count": 188,
     "metadata": {},
     "output_type": "execute_result"
    }
   ],
   "source": [
    "mtn.iloc[6]['NME_PRODUCTO_PD'].lower()"
   ]
  },
  {
   "cell_type": "markdown",
   "id": "001aed75-70bb-41bf-bd26-924acf08ec79",
   "metadata": {},
   "source": [
    "Not a Colombian article: https://doi.org/10.1016/j.jphotochem.2011.03.022"
   ]
  },
  {
   "cell_type": "code",
   "execution_count": 189,
   "id": "4c85f0c9-fc35-4575-869f-6df7f29f8650",
   "metadata": {},
   "outputs": [
    {
     "data": {
      "text/html": [
       "<div>\n",
       "<style scoped>\n",
       "    .dataframe tbody tr th:only-of-type {\n",
       "        vertical-align: middle;\n",
       "    }\n",
       "\n",
       "    .dataframe tbody tr th {\n",
       "        vertical-align: top;\n",
       "    }\n",
       "\n",
       "    .dataframe thead th {\n",
       "        text-align: right;\n",
       "    }\n",
       "</style>\n",
       "<table border=\"1\" class=\"dataframe\">\n",
       "  <thead>\n",
       "    <tr style=\"text-align: right;\">\n",
       "      <th></th>\n",
       "      <th>_id</th>\n",
       "      <th>title</th>\n",
       "      <th>author</th>\n",
       "      <th>profiles</th>\n",
       "      <th>cites</th>\n",
       "      <th>journal</th>\n",
       "      <th>publisher</th>\n",
       "      <th>country</th>\n",
       "      <th>doi</th>\n",
       "      <th>year</th>\n",
       "      <th>...</th>\n",
       "      <th>pages</th>\n",
       "      <th>ref</th>\n",
       "      <th>pdf</th>\n",
       "      <th>cid</th>\n",
       "      <th>rp</th>\n",
       "      <th>bibtex</th>\n",
       "      <th>old_title</th>\n",
       "      <th>article_id</th>\n",
       "      <th>timestamp</th>\n",
       "      <th>Gtitle</th>\n",
       "    </tr>\n",
       "  </thead>\n",
       "  <tbody>\n",
       "    <tr>\n",
       "      <th>9461</th>\n",
       "      <td>{'$oid': '629115516f6a44dc7d6b9715'}</td>\n",
       "      <td>Deposition of B4C/BCN/c-BN multilayered thin films by rf magnetron sputtering</td>\n",
       "      <td>Bejarano, G and Caicedo, JM and Baca, E and Prieto, P and Balogh, AG and Enders, S</td>\n",
       "      <td>{'P Prieto': 'No9Tvc0AAAAJ'}</td>\n",
       "      <td>42</td>\n",
       "      <td>Thin Solid Films</td>\n",
       "      <td>Elsevier</td>\n",
       "      <td></td>\n",
       "      <td>10.1016/j.tsf.2005.08.192</td>\n",
       "      <td>2006</td>\n",
       "      <td>...</td>\n",
       "      <td>53--57</td>\n",
       "      <td>G Bejarano, JM Caicedo, E Baca, P Prieto, AG Balogh… - Thin Solid Films, 2006 - Elsevier</td>\n",
       "      <td></td>\n",
       "      <td>6LmD1iuJqlIJ</td>\n",
       "      <td>0</td>\n",
       "      <td>@article{bejarano2006deposition,\\n  title={Deposition of B4C/BCN/c-BN multilayered thin films by rf magnetron sputtering},\\n  author={Bejarano, G and Caicedo, JM and Baca, E and Prieto, P and Balo...</td>\n",
       "      <td>Deposition of B4C/BCN/c-BN multilayered thin films by r.f. magnetron sputtering</td>\n",
       "      <td></td>\n",
       "      <td>2022-05-27 20:08:46</td>\n",
       "      <td>Deposition of B4C/BCN/c-BN multilayered thin films by rf magnetron sputtering</td>\n",
       "    </tr>\n",
       "    <tr>\n",
       "      <th>10088</th>\n",
       "      <td>{'$oid': '629115516f6a44dc7d6aaf65'}</td>\n",
       "      <td>Bias voltage influence on the mechanical and tribological properties of titaniumaluminum nitride coatings produced by triode magnetron sputtering</td>\n",
       "      <td>Narvaez, Diana Marcela Devia and Restrepo, Juan Manuel Velez and Parra, Elisabeth Restrepo</td>\n",
       "      <td>{'DMD Narvaez': 'M7FEGfcAAAAJ', 'ER Parra': '38WWKa4AAAAJ'}</td>\n",
       "      <td>5</td>\n",
       "      <td>Matéria (Rio de Janeiro)</td>\n",
       "      <td>SciELO Brasil</td>\n",
       "      <td></td>\n",
       "      <td>10.1590/s1517-707620150001.0013</td>\n",
       "      <td>2015</td>\n",
       "      <td>...</td>\n",
       "      <td>115--126</td>\n",
       "      <td>DMD Narvaez, JMV Restrepo, ER Parra - Matéria (Rio de Janeiro), 2015 - SciELO Brasil</td>\n",
       "      <td>https://www.scielo.br/j/rmat/a/kKZk3MksMqj9dsxyYwPtcpB/?lang=en</td>\n",
       "      <td>aU82BdUzgR4J</td>\n",
       "      <td>0</td>\n",
       "      <td>@article{narvaez2015bias,\\n  title={Bias voltage influence on the mechanical and tribological properties of titaniumaluminum nitride coatings produced by triode magnetron sputtering},\\n  author={N...</td>\n",
       "      <td>Bias voltage influence on the mechanical and tribological properties of titaniumaluminum nitride coatings produced by triode magnetron sputtering</td>\n",
       "      <td></td>\n",
       "      <td>2022-05-27 20:17:41</td>\n",
       "      <td>Bias voltage influence on the mechanical and tribological properties of titaniumaluminum nitride coatings produced by triode magnetron sputtering</td>\n",
       "    </tr>\n",
       "    <tr>\n",
       "      <th>14755</th>\n",
       "      <td>{'$oid': '629115516f6a44dc7d6b33a6'}</td>\n",
       "      <td>Synthesis and microstructural characterization of nanoscale multilayer TiAlN/TaN coatings deposited by DC magnetron sputtering</td>\n",
       "      <td>Contreras, Elbert and Bejarano, Gilberto and Gómez, Maryory</td>\n",
       "      <td>{'E Contreras': '8DK_RmIAAAAJ', 'M Gómez': 'U_2Xx_cAAAAJ'}</td>\n",
       "      <td>7</td>\n",
       "      <td>The International Journal of Advanced Manufacturing Technology</td>\n",
       "      <td>Springer</td>\n",
       "      <td></td>\n",
       "      <td>10.1007/s00170-018-2972-z</td>\n",
       "      <td>2019</td>\n",
       "      <td>...</td>\n",
       "      <td>663--673</td>\n",
       "      <td>E Contreras, G Bejarano, M Gómez - The International Journal of …, 2019 - Springer</td>\n",
       "      <td></td>\n",
       "      <td>rcrRAxUENk8J</td>\n",
       "      <td>0</td>\n",
       "      <td>@article{contreras2019synthesis,\\n  title={Synthesis and microstructural characterization of nanoscale multilayer TiAlN/TaN coatings deposited by DC magnetron sputtering},\\n  author={Contreras, El...</td>\n",
       "      <td>Synthesis and microstructural characterization of nanoscale multilayer TiAlN/TaN coatings deposited by DC magnetron sputtering</td>\n",
       "      <td></td>\n",
       "      <td>2022-05-27 21:04:13</td>\n",
       "      <td>Synthesis and microstructural characterization of nanoscale multilayer TiAlN/TaN coatings deposited by DC magnetron sputtering</td>\n",
       "    </tr>\n",
       "    <tr>\n",
       "      <th>15733</th>\n",
       "      <td>{'$oid': '629115506f6a44dc7d6a0f5b'}</td>\n",
       "      <td>Optical emission spectroscopy study of rf magnetron sputtering discharge used for multilayers thin film deposition</td>\n",
       "      <td>Zambrano, G and Riascos, H and Prieto, P and Restrepo, E and Devia, A and Rincón, C</td>\n",
       "      <td>{'G Zambrano': '_pKqWdgAAAAJ', 'H Riascos': 'qiLK9MsAAAAJ', 'P Prieto': 'No9Tvc0AAAAJ', 'E Restrepo': '38WWKa4AAAAJ'}</td>\n",
       "      <td>73</td>\n",
       "      <td>Surface and Coatings Technology</td>\n",
       "      <td>Elsevier</td>\n",
       "      <td></td>\n",
       "      <td>10.1016/s0257-8972(03)00339-6</td>\n",
       "      <td>2003</td>\n",
       "      <td>...</td>\n",
       "      <td>144--149</td>\n",
       "      <td>G Zambrano, H Riascos, P Prieto, E Restrepo… - Surface and Coatings …, 2003 - Elsevier</td>\n",
       "      <td>https://www.academia.edu/download/48831954/Optical_emission_spectroscopy_study_of_r20160914-27565-1ikijfx.pdf</td>\n",
       "      <td>Sp7xcsfx8vMJ</td>\n",
       "      <td>0</td>\n",
       "      <td>@article{zambrano2003optical,\\n  title={Optical emission spectroscopy study of rf magnetron sputtering discharge used for multilayers thin film deposition},\\n  author={Zambrano, G and Riascos, H a...</td>\n",
       "      <td>Optical emission spectroscopy study of r.f. magnetron sputtering discharge used for multilayers thin film deposition</td>\n",
       "      <td></td>\n",
       "      <td>2022-05-27 21:18:53</td>\n",
       "      <td>Optical emission spectroscopy study of rf magnetron sputtering discharge used for multilayers thin film deposition</td>\n",
       "    </tr>\n",
       "    <tr>\n",
       "      <th>19303</th>\n",
       "      <td>{'$oid': '629115506f6a44dc7d69d464'}</td>\n",
       "      <td>Microstructural and electrochemical properties of TiAlN (Ag, Cu) nanocomposite coatings for medical applications deposited by dc magnetron sputtering</td>\n",
       "      <td>Echavarrı́a, Aida M and Calderón, Jorge A and Bejarano, Gilberto and others</td>\n",
       "      <td>{'AM Echavarría': 'mN61HbgAAAAJ', 'JA Calderón': 'wZre-UoAAAAJ'}</td>\n",
       "      <td>14</td>\n",
       "      <td>Journal of Alloys and Compounds</td>\n",
       "      <td>Elsevier</td>\n",
       "      <td></td>\n",
       "      <td>10.1016/j.jallcom.2020.154396</td>\n",
       "      <td>2020</td>\n",
       "      <td>...</td>\n",
       "      <td>154396</td>\n",
       "      <td>AM Echavarría, JA Calderón, G Bejarano - Journal of Alloys and …, 2020 - Elsevier</td>\n",
       "      <td></td>\n",
       "      <td>ZzsqWYWS604J</td>\n",
       "      <td>0</td>\n",
       "      <td>@article{echavarria2020microstructural,\\n  title={Microstructural and electrochemical properties of TiAlN (Ag, Cu) nanocomposite coatings for medical applications deposited by dc magnetron sputter...</td>\n",
       "      <td>Microstructural and electrochemical properties of TiAlN(Ag,Cu) nanocomposite coatings for medical applications deposited by dc magnetron sputtering</td>\n",
       "      <td></td>\n",
       "      <td>2022-05-27 22:04:35</td>\n",
       "      <td>Microstructural and electrochemical properties of TiAlN (Ag, Cu) nanocomposite coatings for medical applications deposited by dc magnetron sputtering</td>\n",
       "    </tr>\n",
       "    <tr>\n",
       "      <th>...</th>\n",
       "      <td>...</td>\n",
       "      <td>...</td>\n",
       "      <td>...</td>\n",
       "      <td>...</td>\n",
       "      <td>...</td>\n",
       "      <td>...</td>\n",
       "      <td>...</td>\n",
       "      <td>...</td>\n",
       "      <td>...</td>\n",
       "      <td>...</td>\n",
       "      <td>...</td>\n",
       "      <td>...</td>\n",
       "      <td>...</td>\n",
       "      <td>...</td>\n",
       "      <td>...</td>\n",
       "      <td>...</td>\n",
       "      <td>...</td>\n",
       "      <td>...</td>\n",
       "      <td>...</td>\n",
       "      <td>...</td>\n",
       "      <td>...</td>\n",
       "    </tr>\n",
       "    <tr>\n",
       "      <th>166662</th>\n",
       "      <td>{'$oid': '629115516f6a44dc7d6aa885'}</td>\n",
       "      <td>Stoichiometry behavior of TaN, TaCN and TaC thin films produced by magnetron sputtering</td>\n",
       "      <td>Vargas, M and Castillo, HA and Restrepo-Parra, E and De La Cruz, W</td>\n",
       "      <td>{'HA Castillo': 'zWY_oxUAAAAJ', 'E Restrepo-Parra': '38WWKa4AAAAJ'}</td>\n",
       "      <td>44</td>\n",
       "      <td>Applied surface science</td>\n",
       "      <td>Elsevier</td>\n",
       "      <td></td>\n",
       "      <td>10.1016/j.apsusc.2013.03.028</td>\n",
       "      <td>2013</td>\n",
       "      <td>...</td>\n",
       "      <td>7--12</td>\n",
       "      <td>M Vargas, HA Castillo, E Restrepo-Parra… - Applied surface …, 2013 - Elsevier</td>\n",
       "      <td></td>\n",
       "      <td>Huu2xh3RT9IJ</td>\n",
       "      <td>0</td>\n",
       "      <td>@article{vargas2013stoichiometry,\\n  title={Stoichiometry behavior of TaN, TaCN and TaC thin films produced by magnetron sputtering},\\n  author={Vargas, M and Castillo, HA and Restrepo-Parra, E an...</td>\n",
       "      <td>Stoichiometry behavior of TaN, TaCN and TaC thin films produced by magnetron sputtering</td>\n",
       "      <td></td>\n",
       "      <td>2022-06-06 12:22:44</td>\n",
       "      <td>Stoichiometry behavior of TaN, TaCN and TaC thin films produced by magnetron sputtering</td>\n",
       "    </tr>\n",
       "    <tr>\n",
       "      <th>166975</th>\n",
       "      <td>{'$oid': '629115516f6a44dc7d6bdec3'}</td>\n",
       "      <td>Structural and optical study of indium and gallium arsenide nanostructures prepared by magnetron sputtering.</td>\n",
       "      <td>Jaramillo, S Torres and Pulzara-Mora, C and Bernal-Correa, R and de la Cerda, M Venegas and Gallardo-Hernández, S and López-López, M and Pulzara-Mora, A</td>\n",
       "      <td>{}</td>\n",
       "      <td>0</td>\n",
       "      <td>Universitas Scientiarum</td>\n",
       "      <td></td>\n",
       "      <td></td>\n",
       "      <td>10.11144/javeriana.sc24-3.saos</td>\n",
       "      <td>2019</td>\n",
       "      <td>...</td>\n",
       "      <td></td>\n",
       "      <td>ST Jaramillo, C Pulzara-Mora… - Universitas …, 2019 - search.ebscohost.com</td>\n",
       "      <td></td>\n",
       "      <td>j1caFFxAS9gJ</td>\n",
       "      <td>0</td>\n",
       "      <td>@article{jaramillo2019structural,\\n  title={Structural and optical study of indium and gallium arsenide nanostructures prepared by magnetron sputtering.},\\n  author={Jaramillo, S Torres and Pulzar...</td>\n",
       "      <td>Structural and optical study of indium and gallium arsenide nanostructures prepared by magnetron sputtering</td>\n",
       "      <td></td>\n",
       "      <td>2022-06-06 12:59:27</td>\n",
       "      <td>Structural and optical study of indium and gallium arsenide nanostructures prepared by magnetron sputtering.</td>\n",
       "    </tr>\n",
       "    <tr>\n",
       "      <th>169002</th>\n",
       "      <td>{'$oid': '629b75546f6a44dc7d6c48d8'}</td>\n",
       "      <td>Tribology of ZrN, CrN and TiAlN thin films deposited by reactive magnetron sputtering</td>\n",
       "      <td>Ruden, Alexander and Gonzalez, Juan M and Restrepo, Johans S and Cano, Michell F and Sequeda, Federico</td>\n",
       "      <td>{'A Ruden': 'FBBYoRMAAAAJ', 'JM Gonzalez': 'crPh4hkAAAAJ', 'MF Cano': 'TL0n3owAAAAJ'}</td>\n",
       "      <td>77</td>\n",
       "      <td>Dyna</td>\n",
       "      <td>2006, Revista DYNA</td>\n",
       "      <td></td>\n",
       "      <td></td>\n",
       "      <td>2013</td>\n",
       "      <td>...</td>\n",
       "      <td>95--100</td>\n",
       "      <td>A Ruden, JM Gonzalez, JS Restrepo, MF Cano… - Dyna, 2013 - scielo.org.co</td>\n",
       "      <td>http://www.scielo.org.co/scielo.php?pid=S0012-73532013000200012&amp;script=sci_arttext&amp;tlng=en</td>\n",
       "      <td>U9NL3f7PyfMJ</td>\n",
       "      <td>0</td>\n",
       "      <td>@article{ruden2013tribology,\\n  title={Tribology of ZrN, CrN and TiAlN thin films deposited by reactive magnetron sputtering},\\n  author={Ruden, Alexander and Gonzalez, Juan M and Restrepo, Johans...</td>\n",
       "      <td>TRIBOLOGY OF ZrN, CrN AND TiAlN THIN FILMS DEPOSITED BY REACTIVE MAGNETRON SPUTTERING</td>\n",
       "      <td></td>\n",
       "      <td>2022-06-06 16:41:25</td>\n",
       "      <td>Tribology of ZrN, CrN and TiAlN thin films deposited by reactive magnetron sputtering</td>\n",
       "    </tr>\n",
       "    <tr>\n",
       "      <th>172563</th>\n",
       "      <td>{'$oid': '62a2714a6f6a44dc7d6cab92'}</td>\n",
       "      <td>Growth and characterization of Rhenium Nitride coatings produced by reactive magnetron sputtering</td>\n",
       "      <td>Arroyave, M and Bejarano, G and David, J and Hernandez, J</td>\n",
       "      <td>{'M Arroyave': 'iJbE4awAAAAJ'}</td>\n",
       "      <td>1</td>\n",
       "      <td>Thin Solid Films</td>\n",
       "      <td>Elsevier</td>\n",
       "      <td></td>\n",
       "      <td>10.1016/j.tsf.2021.138809</td>\n",
       "      <td>2021</td>\n",
       "      <td>...</td>\n",
       "      <td>138809</td>\n",
       "      <td>M Arroyave, G Bejarano, J David, J Hernandez - Thin Solid Films, 2021 - Elsevier</td>\n",
       "      <td></td>\n",
       "      <td>GNDT8vn3H9IJ</td>\n",
       "      <td>0</td>\n",
       "      <td>@article{arroyave2021growth,\\n  title={Growth and characterization of Rhenium Nitride coatings produced by reactive magnetron sputtering},\\n  author={Arroyave, M and Bejarano, G and David, J and H...</td>\n",
       "      <td>Growth and characterization of Rhenium Nitride coatings produced by reactive magnetron sputtering</td>\n",
       "      <td></td>\n",
       "      <td>2022-06-10 02:17:36</td>\n",
       "      <td>Growth and characterization of Rhenium Nitride coatings produced by reactive magnetron sputtering</td>\n",
       "    </tr>\n",
       "    <tr>\n",
       "      <th>178257</th>\n",
       "      <td>{'$oid': '62a2714a6f6a44dc7d6cd6c3'}</td>\n",
       "      <td>Electrochemical Properties of TiWN/TiWC Multilayer Coatings Deposited by RF-Magnetron Sputtering on AISI 1060</td>\n",
       "      <td>González-Hernández, Andrés and Morales-Cepeda, Ana Beatriz and Flores, Martı́n and Caicedo, Julio C and Aperador, William and Amaya, César</td>\n",
       "      <td>{'AB Morales-Cepeda': 'EVw6kw8AAAAJ', 'M Flores': 'kTFhP_AAAAAJ'}</td>\n",
       "      <td>2</td>\n",
       "      <td>Coatings</td>\n",
       "      <td>Multidisciplinary Digital Publishing Institute</td>\n",
       "      <td></td>\n",
       "      <td>10.3390/coatings11070797</td>\n",
       "      <td>2021</td>\n",
       "      <td>...</td>\n",
       "      <td>797</td>\n",
       "      <td>A González-Hernández, AB Morales-Cepeda, M Flores… - Coatings, 2021 - mdpi.com</td>\n",
       "      <td>https://www.mdpi.com/2079-6412/11/7/797/pdf</td>\n",
       "      <td>F6bxS8NaRzsJ</td>\n",
       "      <td>0</td>\n",
       "      <td>@article{gonzalez2021electrochemical,\\n  title={Electrochemical Properties of TiWN/TiWC Multilayer Coatings Deposited by RF-Magnetron Sputtering on AISI 1060},\\n  author={Gonz{\\'a}lez-Hern{\\'a}nde...</td>\n",
       "      <td>Electrochemical Properties of TiWN/TiWC Multilayer Coatings Deposited by RF-Magnetron Sputtering on AISI 1060</td>\n",
       "      <td></td>\n",
       "      <td>2022-06-10 18:37:31</td>\n",
       "      <td>Electrochemical Properties of TiWN/TiWC Multilayer Coatings Deposited by RF-Magnetron Sputtering on AISI 1060</td>\n",
       "    </tr>\n",
       "  </tbody>\n",
       "</table>\n",
       "<p>95 rows × 22 columns</p>\n",
       "</div>"
      ],
      "text/plain": [
       "                                         _id  \\\n",
       "9461    {'$oid': '629115516f6a44dc7d6b9715'}   \n",
       "10088   {'$oid': '629115516f6a44dc7d6aaf65'}   \n",
       "14755   {'$oid': '629115516f6a44dc7d6b33a6'}   \n",
       "15733   {'$oid': '629115506f6a44dc7d6a0f5b'}   \n",
       "19303   {'$oid': '629115506f6a44dc7d69d464'}   \n",
       "...                                      ...   \n",
       "166662  {'$oid': '629115516f6a44dc7d6aa885'}   \n",
       "166975  {'$oid': '629115516f6a44dc7d6bdec3'}   \n",
       "169002  {'$oid': '629b75546f6a44dc7d6c48d8'}   \n",
       "172563  {'$oid': '62a2714a6f6a44dc7d6cab92'}   \n",
       "178257  {'$oid': '62a2714a6f6a44dc7d6cd6c3'}   \n",
       "\n",
       "                                                                                                                                                        title  \\\n",
       "9461                                                                            Deposition of B4C/BCN/c-BN multilayered thin films by rf magnetron sputtering   \n",
       "10088       Bias voltage influence on the mechanical and tribological properties of titaniumaluminum nitride coatings produced by triode magnetron sputtering   \n",
       "14755                          Synthesis and microstructural characterization of nanoscale multilayer TiAlN/TaN coatings deposited by DC magnetron sputtering   \n",
       "15733                                      Optical emission spectroscopy study of rf magnetron sputtering discharge used for multilayers thin film deposition   \n",
       "19303   Microstructural and electrochemical properties of TiAlN (Ag, Cu) nanocomposite coatings for medical applications deposited by dc magnetron sputtering   \n",
       "...                                                                                                                                                       ...   \n",
       "166662                                                                Stoichiometry behavior of TaN, TaCN and TaC thin films produced by magnetron sputtering   \n",
       "166975                                           Structural and optical study of indium and gallium arsenide nanostructures prepared by magnetron sputtering.   \n",
       "169002                                                                  Tribology of ZrN, CrN and TiAlN thin films deposited by reactive magnetron sputtering   \n",
       "172563                                                      Growth and characterization of Rhenium Nitride coatings produced by reactive magnetron sputtering   \n",
       "178257                                          Electrochemical Properties of TiWN/TiWC Multilayer Coatings Deposited by RF-Magnetron Sputtering on AISI 1060   \n",
       "\n",
       "                                                                                                                                                          author  \\\n",
       "9461                                                                          Bejarano, G and Caicedo, JM and Baca, E and Prieto, P and Balogh, AG and Enders, S   \n",
       "10088                                                                 Narvaez, Diana Marcela Devia and Restrepo, Juan Manuel Velez and Parra, Elisabeth Restrepo   \n",
       "14755                                                                                                Contreras, Elbert and Bejarano, Gilberto and Gómez, Maryory   \n",
       "15733                                                                        Zambrano, G and Riascos, H and Prieto, P and Restrepo, E and Devia, A and Rincón, C   \n",
       "19303                                                                                Echavarrı́a, Aida M and Calderón, Jorge A and Bejarano, Gilberto and others   \n",
       "...                                                                                                                                                          ...   \n",
       "166662                                                                                        Vargas, M and Castillo, HA and Restrepo-Parra, E and De La Cruz, W   \n",
       "166975  Jaramillo, S Torres and Pulzara-Mora, C and Bernal-Correa, R and de la Cerda, M Venegas and Gallardo-Hernández, S and López-López, M and Pulzara-Mora, A   \n",
       "169002                                                    Ruden, Alexander and Gonzalez, Juan M and Restrepo, Johans S and Cano, Michell F and Sequeda, Federico   \n",
       "172563                                                                                                 Arroyave, M and Bejarano, G and David, J and Hernandez, J   \n",
       "178257                González-Hernández, Andrés and Morales-Cepeda, Ana Beatriz and Flores, Martı́n and Caicedo, Julio C and Aperador, William and Amaya, César   \n",
       "\n",
       "                                                                                                                     profiles  \\\n",
       "9461                                                                                             {'P Prieto': 'No9Tvc0AAAAJ'}   \n",
       "10088                                                             {'DMD Narvaez': 'M7FEGfcAAAAJ', 'ER Parra': '38WWKa4AAAAJ'}   \n",
       "14755                                                              {'E Contreras': '8DK_RmIAAAAJ', 'M Gómez': 'U_2Xx_cAAAAJ'}   \n",
       "15733   {'G Zambrano': '_pKqWdgAAAAJ', 'H Riascos': 'qiLK9MsAAAAJ', 'P Prieto': 'No9Tvc0AAAAJ', 'E Restrepo': '38WWKa4AAAAJ'}   \n",
       "19303                                                        {'AM Echavarría': 'mN61HbgAAAAJ', 'JA Calderón': 'wZre-UoAAAAJ'}   \n",
       "...                                                                                                                       ...   \n",
       "166662                                                    {'HA Castillo': 'zWY_oxUAAAAJ', 'E Restrepo-Parra': '38WWKa4AAAAJ'}   \n",
       "166975                                                                                                                     {}   \n",
       "169002                                  {'A Ruden': 'FBBYoRMAAAAJ', 'JM Gonzalez': 'crPh4hkAAAAJ', 'MF Cano': 'TL0n3owAAAAJ'}   \n",
       "172563                                                                                         {'M Arroyave': 'iJbE4awAAAAJ'}   \n",
       "178257                                                      {'AB Morales-Cepeda': 'EVw6kw8AAAAJ', 'M Flores': 'kTFhP_AAAAAJ'}   \n",
       "\n",
       "        cites                                                         journal  \\\n",
       "9461       42                                                Thin Solid Films   \n",
       "10088       5                                        Matéria (Rio de Janeiro)   \n",
       "14755       7  The International Journal of Advanced Manufacturing Technology   \n",
       "15733      73                                 Surface and Coatings Technology   \n",
       "19303      14                                 Journal of Alloys and Compounds   \n",
       "...       ...                                                             ...   \n",
       "166662     44                                         Applied surface science   \n",
       "166975      0                                         Universitas Scientiarum   \n",
       "169002     77                                                            Dyna   \n",
       "172563      1                                                Thin Solid Films   \n",
       "178257      2                                                        Coatings   \n",
       "\n",
       "                                             publisher country  \\\n",
       "9461                                          Elsevier           \n",
       "10088                                    SciELO Brasil           \n",
       "14755                                         Springer           \n",
       "15733                                         Elsevier           \n",
       "19303                                         Elsevier           \n",
       "...                                                ...     ...   \n",
       "166662                                        Elsevier           \n",
       "166975                                                           \n",
       "169002                              2006, Revista DYNA           \n",
       "172563                                        Elsevier           \n",
       "178257  Multidisciplinary Digital Publishing Institute           \n",
       "\n",
       "                                    doi  year  ...     pages  \\\n",
       "9461          10.1016/j.tsf.2005.08.192  2006  ...    53--57   \n",
       "10088   10.1590/s1517-707620150001.0013  2015  ...  115--126   \n",
       "14755         10.1007/s00170-018-2972-z  2019  ...  663--673   \n",
       "15733     10.1016/s0257-8972(03)00339-6  2003  ...  144--149   \n",
       "19303     10.1016/j.jallcom.2020.154396  2020  ...    154396   \n",
       "...                                 ...   ...  ...       ...   \n",
       "166662     10.1016/j.apsusc.2013.03.028  2013  ...     7--12   \n",
       "166975   10.11144/javeriana.sc24-3.saos  2019  ...             \n",
       "169002                                   2013  ...   95--100   \n",
       "172563        10.1016/j.tsf.2021.138809  2021  ...    138809   \n",
       "178257         10.3390/coatings11070797  2021  ...       797   \n",
       "\n",
       "                                                                                             ref  \\\n",
       "9461    G Bejarano, JM Caicedo, E Baca, P Prieto, AG Balogh… - Thin Solid Films, 2006 - Elsevier   \n",
       "10088       DMD Narvaez, JMV Restrepo, ER Parra - Matéria (Rio de Janeiro), 2015 - SciELO Brasil   \n",
       "14755         E Contreras, G Bejarano, M Gómez - The International Journal of …, 2019 - Springer   \n",
       "15733     G Zambrano, H Riascos, P Prieto, E Restrepo… - Surface and Coatings …, 2003 - Elsevier   \n",
       "19303          AM Echavarría, JA Calderón, G Bejarano - Journal of Alloys and …, 2020 - Elsevier   \n",
       "...                                                                                          ...   \n",
       "166662             M Vargas, HA Castillo, E Restrepo-Parra… - Applied surface …, 2013 - Elsevier   \n",
       "166975                ST Jaramillo, C Pulzara-Mora… - Universitas …, 2019 - search.ebscohost.com   \n",
       "169002                  A Ruden, JM Gonzalez, JS Restrepo, MF Cano… - Dyna, 2013 - scielo.org.co   \n",
       "172563          M Arroyave, G Bejarano, J David, J Hernandez - Thin Solid Films, 2021 - Elsevier   \n",
       "178257            A González-Hernández, AB Morales-Cepeda, M Flores… - Coatings, 2021 - mdpi.com   \n",
       "\n",
       "                                                                                                                  pdf  \\\n",
       "9461                                                                                                                    \n",
       "10088                                                 https://www.scielo.br/j/rmat/a/kKZk3MksMqj9dsxyYwPtcpB/?lang=en   \n",
       "14755                                                                                                                   \n",
       "15733   https://www.academia.edu/download/48831954/Optical_emission_spectroscopy_study_of_r20160914-27565-1ikijfx.pdf   \n",
       "19303                                                                                                                   \n",
       "...                                                                                                               ...   \n",
       "166662                                                                                                                  \n",
       "166975                                                                                                                  \n",
       "169002                     http://www.scielo.org.co/scielo.php?pid=S0012-73532013000200012&script=sci_arttext&tlng=en   \n",
       "172563                                                                                                                  \n",
       "178257                                                                    https://www.mdpi.com/2079-6412/11/7/797/pdf   \n",
       "\n",
       "                 cid rp  \\\n",
       "9461    6LmD1iuJqlIJ  0   \n",
       "10088   aU82BdUzgR4J  0   \n",
       "14755   rcrRAxUENk8J  0   \n",
       "15733   Sp7xcsfx8vMJ  0   \n",
       "19303   ZzsqWYWS604J  0   \n",
       "...              ... ..   \n",
       "166662  Huu2xh3RT9IJ  0   \n",
       "166975  j1caFFxAS9gJ  0   \n",
       "169002  U9NL3f7PyfMJ  0   \n",
       "172563  GNDT8vn3H9IJ  0   \n",
       "178257  F6bxS8NaRzsJ  0   \n",
       "\n",
       "                                                                                                                                                                                                         bibtex  \\\n",
       "9461    @article{bejarano2006deposition,\\n  title={Deposition of B4C/BCN/c-BN multilayered thin films by rf magnetron sputtering},\\n  author={Bejarano, G and Caicedo, JM and Baca, E and Prieto, P and Balo...   \n",
       "10088   @article{narvaez2015bias,\\n  title={Bias voltage influence on the mechanical and tribological properties of titaniumaluminum nitride coatings produced by triode magnetron sputtering},\\n  author={N...   \n",
       "14755   @article{contreras2019synthesis,\\n  title={Synthesis and microstructural characterization of nanoscale multilayer TiAlN/TaN coatings deposited by DC magnetron sputtering},\\n  author={Contreras, El...   \n",
       "15733   @article{zambrano2003optical,\\n  title={Optical emission spectroscopy study of rf magnetron sputtering discharge used for multilayers thin film deposition},\\n  author={Zambrano, G and Riascos, H a...   \n",
       "19303   @article{echavarria2020microstructural,\\n  title={Microstructural and electrochemical properties of TiAlN (Ag, Cu) nanocomposite coatings for medical applications deposited by dc magnetron sputter...   \n",
       "...                                                                                                                                                                                                         ...   \n",
       "166662  @article{vargas2013stoichiometry,\\n  title={Stoichiometry behavior of TaN, TaCN and TaC thin films produced by magnetron sputtering},\\n  author={Vargas, M and Castillo, HA and Restrepo-Parra, E an...   \n",
       "166975  @article{jaramillo2019structural,\\n  title={Structural and optical study of indium and gallium arsenide nanostructures prepared by magnetron sputtering.},\\n  author={Jaramillo, S Torres and Pulzar...   \n",
       "169002  @article{ruden2013tribology,\\n  title={Tribology of ZrN, CrN and TiAlN thin films deposited by reactive magnetron sputtering},\\n  author={Ruden, Alexander and Gonzalez, Juan M and Restrepo, Johans...   \n",
       "172563  @article{arroyave2021growth,\\n  title={Growth and characterization of Rhenium Nitride coatings produced by reactive magnetron sputtering},\\n  author={Arroyave, M and Bejarano, G and David, J and H...   \n",
       "178257  @article{gonzalez2021electrochemical,\\n  title={Electrochemical Properties of TiWN/TiWC Multilayer Coatings Deposited by RF-Magnetron Sputtering on AISI 1060},\\n  author={Gonz{\\'a}lez-Hern{\\'a}nde...   \n",
       "\n",
       "                                                                                                                                                  old_title  \\\n",
       "9461                                                                        Deposition of B4C/BCN/c-BN multilayered thin films by r.f. magnetron sputtering   \n",
       "10088     Bias voltage influence on the mechanical and tribological properties of titaniumaluminum nitride coatings produced by triode magnetron sputtering   \n",
       "14755                        Synthesis and microstructural characterization of nanoscale multilayer TiAlN/TaN coatings deposited by DC magnetron sputtering   \n",
       "15733                                  Optical emission spectroscopy study of r.f. magnetron sputtering discharge used for multilayers thin film deposition   \n",
       "19303   Microstructural and electrochemical properties of TiAlN(Ag,Cu) nanocomposite coatings for medical applications deposited by dc magnetron sputtering   \n",
       "...                                                                                                                                                     ...   \n",
       "166662                                                              Stoichiometry behavior of TaN, TaCN and TaC thin films produced by magnetron sputtering   \n",
       "166975                                          Structural and optical study of indium and gallium arsenide nanostructures prepared by magnetron sputtering   \n",
       "169002                                                                TRIBOLOGY OF ZrN, CrN AND TiAlN THIN FILMS DEPOSITED BY REACTIVE MAGNETRON SPUTTERING   \n",
       "172563                                                    Growth and characterization of Rhenium Nitride coatings produced by reactive magnetron sputtering   \n",
       "178257                                        Electrochemical Properties of TiWN/TiWC Multilayer Coatings Deposited by RF-Magnetron Sputtering on AISI 1060   \n",
       "\n",
       "       article_id           timestamp  \\\n",
       "9461              2022-05-27 20:08:46   \n",
       "10088             2022-05-27 20:17:41   \n",
       "14755             2022-05-27 21:04:13   \n",
       "15733             2022-05-27 21:18:53   \n",
       "19303             2022-05-27 22:04:35   \n",
       "...           ...                 ...   \n",
       "166662            2022-06-06 12:22:44   \n",
       "166975            2022-06-06 12:59:27   \n",
       "169002            2022-06-06 16:41:25   \n",
       "172563            2022-06-10 02:17:36   \n",
       "178257            2022-06-10 18:37:31   \n",
       "\n",
       "                                                                                                                                                       Gtitle  \n",
       "9461                                                                            Deposition of B4C/BCN/c-BN multilayered thin films by rf magnetron sputtering  \n",
       "10088       Bias voltage influence on the mechanical and tribological properties of titaniumaluminum nitride coatings produced by triode magnetron sputtering  \n",
       "14755                          Synthesis and microstructural characterization of nanoscale multilayer TiAlN/TaN coatings deposited by DC magnetron sputtering  \n",
       "15733                                      Optical emission spectroscopy study of rf magnetron sputtering discharge used for multilayers thin film deposition  \n",
       "19303   Microstructural and electrochemical properties of TiAlN (Ag, Cu) nanocomposite coatings for medical applications deposited by dc magnetron sputtering  \n",
       "...                                                                                                                                                       ...  \n",
       "166662                                                                Stoichiometry behavior of TaN, TaCN and TaC thin films produced by magnetron sputtering  \n",
       "166975                                           Structural and optical study of indium and gallium arsenide nanostructures prepared by magnetron sputtering.  \n",
       "169002                                                                  Tribology of ZrN, CrN and TiAlN thin films deposited by reactive magnetron sputtering  \n",
       "172563                                                      Growth and characterization of Rhenium Nitride coatings produced by reactive magnetron sputtering  \n",
       "178257                                          Electrochemical Properties of TiWN/TiWC Multilayer Coatings Deposited by RF-Magnetron Sputtering on AISI 1060  \n",
       "\n",
       "[95 rows x 22 columns]"
      ]
     },
     "execution_count": 189,
     "metadata": {},
     "output_type": "execute_result"
    }
   ],
   "source": [
    "co[co.title.str.lower().apply(unidecode).str.contains('magnetron sputtering' )]"
   ]
  },
  {
   "cell_type": "code",
   "execution_count": null,
   "id": "d5fe05e1-2b65-46b8-9669-dfde6b5c0e38",
   "metadata": {},
   "outputs": [],
   "source": []
  }
 ],
 "metadata": {
  "kernelspec": {
   "display_name": "Python 3 (ipykernel)",
   "language": "python",
   "name": "python3"
  },
  "language_info": {
   "codemirror_mode": {
    "name": "ipython",
    "version": 3
   },
   "file_extension": ".py",
   "mimetype": "text/x-python",
   "name": "python",
   "nbconvert_exporter": "python",
   "pygments_lexer": "ipython3",
   "version": "3.9.2"
  }
 },
 "nbformat": 4,
 "nbformat_minor": 5
}
